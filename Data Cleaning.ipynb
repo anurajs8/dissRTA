{
 "cells": [
  {
   "cell_type": "code",
   "execution_count": 1,
   "id": "1aa57598",
   "metadata": {},
   "outputs": [],
   "source": [
    "import pandas as pd"
   ]
  },
  {
   "cell_type": "code",
   "execution_count": 2,
   "id": "e86eda18",
   "metadata": {},
   "outputs": [
    {
     "name": "stderr",
     "output_type": "stream",
     "text": [
      "C:\\Users\\anura\\AppData\\Local\\Temp\\ipykernel_7928\\3138488516.py:2: DtypeWarning: Columns (0,2,24) have mixed types. Specify dtype option on import or set low_memory=False.\n",
      "  df1 = pd.read_csv('D:/Dissertation/Dataset/Analysis/dft-road-casualty-statistics-vehicle-last-5-years.csv')\n"
     ]
    }
   ],
   "source": [
    "# Load the Vehicle dataset\n",
    "df1 = pd.read_csv('D:/Dissertation/Dataset/Analysis/dft-road-casualty-statistics-vehicle-last-5-years.csv')\n",
    "\n",
    "# Load the Safety Ratings dataset \n",
    "df2 = pd.read_csv('D:/Dissertation/Dataset/Analysis/unique_comb.csv')"
   ]
  },
  {
   "cell_type": "code",
   "execution_count": 3,
   "id": "663488f0",
   "metadata": {},
   "outputs": [],
   "source": [
    "# Merge the datasets based on common columns(age_of_vehicle' and 'generic_make_model') \n",
    "merged_df = pd.merge(df1, df2, on=['age_of_vehicle', 'generic_make_model'], how='left')"
   ]
  },
  {
   "cell_type": "code",
   "execution_count": 4,
   "id": "a99e2551",
   "metadata": {},
   "outputs": [
    {
     "name": "stdout",
     "output_type": "stream",
     "text": [
      "Row count of df1 before merging: 1035534\n",
      "Row count of df2 before merging: 9598\n",
      "Row count of merged dataset: 1035534\n"
     ]
    }
   ],
   "source": [
    "# Display row counts before merging\n",
    "row_count_before_merge_df1 = len(df1)\n",
    "row_count_before_merge_df2 = len(df2)\n",
    "# Display row count after merging\n",
    "row_count_after_merge = len(merged_df)\n",
    "print(f\"Row count of df1 before merging: {row_count_before_merge_df1}\")\n",
    "print(f\"Row count of df2 before merging: {row_count_before_merge_df2}\")\n",
    "print(f\"Row count of merged dataset: {row_count_after_merge}\")"
   ]
  },
  {
   "cell_type": "code",
   "execution_count": 21,
   "id": "a15e3716",
   "metadata": {},
   "outputs": [
    {
     "name": "stdout",
     "output_type": "stream",
     "text": [
      "Row count of df1 before merging: 28\n",
      "Row count of df2 before merging: 3\n",
      "Row count of merged dataset: 29\n"
     ]
    }
   ],
   "source": [
    "# Display column counts before merging\n",
    "column_count_before_merge_df1 = len(df1.columns)\n",
    "column_count_before_merge_df2 = len(df2.columns)\n",
    "# Display column count after merging\n",
    "column_count_after_merge = len(merged_df.columns)\n",
    "print(f\"Column count of df1 before merging: {column_count_before_merge_df1}\")\n",
    "print(f\"Column count of df2 before merging: {column_count_before_merge_df2}\")\n",
    "print(f\"Column count of merged dataset: {column_count_after_merge}\")"
   ]
  },
  {
   "cell_type": "code",
   "execution_count": 5,
   "id": "3377429a",
   "metadata": {},
   "outputs": [
    {
     "name": "stderr",
     "output_type": "stream",
     "text": [
      "C:\\Users\\anura\\AppData\\Local\\Temp\\ipykernel_7928\\865393672.py:2: DtypeWarning: Columns (0,2) have mixed types. Specify dtype option on import or set low_memory=False.\n",
      "  accident_df = pd.read_csv('D:/Dissertation/Dataset/Analysis/dft-road-casualty-statistics-accident-last-5-years.csv')\n"
     ]
    }
   ],
   "source": [
    "# Load the accident dataset\n",
    "accident_df = pd.read_csv('D:/Dissertation/Dataset/Analysis/dft-road-casualty-statistics-accident-last-5-years.csv')"
   ]
  },
  {
   "cell_type": "code",
   "execution_count": 22,
   "id": "379e9ee5",
   "metadata": {},
   "outputs": [
    {
     "name": "stdout",
     "output_type": "stream",
     "text": [
      "Column count of df1 before merging: 36\n"
     ]
    }
   ],
   "source": [
    "#Display column counts before cleaning\n",
    "column_count_before_cleaning = len(accident_df.columns)\n",
    "print(f\"Column count of df1 before merging: {column_count_before_cleaning}\")"
   ]
  },
  {
   "cell_type": "code",
   "execution_count": 6,
   "id": "b8f6fd85",
   "metadata": {},
   "outputs": [],
   "source": [
    "# Convert date and time columns to datetime data types\n",
    "accident_df['date'] = pd.to_datetime(accident_df['date'], infer_datetime_format=True, dayfirst=True)\n",
    "accident_df['time'] = pd.to_datetime(accident_df['time'])\n",
    "# Extract year, month, and day information from the 'date' column\n",
    "accident_df['year'] = accident_df['date'].dt.year\n",
    "accident_df['month'] = accident_df['date'].dt.month\n",
    "accident_df['day'] = accident_df['date'].dt.day\n",
    "accident_df['day_of_week'] = accident_df['date'].dt.dayofweek\n",
    "accident_df['hour_of_day'] = accident_df['time'].apply(lambda x: x.hour)"
   ]
  },
  {
   "cell_type": "code",
   "execution_count": 8,
   "id": "08a14731",
   "metadata": {},
   "outputs": [],
   "source": [
    "accident_df.drop(['date', 'time'], axis=1, inplace=True)\n",
    "accident_df.drop(['location_easting_osgr', 'location_northing_osgr'], axis=1, inplace=True)\n"
   ]
  },
  {
   "cell_type": "code",
   "execution_count": 14,
   "id": "2085379a",
   "metadata": {},
   "outputs": [],
   "source": [
    "accident_df['longitude'] = accident_df['longitude'].round()\n",
    "accident_df['latitude'] = accident_df['latitude'].round()"
   ]
  },
  {
   "cell_type": "code",
   "execution_count": 19,
   "id": "4f1a0fa9",
   "metadata": {},
   "outputs": [
    {
     "data": {
      "text/plain": [
       "accident_index                                  object\n",
       "accident_year                                    int64\n",
       "accident_reference                              object\n",
       "longitude                                      float64\n",
       "latitude                                       float64\n",
       "police_force                                     int64\n",
       "accident_severity                                int64\n",
       "number_of_vehicles                               int64\n",
       "number_of_casualties                             int64\n",
       "day_of_week                                      int64\n",
       "local_authority_district                         int64\n",
       "local_authority_ons_district                    object\n",
       "local_authority_highway                         object\n",
       "first_road_class                                 int64\n",
       "first_road_number                                int64\n",
       "road_type                                        int64\n",
       "speed_limit                                      int64\n",
       "junction_detail                                  int64\n",
       "junction_control                                 int64\n",
       "second_road_class                                int64\n",
       "second_road_number                               int64\n",
       "pedestrian_crossing_human_control                int64\n",
       "pedestrian_crossing_physical_facilities          int64\n",
       "light_conditions                                 int64\n",
       "weather_conditions                               int64\n",
       "road_surface_conditions                          int64\n",
       "special_conditions_at_site                       int64\n",
       "carriageway_hazards                              int64\n",
       "urban_or_rural_area                              int64\n",
       "did_police_officer_attend_scene_of_accident      int64\n",
       "trunk_road_flag                                  int64\n",
       "lsoa_of_accident_location                       object\n",
       "year                                             int64\n",
       "month                                            int64\n",
       "day                                              int64\n",
       "hour_of_day                                      int64\n",
       "dtype: object"
      ]
     },
     "execution_count": 19,
     "metadata": {},
     "output_type": "execute_result"
    }
   ],
   "source": [
    "accident_df.dtypes"
   ]
  },
  {
   "cell_type": "code",
   "execution_count": 23,
   "id": "beccafb9",
   "metadata": {},
   "outputs": [],
   "source": [
    "combined_df = accident_df.merge(merged_df, on='accident_index', how='inner')"
   ]
  },
  {
   "cell_type": "code",
   "execution_count": 29,
   "id": "1896c974",
   "metadata": {},
   "outputs": [
    {
     "name": "stdout",
     "output_type": "stream",
     "text": [
      "Row count of df1 before merging: 562439\n",
      "Row count of df2 before merging: 1035534\n",
      "Row count of merged dataset: 830704\n"
     ]
    }
   ],
   "source": [
    "# Display row counts before merging\n",
    "row_count_before_merge_df1 = len(accident_df)\n",
    "row_count_before_merge_df2 = len(merged_df)\n",
    "# Display row count after merging\n",
    "row_count_after_merge = len(combined_df)\n",
    "print(f\"Row count of df1 before merging: {row_count_before_merge_df1}\")\n",
    "print(f\"Row count of df2 before merging: {row_count_before_merge_df2}\")\n",
    "print(f\"Row count of merged dataset: {row_count_after_merge}\")"
   ]
  },
  {
   "cell_type": "code",
   "execution_count": 32,
   "id": "be396a10",
   "metadata": {},
   "outputs": [
    {
     "data": {
      "text/html": [
       "<div>\n",
       "<style scoped>\n",
       "    .dataframe tbody tr th:only-of-type {\n",
       "        vertical-align: middle;\n",
       "    }\n",
       "\n",
       "    .dataframe tbody tr th {\n",
       "        vertical-align: top;\n",
       "    }\n",
       "\n",
       "    .dataframe thead th {\n",
       "        text-align: right;\n",
       "    }\n",
       "</style>\n",
       "<table border=\"1\" class=\"dataframe\">\n",
       "  <thead>\n",
       "    <tr style=\"text-align: right;\">\n",
       "      <th></th>\n",
       "      <th>engine_capacity_cc</th>\n",
       "      <th>engine_capacity_cc_binned</th>\n",
       "      <th>age_of_vehicle</th>\n",
       "      <th>age_of_vehicle_binned</th>\n",
       "    </tr>\n",
       "  </thead>\n",
       "  <tbody>\n",
       "    <tr>\n",
       "      <th>0</th>\n",
       "      <td>1997</td>\n",
       "      <td>1001-2000</td>\n",
       "      <td>1</td>\n",
       "      <td>0-5</td>\n",
       "    </tr>\n",
       "    <tr>\n",
       "      <th>1</th>\n",
       "      <td>-1</td>\n",
       "      <td>NaN</td>\n",
       "      <td>-1</td>\n",
       "      <td>NaN</td>\n",
       "    </tr>\n",
       "    <tr>\n",
       "      <th>2</th>\n",
       "      <td>1797</td>\n",
       "      <td>1001-2000</td>\n",
       "      <td>8</td>\n",
       "      <td>6-10</td>\n",
       "    </tr>\n",
       "    <tr>\n",
       "      <th>3</th>\n",
       "      <td>2204</td>\n",
       "      <td>2001-3000</td>\n",
       "      <td>12</td>\n",
       "      <td>11-15</td>\n",
       "    </tr>\n",
       "    <tr>\n",
       "      <th>4</th>\n",
       "      <td>-1</td>\n",
       "      <td>NaN</td>\n",
       "      <td>-1</td>\n",
       "      <td>NaN</td>\n",
       "    </tr>\n",
       "  </tbody>\n",
       "</table>\n",
       "</div>"
      ],
      "text/plain": [
       "   engine_capacity_cc engine_capacity_cc_binned  age_of_vehicle  \\\n",
       "0                1997                 1001-2000               1   \n",
       "1                  -1                       NaN              -1   \n",
       "2                1797                 1001-2000               8   \n",
       "3                2204                 2001-3000              12   \n",
       "4                  -1                       NaN              -1   \n",
       "\n",
       "  age_of_vehicle_binned  \n",
       "0                   0-5  \n",
       "1                   NaN  \n",
       "2                  6-10  \n",
       "3                 11-15  \n",
       "4                   NaN  "
      ]
     },
     "execution_count": 32,
     "metadata": {},
     "output_type": "execute_result"
    }
   ],
   "source": [
    "import numpy as np\n",
    "# Define bins for 'engine_capacity_cc'\n",
    "bins_engine_capacity = [0, 1000, 2000, 3000, 4000, 5000, np.inf]\n",
    "labels_engine_capacity = ['0-1000', '1001-2000', '2001-3000', '3001-4000', '4001-5000', '5001+']\n",
    "combined_df['engine_capacity_cc_binned'] = pd.cut(combined_df['engine_capacity_cc'], bins=bins_engine_capacity, labels=labels_engine_capacity, include_lowest=True)\n",
    "\n",
    "# Define bins for 'age_of_vehicle'\n",
    "bins_age_of_vehicle = [0, 5, 10, 15, 20, 25, np.inf]\n",
    "labels_age_of_vehicle = ['0-5', '6-10', '11-15', '16-20', '21-25', '26+']\n",
    "combined_df['age_of_vehicle_binned'] = pd.cut(combined_df['age_of_vehicle'], bins=bins_age_of_vehicle, labels=labels_age_of_vehicle, include_lowest=True)\n",
    "\n",
    "from sklearn.preprocessing import LabelEncoder\n",
    "\n",
    "# Initialize the LabelEncoder\n",
    "le = LabelEncoder()\n",
    "\n",
    "# Label encode and then add 1 to each value to start from 1\n",
    "combined_df['engine_capacity_cc_binned'] = le.fit_transform(combined_df['engine_capacity_cc_binned']) + 1\n",
    "combined_df['age_of_vehicle_binned'] = le.fit_transform(combined_df['age_of_vehicle_binned']) + 1\n",
    "\n",
    "\n"
   ]
  },
  {
   "cell_type": "code",
   "execution_count": 37,
   "id": "b3e0fae9",
   "metadata": {},
   "outputs": [],
   "source": [
    "columns_to_drop = [\n",
    "    'accident_index', 'accident_year_x', 'accident_reference_x',\n",
    "    'longitude', 'latitude', 'police_force', 'local_authority_district',\n",
    "    'local_authority_ons_district', 'local_authority_highway',\n",
    "    'first_road_number', 'first_road_number',\n",
    "    'did_police_officer_attend_scene_of_accident', 'lsoa_of_accident_location',\n",
    "    'day_of_week', 'year', 'month', 'day',\n",
    "    'hour_of_day', 'accident_year_y', 'accident_reference_y',\n",
    "    'vehicle_reference', 'age_of_driver', 'engine_capacity_cc',\n",
    "    'age_of_vehicle', 'generic_make_model', 'lsoa_of_driver','second_road_class', 'second_road_number'\n",
    "]\n",
    "\n",
    "combined_df.drop(columns=columns_to_drop, inplace=True)\n"
   ]
  },
  {
   "cell_type": "code",
   "execution_count": 39,
   "id": "b7a2d572",
   "metadata": {},
   "outputs": [],
   "source": [
    "combined_df.rename(columns={'engine_capacity_cc_binned': 'engine_capacity_cc', 'age_of_vehicle_binned': 'age_of_vehicle'}, inplace=True)\n"
   ]
  },
  {
   "cell_type": "code",
   "execution_count": 40,
   "id": "d246c55d",
   "metadata": {},
   "outputs": [
    {
     "data": {
      "text/plain": [
       "Index(['accident_severity', 'number_of_vehicles', 'number_of_casualties',\n",
       "       'first_road_class', 'road_type', 'speed_limit', 'junction_detail',\n",
       "       'junction_control', 'second_road_class', 'second_road_number',\n",
       "       'pedestrian_crossing_human_control',\n",
       "       'pedestrian_crossing_physical_facilities', 'light_conditions',\n",
       "       'weather_conditions', 'road_surface_conditions',\n",
       "       'special_conditions_at_site', 'carriageway_hazards',\n",
       "       'urban_or_rural_area', 'trunk_road_flag', 'vehicle_type',\n",
       "       'towing_and_articulation', 'vehicle_manoeuvre',\n",
       "       'vehicle_direction_from', 'vehicle_direction_to',\n",
       "       'vehicle_location_restricted_lane', 'junction_location',\n",
       "       'skidding_and_overturning', 'hit_object_in_carriageway',\n",
       "       'vehicle_leaving_carriageway', 'hit_object_off_carriageway',\n",
       "       'first_point_of_impact', 'vehicle_left_hand_drive',\n",
       "       'journey_purpose_of_driver', 'sex_of_driver', 'age_band_of_driver',\n",
       "       'propulsion_code', 'driver_imd_decile', 'driver_home_area_type',\n",
       "       'Safety Rating', 'engine_capacity_cc', 'age_of_vehicle'],\n",
       "      dtype='object')"
      ]
     },
     "execution_count": 40,
     "metadata": {},
     "output_type": "execute_result"
    }
   ],
   "source": [
    "combined_df.columns"
   ]
  },
  {
   "cell_type": "code",
   "execution_count": 41,
   "id": "e355370d",
   "metadata": {},
   "outputs": [
    {
     "data": {
      "text/plain": [
       "accident_severity                               0\n",
       "number_of_vehicles                              0\n",
       "number_of_casualties                            0\n",
       "first_road_class                                0\n",
       "road_type                                       0\n",
       "speed_limit                                     0\n",
       "junction_detail                                 0\n",
       "junction_control                                0\n",
       "second_road_class                               0\n",
       "second_road_number                              0\n",
       "pedestrian_crossing_human_control               0\n",
       "pedestrian_crossing_physical_facilities         0\n",
       "light_conditions                                0\n",
       "weather_conditions                              0\n",
       "road_surface_conditions                         0\n",
       "special_conditions_at_site                      0\n",
       "carriageway_hazards                             0\n",
       "urban_or_rural_area                             0\n",
       "trunk_road_flag                                 0\n",
       "vehicle_type                                    0\n",
       "towing_and_articulation                         0\n",
       "vehicle_manoeuvre                               0\n",
       "vehicle_direction_from                          0\n",
       "vehicle_direction_to                            0\n",
       "vehicle_location_restricted_lane                0\n",
       "junction_location                               0\n",
       "skidding_and_overturning                        0\n",
       "hit_object_in_carriageway                       0\n",
       "vehicle_leaving_carriageway                     0\n",
       "hit_object_off_carriageway                      0\n",
       "first_point_of_impact                           0\n",
       "vehicle_left_hand_drive                         0\n",
       "journey_purpose_of_driver                       0\n",
       "sex_of_driver                                   0\n",
       "age_band_of_driver                              0\n",
       "propulsion_code                                 0\n",
       "driver_imd_decile                               0\n",
       "driver_home_area_type                           0\n",
       "Safety Rating                              661767\n",
       "engine_capacity_cc                              0\n",
       "age_of_vehicle                                  0\n",
       "dtype: int64"
      ]
     },
     "execution_count": 41,
     "metadata": {},
     "output_type": "execute_result"
    }
   ],
   "source": [
    "missing_values = combined_df.isna().sum()\n",
    "missing_values"
   ]
  },
  {
   "cell_type": "code",
   "execution_count": 43,
   "id": "28781294",
   "metadata": {},
   "outputs": [],
   "source": [
    "# Remove rows with null values\n",
    "combined_df.dropna(axis=0, inplace=True)"
   ]
  },
  {
   "cell_type": "code",
   "execution_count": 44,
   "id": "1b042a14",
   "metadata": {},
   "outputs": [
    {
     "name": "stdout",
     "output_type": "stream",
     "text": [
      "Row Count Before: 168937\n",
      "Row Count After: 168937\n"
     ]
    }
   ],
   "source": [
    "# Get the row count before removing rows with null values\n",
    "row_count_before = combined_df.shape[0]\n",
    "\n",
    "\n",
    "# Get the row count after removing rows with null values\n",
    "row_count_after = combined_df.shape[0]\n",
    "\n",
    "# Print the row counts\n",
    "print(f\"Row Count Before: {row_count_before}\")\n",
    "print(f\"Row Count After: {row_count_after}\")\n"
   ]
  },
  {
   "cell_type": "code",
   "execution_count": 51,
   "id": "45bb5934",
   "metadata": {},
   "outputs": [
    {
     "name": "stdout",
     "output_type": "stream",
     "text": [
      "accident_severity                             0\n",
      "number_of_vehicles                            0\n",
      "number_of_casualties                          0\n",
      "first_road_class                              0\n",
      "road_type                                     0\n",
      "speed_limit                                   9\n",
      "junction_detail                               2\n",
      "pedestrian_crossing_human_control           284\n",
      "pedestrian_crossing_physical_facilities     270\n",
      "light_conditions                              0\n",
      "weather_conditions                            2\n",
      "road_surface_conditions                     512\n",
      "special_conditions_at_site                  387\n",
      "carriageway_hazards                         387\n",
      "urban_or_rural_area                           0\n",
      "vehicle_type                                  0\n",
      "towing_and_articulation                     510\n",
      "vehicle_manoeuvre                           711\n",
      "vehicle_direction_from                     1613\n",
      "vehicle_direction_to                       1622\n",
      "vehicle_location_restricted_lane            704\n",
      "junction_location                           320\n",
      "skidding_and_overturning                    702\n",
      "hit_object_in_carriageway                   704\n",
      "vehicle_leaving_carriageway                 717\n",
      "hit_object_off_carriageway                  139\n",
      "first_point_of_impact                       864\n",
      "vehicle_left_hand_drive                       2\n",
      "journey_purpose_of_driver                    67\n",
      "sex_of_driver                                 8\n",
      "propulsion_code                            1057\n",
      "Safety Rating                                 0\n",
      "engine_capacity_cc                            0\n",
      "age_of_vehicle                                0\n",
      "dtype: int64\n"
     ]
    }
   ],
   "source": [
    "column_counts = combined_df.apply(lambda x: (x == -1).sum())\n",
    "print(column_counts)\n"
   ]
  },
  {
   "cell_type": "code",
   "execution_count": 48,
   "id": "c2438fa6",
   "metadata": {},
   "outputs": [
    {
     "name": "stdout",
     "output_type": "stream",
     "text": [
      "Row Count Before: 168937\n",
      "Row Count After: 168937\n"
     ]
    }
   ],
   "source": [
    "columns_to_drop = [\n",
    "    'trunk_road_flag', 'driver_imd_decile',\n",
    "    'driver_home_area_type', 'junction_control','age_band_of_driver'\n",
    "]\n",
    "\n",
    "combined_df.drop(columns=columns_to_drop, inplace=True)\n"
   ]
  },
  {
   "cell_type": "code",
   "execution_count": 52,
   "id": "9da67c21",
   "metadata": {},
   "outputs": [
    {
     "name": "stdout",
     "output_type": "stream",
     "text": [
      "Row Count Before: 168937\n",
      "Row Count After: 165213\n"
     ]
    }
   ],
   "source": [
    "# Get the row count before removing rows with -1 values\n",
    "row_count_before = combined_df.shape[0]\n",
    "\n",
    "combined_df = combined_df[(combined_df != -1).all(axis=1)]\n",
    "\n",
    "# Get the row count after removing rows with null values\n",
    "row_count_after = combined_df.shape[0]\n",
    "\n",
    "# Print the row counts\n",
    "print(f\"Row Count Before: {row_count_before}\")\n",
    "print(f\"Row Count After: {row_count_after}\")\n"
   ]
  },
  {
   "cell_type": "code",
   "execution_count": 53,
   "id": "c2f9d332",
   "metadata": {},
   "outputs": [
    {
     "name": "stdout",
     "output_type": "stream",
     "text": [
      "accident_severity                          0\n",
      "number_of_vehicles                         0\n",
      "number_of_casualties                       0\n",
      "first_road_class                           0\n",
      "road_type                                  0\n",
      "speed_limit                                0\n",
      "junction_detail                            0\n",
      "pedestrian_crossing_human_control          0\n",
      "pedestrian_crossing_physical_facilities    0\n",
      "light_conditions                           0\n",
      "weather_conditions                         0\n",
      "road_surface_conditions                    0\n",
      "special_conditions_at_site                 0\n",
      "carriageway_hazards                        0\n",
      "urban_or_rural_area                        0\n",
      "vehicle_type                               0\n",
      "towing_and_articulation                    0\n",
      "vehicle_manoeuvre                          0\n",
      "vehicle_direction_from                     0\n",
      "vehicle_direction_to                       0\n",
      "vehicle_location_restricted_lane           0\n",
      "junction_location                          0\n",
      "skidding_and_overturning                   0\n",
      "hit_object_in_carriageway                  0\n",
      "vehicle_leaving_carriageway                0\n",
      "hit_object_off_carriageway                 0\n",
      "first_point_of_impact                      0\n",
      "vehicle_left_hand_drive                    0\n",
      "journey_purpose_of_driver                  0\n",
      "sex_of_driver                              0\n",
      "propulsion_code                            0\n",
      "Safety Rating                              0\n",
      "engine_capacity_cc                         0\n",
      "age_of_vehicle                             0\n",
      "dtype: int64\n"
     ]
    }
   ],
   "source": [
    "column_counts = combined_df.apply(lambda x: (x == -1).sum())\n",
    "print(column_counts)\n"
   ]
  },
  {
   "cell_type": "code",
   "execution_count": 54,
   "id": "117284ee",
   "metadata": {},
   "outputs": [
    {
     "name": "stdout",
     "output_type": "stream",
     "text": [
      "accident_severity                           3\n",
      "number_of_vehicles                         11\n",
      "number_of_casualties                       12\n",
      "first_road_class                            6\n",
      "road_type                                   6\n",
      "speed_limit                                 6\n",
      "junction_detail                            10\n",
      "pedestrian_crossing_human_control           4\n",
      "pedestrian_crossing_physical_facilities     7\n",
      "light_conditions                            5\n",
      "weather_conditions                          9\n",
      "road_surface_conditions                     6\n",
      "special_conditions_at_site                  9\n",
      "carriageway_hazards                         7\n",
      "urban_or_rural_area                         3\n",
      "vehicle_type                               10\n",
      "towing_and_articulation                     7\n",
      "vehicle_manoeuvre                          19\n",
      "vehicle_direction_from                     10\n",
      "vehicle_direction_to                       10\n",
      "vehicle_location_restricted_lane           11\n",
      "junction_location                          10\n",
      "skidding_and_overturning                    7\n",
      "hit_object_in_carriageway                  13\n",
      "vehicle_leaving_carriageway                10\n",
      "hit_object_off_carriageway                 13\n",
      "first_point_of_impact                       6\n",
      "vehicle_left_hand_drive                     3\n",
      "journey_purpose_of_driver                   6\n",
      "sex_of_driver                               3\n",
      "propulsion_code                            11\n",
      "Safety Rating                               6\n",
      "engine_capacity_cc                          7\n",
      "age_of_vehicle                              7\n",
      "dtype: int64\n"
     ]
    }
   ],
   "source": [
    "category_counts = combined_df.nunique()\n",
    "print(category_counts)\n"
   ]
  },
  {
   "cell_type": "code",
   "execution_count": 55,
   "id": "3cf026f0",
   "metadata": {},
   "outputs": [
    {
     "data": {
      "text/plain": [
       "accident_severity                            int64\n",
       "number_of_vehicles                           int64\n",
       "number_of_casualties                         int64\n",
       "first_road_class                             int64\n",
       "road_type                                    int64\n",
       "speed_limit                                  int64\n",
       "junction_detail                              int64\n",
       "pedestrian_crossing_human_control            int64\n",
       "pedestrian_crossing_physical_facilities      int64\n",
       "light_conditions                             int64\n",
       "weather_conditions                           int64\n",
       "road_surface_conditions                      int64\n",
       "special_conditions_at_site                   int64\n",
       "carriageway_hazards                          int64\n",
       "urban_or_rural_area                          int64\n",
       "vehicle_type                                 int64\n",
       "towing_and_articulation                      int64\n",
       "vehicle_manoeuvre                            int64\n",
       "vehicle_direction_from                       int64\n",
       "vehicle_direction_to                         int64\n",
       "vehicle_location_restricted_lane             int64\n",
       "junction_location                            int64\n",
       "skidding_and_overturning                     int64\n",
       "hit_object_in_carriageway                    int64\n",
       "vehicle_leaving_carriageway                  int64\n",
       "hit_object_off_carriageway                   int64\n",
       "first_point_of_impact                        int64\n",
       "vehicle_left_hand_drive                      int64\n",
       "journey_purpose_of_driver                    int64\n",
       "sex_of_driver                                int64\n",
       "propulsion_code                              int64\n",
       "Safety Rating                              float64\n",
       "engine_capacity_cc                           int32\n",
       "age_of_vehicle                               int32\n",
       "dtype: object"
      ]
     },
     "execution_count": 55,
     "metadata": {},
     "output_type": "execute_result"
    }
   ],
   "source": [
    "combined_df.dtypes"
   ]
  },
  {
   "cell_type": "code",
   "execution_count": 57,
   "id": "65e34133",
   "metadata": {},
   "outputs": [],
   "source": [
    "# Assuming 'Safety Rating' is the name of the column in the DataFrame\n",
    "combined_df['Safety Rating'] = combined_df['Safety Rating'].astype(int)\n"
   ]
  },
  {
   "cell_type": "markdown",
   "id": "63afb41c",
   "metadata": {},
   "source": [
    "**Data cleaning after EDA. Binning and Removing of variables**"
   ]
  },
  {
   "cell_type": "code",
   "execution_count": 188,
   "id": "a6a5f756",
   "metadata": {},
   "outputs": [],
   "source": [
    "df = pd.read_csv('D:/Dissertation/Dataset/Analysis/modelip_wofeaturename.csv')"
   ]
  },
  {
   "cell_type": "code",
   "execution_count": 189,
   "id": "33452ae4",
   "metadata": {},
   "outputs": [],
   "source": [
    "df = df.drop('vehicle_left_hand_drive', axis=1)\n"
   ]
  },
  {
   "cell_type": "code",
   "execution_count": 190,
   "id": "e9402ec4",
   "metadata": {},
   "outputs": [],
   "source": [
    "# List of categories to group\n",
    "group_categories = [8, 6, 7, 5, 9, 10, 11]\n",
    "\n",
    "# Grouping specified categories under '5'\n",
    "df['number_of_vehicles'] = df['number_of_vehicles'].replace(group_categories, 5)\n"
   ]
  },
  {
   "cell_type": "code",
   "execution_count": 191,
   "id": "1f8d0931",
   "metadata": {},
   "outputs": [],
   "source": [
    "# List of categories to group\n",
    "group_categories = [6,  5,  9, 11,  8,  7, 10, 19]\n",
    "\n",
    "# Grouping specified categories under '5'\n",
    "df['number_of_casualties'] = df['number_of_casualties'].replace(group_categories, 5)"
   ]
  },
  {
   "cell_type": "code",
   "execution_count": 192,
   "id": "b669f228",
   "metadata": {},
   "outputs": [],
   "source": [
    "# List of categories to group\n",
    "group_categories = [2, 6, 1, 3, 7]\n",
    "\n",
    "# Grouping specified categories under '5'\n",
    "df['carriageway_hazards'] = df['carriageway_hazards'].replace(group_categories, 1)"
   ]
  },
  {
   "cell_type": "code",
   "execution_count": 193,
   "id": "4e555aec",
   "metadata": {},
   "outputs": [],
   "source": [
    "# List of categories to group\n",
    "group_categories = [ 2, 5, 1, 6, 3, 7]\n",
    "group_categories1 = [ 4]\n",
    "\n",
    "# Grouping specified categories under '2'\n",
    "df['special_conditions_at_site'] = df['special_conditions_at_site'].replace(group_categories, 2)\n",
    "# Grouping specified categories under '1'\n",
    "df['special_conditions_at_site'] = df['special_conditions_at_site'].replace(group_categories1, 1)"
   ]
  },
  {
   "cell_type": "code",
   "execution_count": 194,
   "id": "b2f9bc29",
   "metadata": {},
   "outputs": [],
   "source": [
    "# List of categories to group\n",
    "group_categories = [ 5, 3, 4, 1, 2]\n",
    "\n",
    "# Grouping specified categories under '5'\n",
    "df['towing_and_articulation'] = df['towing_and_articulation'].replace(group_categories, 1)"
   ]
  },
  {
   "cell_type": "code",
   "execution_count": 195,
   "id": "b2a8f712",
   "metadata": {},
   "outputs": [],
   "source": [
    "# List of categories to group\n",
    "group_categories = [ 6,  4,  1,  2,  5,  8,  7,  3, 99]\n",
    "\n",
    "# Grouping specified categories under '5'\n",
    "df['vehicle_location_restricted_lane'] = df['vehicle_location_restricted_lane'].replace(group_categories, 1)"
   ]
  },
  {
   "cell_type": "code",
   "execution_count": 196,
   "id": "db805139",
   "metadata": {},
   "outputs": [],
   "source": [
    "# List of categories to group\n",
    "group_categories = [3, 4]\n",
    "\n",
    "# Grouping specified categories under '5'\n",
    "df['journey_purpose_of_driver'] = df['journey_purpose_of_driver'].replace(group_categories, 3)"
   ]
  },
  {
   "cell_type": "code",
   "execution_count": 197,
   "id": "a91cf16f",
   "metadata": {},
   "outputs": [],
   "source": [
    "# List of categories to group\n",
    "group_categories = [  12,  7,  6,  5,  9, 11, 10]\n",
    "\n",
    "# Grouping specified categories under '5'\n",
    "df['propulsion_code'] = df['propulsion_code'].replace(group_categories, 4)"
   ]
  },
  {
   "cell_type": "code",
   "execution_count": 198,
   "id": "3d6bed77",
   "metadata": {},
   "outputs": [],
   "source": [
    "# List of categories to group\n",
    "group_categories = [    4,5,6,7]\n",
    "\n",
    "# Grouping specified categories under '5'\n",
    "df['engine_capacity_cc'] = df['engine_capacity_cc'].replace(group_categories, 4)"
   ]
  },
  {
   "cell_type": "code",
   "execution_count": 199,
   "id": "f3cfdb13",
   "metadata": {},
   "outputs": [],
   "source": [
    "# List of categories to group\n",
    "group_categories = [ 3]\n",
    "\n",
    "# Grouping specified categories under '5'\n",
    "df['urban_or_rural_area'] = df['urban_or_rural_area'].replace(group_categories, 2)"
   ]
  },
  {
   "cell_type": "code",
   "execution_count": 200,
   "id": "c55ffa4e",
   "metadata": {},
   "outputs": [],
   "source": [
    "df = df.drop(columns=['pedestrian_crossing_human_control'])\n"
   ]
  },
  {
   "cell_type": "code",
   "execution_count": 201,
   "id": "00072f7d",
   "metadata": {},
   "outputs": [],
   "source": [
    "# List of categories to group\n",
    "group_categories = [ 4, 5, 1, 8, 7]\n",
    "\n",
    "# Grouping specified categories under '5'\n",
    "df['pedestrian_crossing_physical_facilities'] = df['pedestrian_crossing_physical_facilities'].replace(group_categories, 1)"
   ]
  },
  {
   "cell_type": "code",
   "execution_count": 202,
   "id": "e5a5df38",
   "metadata": {},
   "outputs": [
    {
     "name": "stdout",
     "output_type": "stream",
     "text": [
      "18    65882\n",
      "9     16603\n",
      "4      9817\n",
      "3      7781\n",
      "5      7340\n",
      "7      5472\n",
      "17     5185\n",
      "16     4394\n",
      "2      3773\n",
      "10     2542\n",
      "13     2056\n",
      "1      1787\n",
      "6      1343\n",
      "12     1134\n",
      "11     1013\n",
      "14     1005\n",
      "8       807\n",
      "15      665\n",
      "Name: vehicle_manoeuvre, dtype: int64\n"
     ]
    }
   ],
   "source": [
    "print(df['vehicle_manoeuvre'].value_counts())    "
   ]
  },
  {
   "cell_type": "code",
   "execution_count": 203,
   "id": "0aca11dc",
   "metadata": {},
   "outputs": [],
   "source": [
    "# List of categories to group\n",
    "group_categories1 = [ 13,14,15]\n",
    "group_categories2 = [ 11,12]\n",
    "group_categories3 = [ 8,10]\n",
    "\n",
    "# Grouping specified categories under '5'\n",
    "df['vehicle_manoeuvre'] = df['vehicle_manoeuvre'].replace(group_categories3,8)\n",
    "df['vehicle_manoeuvre'] = df['vehicle_manoeuvre'].replace(group_categories2,9)\n",
    "df['vehicle_manoeuvre'] = df['vehicle_manoeuvre'].replace(group_categories1, 10)\n"
   ]
  },
  {
   "cell_type": "code",
   "execution_count": 209,
   "id": "78ca973f",
   "metadata": {},
   "outputs": [
    {
     "name": "stdout",
     "output_type": "stream",
     "text": [
      "21    130128\n",
      "22      4079\n",
      "23      3274\n",
      "25       893\n",
      "24       225\n",
      "Name: hit_object_in_carriageway, dtype: int64\n"
     ]
    }
   ],
   "source": [
    " print(df['hit_object_in_carriageway'].value_counts()) "
   ]
  },
  {
   "cell_type": "code",
   "execution_count": 208,
   "id": "49be6ea6",
   "metadata": {},
   "outputs": [],
   "source": [
    "# List of categories to group\n",
    "group_categories1 = [ 0]\n",
    "group_categories2 = [ 6,5,7,9,10]\n",
    "group_categories3 = [ 4,8]\n",
    "group_categories4 = [ 1,2]\n",
    "group_categories5 = [ 11,12]\n",
    "\n",
    "# Grouping specified categories under '5'\n",
    "df['hit_object_in_carriageway'] = df['hit_object_in_carriageway'].replace(group_categories1,21)\n",
    "df['hit_object_in_carriageway'] = df['hit_object_in_carriageway'].replace(group_categories2,22)\n",
    "df['hit_object_in_carriageway'] = df['hit_object_in_carriageway'].replace(group_categories3,23)\n",
    "df['hit_object_in_carriageway'] = df['hit_object_in_carriageway'].replace(group_categories4,24)\n",
    "df['hit_object_in_carriageway'] = df['hit_object_in_carriageway'].replace(group_categories5,25)\n"
   ]
  },
  {
   "cell_type": "code",
   "execution_count": 214,
   "id": "6ee83e10",
   "metadata": {},
   "outputs": [
    {
     "name": "stdout",
     "output_type": "stream",
     "text": [
      "21    119998\n",
      "22     10737\n",
      "23      6925\n",
      "24       939\n",
      "Name: vehicle_leaving_carriageway, dtype: int64\n"
     ]
    }
   ],
   "source": [
    " print(df['vehicle_leaving_carriageway'].value_counts()) "
   ]
  },
  {
   "cell_type": "code",
   "execution_count": 213,
   "id": "ebe5420e",
   "metadata": {},
   "outputs": [],
   "source": [
    "# List of categories to group\n",
    "group_categories1 = [ 0]\n",
    "group_categories2 = [ 1,2]\n",
    "group_categories3 = [ 4,5,6,7,8]\n",
    "group_categories4 = [ 3]\n",
    "\n",
    "\n",
    "# Grouping specified categories under '5'\n",
    "df['vehicle_leaving_carriageway'] = df['vehicle_leaving_carriageway'].replace(group_categories1,21)\n",
    "df['vehicle_leaving_carriageway'] = df['vehicle_leaving_carriageway'].replace(group_categories2,22)\n",
    "df['vehicle_leaving_carriageway'] = df['vehicle_leaving_carriageway'].replace(group_categories3,23)\n",
    "df['vehicle_leaving_carriageway'] = df['vehicle_leaving_carriageway'].replace(group_categories4,24)\n",
    "\n"
   ]
  },
  {
   "cell_type": "code",
   "execution_count": 218,
   "id": "317b09fa",
   "metadata": {},
   "outputs": [
    {
     "name": "stdout",
     "output_type": "stream",
     "text": [
      "21    126457\n",
      "25      5613\n",
      "22      2744\n",
      "23      2283\n",
      "24      1502\n",
      "Name: hit_object_off_carriageway, dtype: int64\n"
     ]
    }
   ],
   "source": [
    "  print(df['hit_object_off_carriageway'].value_counts()) "
   ]
  },
  {
   "cell_type": "code",
   "execution_count": 217,
   "id": "3e0a2fc4",
   "metadata": {},
   "outputs": [],
   "source": [
    "# List of categories to group\n",
    "group_categories1 = [ 0]\n",
    "group_categories2 = [ 1,2,3,5]\n",
    "group_categories3 = [ 4]\n",
    "group_categories4 = [ 6,7]\n",
    "group_categories5 = [ 9,10,11,8]\n",
    "\n",
    "# Grouping specified categories under '5'\n",
    "df['hit_object_off_carriageway'] = df['hit_object_off_carriageway'].replace(group_categories1,21)\n",
    "df['hit_object_off_carriageway'] = df['hit_object_off_carriageway'].replace(group_categories2,22)\n",
    "df['hit_object_off_carriageway'] = df['hit_object_off_carriageway'].replace(group_categories3,23)\n",
    "df['hit_object_off_carriageway'] = df['hit_object_off_carriageway'].replace(group_categories4,24)\n",
    "df['hit_object_off_carriageway'] = df['hit_object_off_carriageway'].replace(group_categories5,25)\n"
   ]
  },
  {
   "cell_type": "code",
   "execution_count": null,
   "id": "6ab7f91d",
   "metadata": {},
   "outputs": [],
   "source": [
    " df.to_csv('D:/Dissertation/Dataset/Analysis/EDAwo_featurename.csv', index=False)"
   ]
  },
  {
   "cell_type": "code",
   "execution_count": null,
   "id": "7f03a768",
   "metadata": {},
   "outputs": [],
   "source": [
    "a=pd.read_csv('D:/Dissertation/Dataset/Analysis/EDAwo_featurename.csv')"
   ]
  },
  {
   "cell_type": "code",
   "execution_count": 228,
   "id": "c686073b",
   "metadata": {},
   "outputs": [
    {
     "data": {
      "text/plain": [
       "Index(['accident_severity', 'number_of_vehicles', 'number_of_casualties',\n",
       "       'first_road_class', 'road_type', 'speed_limit', 'junction_detail',\n",
       "       'pedestrian_crossing_physical_facilities', 'light_conditions',\n",
       "       'weather_conditions', 'road_surface_conditions',\n",
       "       'special_conditions_at_site', 'carriageway_hazards',\n",
       "       'urban_or_rural_area', 'vehicle_type', 'towing_and_articulation',\n",
       "       'vehicle_manoeuvre', 'vehicle_direction_from', 'vehicle_direction_to',\n",
       "       'vehicle_location_restricted_lane', 'junction_location',\n",
       "       'skidding_and_overturning', 'hit_object_in_carriageway',\n",
       "       'vehicle_leaving_carriageway', 'hit_object_off_carriageway',\n",
       "       'first_point_of_impact', 'journey_purpose_of_driver', 'sex_of_driver',\n",
       "       'propulsion_code', 'Safety Rating', 'engine_capacity_cc',\n",
       "       'age_of_vehicle'],\n",
       "      dtype='object')"
      ]
     },
     "execution_count": 228,
     "metadata": {},
     "output_type": "execute_result"
    }
   ],
   "source": [
    " a.columns"
   ]
  },
  {
   "cell_type": "code",
   "execution_count": null,
   "id": "ca175da3",
   "metadata": {},
   "outputs": [],
   "source": []
  }
 ],
 "metadata": {
  "kernelspec": {
   "display_name": "Python 3 (ipykernel)",
   "language": "python",
   "name": "python3"
  },
  "language_info": {
   "codemirror_mode": {
    "name": "ipython",
    "version": 3
   },
   "file_extension": ".py",
   "mimetype": "text/x-python",
   "name": "python",
   "nbconvert_exporter": "python",
   "pygments_lexer": "ipython3",
   "version": "3.9.12"
  }
 },
 "nbformat": 4,
 "nbformat_minor": 5
}
