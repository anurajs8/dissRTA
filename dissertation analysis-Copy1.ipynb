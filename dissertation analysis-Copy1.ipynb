{
 "cells": [
  {
   "cell_type": "code",
   "execution_count": 2,
   "id": "6c0ab63e",
   "metadata": {},
   "outputs": [
    {
     "name": "stderr",
     "output_type": "stream",
     "text": [
      "C:\\Users\\anura\\AppData\\Local\\Temp\\ipykernel_16800\\2757377044.py:4: DtypeWarning: Columns (0,2) have mixed types. Specify dtype option on import or set low_memory=False.\n",
      "  dft_road_accident_data = pd.read_csv('dft-road-casualty-statistics-accident-last-5-years.csv')\n"
     ]
    },
    {
     "name": "stdout",
     "output_type": "stream",
     "text": [
      "  accident_index  accident_year accident_reference  location_easting_osgr  \\\n",
      "0  2017010001708           2017           10001708               532920.0   \n",
      "1  2017010009342           2017           10009342               526790.0   \n",
      "2  2017010009344           2017           10009344               535200.0   \n",
      "3  2017010009348           2017           10009348               534340.0   \n",
      "4  2017010009350           2017           10009350               533680.0   \n",
      "\n",
      "   location_northing_osgr  longitude   latitude  police_force  \\\n",
      "0                196330.0  -0.080107  51.650061             1   \n",
      "1                181970.0  -0.173845  51.522425             1   \n",
      "2                181260.0  -0.052969  51.514096             1   \n",
      "3                193560.0  -0.060658  51.624832             1   \n",
      "4                187820.0  -0.072372  51.573408             1   \n",
      "\n",
      "   accident_severity  number_of_vehicles  ...  \\\n",
      "0                  1                   2  ...   \n",
      "1                  3                   2  ...   \n",
      "2                  3                   3  ...   \n",
      "3                  3                   2  ...   \n",
      "4                  2                   1  ...   \n",
      "\n",
      "   pedestrian_crossing_physical_facilities light_conditions  \\\n",
      "0                                        0                4   \n",
      "1                                        0                4   \n",
      "2                                        0                4   \n",
      "3                                        4                4   \n",
      "4                                        5                4   \n",
      "\n",
      "   weather_conditions road_surface_conditions  special_conditions_at_site  \\\n",
      "0                   1                       1                           0   \n",
      "1                   1                       2                           0   \n",
      "2                   1                       1                           0   \n",
      "3                   2                       2                           0   \n",
      "4                   1                       2                           0   \n",
      "\n",
      "  carriageway_hazards urban_or_rural_area  \\\n",
      "0                   0                   1   \n",
      "1                   0                   1   \n",
      "2                   0                   1   \n",
      "3                   0                   1   \n",
      "4                   0                   1   \n",
      "\n",
      "   did_police_officer_attend_scene_of_accident  trunk_road_flag  \\\n",
      "0                                            1                2   \n",
      "1                                            1                2   \n",
      "2                                            1                2   \n",
      "3                                            1                2   \n",
      "4                                            1                2   \n",
      "\n",
      "   lsoa_of_accident_location  \n",
      "0                  E01001450  \n",
      "1                  E01004702  \n",
      "2                  E01004298  \n",
      "3                  E01001429  \n",
      "4                  E01001808  \n",
      "\n",
      "[5 rows x 36 columns]\n"
     ]
    }
   ],
   "source": [
    "import pandas as pd\n",
    "\n",
    "# Load the dataset (replace the path with your local path to the CSV file)\n",
    "dft_road_accident_data = pd.read_csv('dft-road-casualty-statistics-accident-last-5-years.csv')\n",
    "\n",
    "# Preview the first few rows of the data\n",
    "print(dft_road_accident_data.head())\n"
   ]
  },
  {
   "cell_type": "code",
   "execution_count": 3,
   "id": "ce9aa90c",
   "metadata": {},
   "outputs": [
    {
     "name": "stdout",
     "output_type": "stream",
     "text": [
      "accident_index                                   0\n",
      "accident_year                                    0\n",
      "accident_reference                               0\n",
      "location_easting_osgr                          133\n",
      "location_northing_osgr                         133\n",
      "longitude                                      143\n",
      "latitude                                       143\n",
      "police_force                                     0\n",
      "accident_severity                                0\n",
      "number_of_vehicles                               0\n",
      "number_of_casualties                             0\n",
      "date                                             0\n",
      "day_of_week                                      0\n",
      "time                                             0\n",
      "local_authority_district                         0\n",
      "local_authority_ons_district                     0\n",
      "local_authority_highway                          0\n",
      "first_road_class                                 0\n",
      "first_road_number                                0\n",
      "road_type                                        0\n",
      "speed_limit                                      0\n",
      "junction_detail                                  0\n",
      "junction_control                                 0\n",
      "second_road_class                                0\n",
      "second_road_number                               0\n",
      "pedestrian_crossing_human_control                0\n",
      "pedestrian_crossing_physical_facilities          0\n",
      "light_conditions                                 0\n",
      "weather_conditions                               0\n",
      "road_surface_conditions                          0\n",
      "special_conditions_at_site                       0\n",
      "carriageway_hazards                              0\n",
      "urban_or_rural_area                              0\n",
      "did_police_officer_attend_scene_of_accident      0\n",
      "trunk_road_flag                                  0\n",
      "lsoa_of_accident_location                        0\n",
      "dtype: int64\n"
     ]
    }
   ],
   "source": [
    "# Check for missing values in each column\n",
    "print(dft_road_accident_data.isnull().sum())\n"
   ]
  },
  {
   "cell_type": "code",
   "execution_count": 4,
   "id": "a8942a15",
   "metadata": {},
   "outputs": [
    {
     "name": "stdout",
     "output_type": "stream",
     "text": [
      "Number of duplicate rows: 0\n"
     ]
    }
   ],
   "source": [
    "# Check for duplicate rows\n",
    "duplicate_rows = dft_road_accident_data.duplicated()\n",
    "print(f\"Number of duplicate rows: {duplicate_rows.sum()}\")\n"
   ]
  },
  {
   "cell_type": "code",
   "execution_count": 5,
   "id": "405d945c",
   "metadata": {},
   "outputs": [
    {
     "name": "stdout",
     "output_type": "stream",
     "text": [
      "accident_year                                      0\n",
      "location_easting_osgr                              0\n",
      "location_northing_osgr                             0\n",
      "longitude                                          0\n",
      "latitude                                           0\n",
      "police_force                                       0\n",
      "accident_severity                               7870\n",
      "number_of_vehicles                             12870\n",
      "number_of_casualties                           11917\n",
      "day_of_week                                        0\n",
      "local_authority_district                           0\n",
      "first_road_class                                   0\n",
      "first_road_number                              15864\n",
      "road_type                                          0\n",
      "speed_limit                                        0\n",
      "junction_detail                                 6341\n",
      "junction_control                                   0\n",
      "second_road_class                                  0\n",
      "second_road_number                             20558\n",
      "pedestrian_crossing_human_control              16064\n",
      "pedestrian_crossing_physical_facilities        14594\n",
      "light_conditions                                   0\n",
      "weather_conditions                             31023\n",
      "road_surface_conditions                         6410\n",
      "special_conditions_at_site                     11863\n",
      "carriageway_hazards                            10132\n",
      "urban_or_rural_area                              125\n",
      "did_police_officer_attend_scene_of_accident        3\n",
      "trunk_road_flag                                46233\n",
      "dtype: int64\n"
     ]
    }
   ],
   "source": [
    "from scipy import stats\n",
    "import numpy as np\n",
    "\n",
    "# Calculate Z-scores\n",
    "z_scores = np.abs(stats.zscore(dft_road_accident_data.select_dtypes(include=[np.number])))\n",
    "\n",
    "# Get boolean array indicating the presence of outliers\n",
    "outliers = (z_scores > 3)\n",
    "\n",
    "# Count outliers per column\n",
    "outliers_count = pd.DataFrame(outliers, columns=dft_road_accident_data.select_dtypes(include=[np.number]).columns).sum()\n",
    "print(outliers_count)\n"
   ]
  },
  {
   "cell_type": "code",
   "execution_count": 6,
   "id": "0108527c",
   "metadata": {},
   "outputs": [
    {
     "name": "stdout",
     "output_type": "stream",
     "text": [
      "accident_index                                  object\n",
      "accident_year                                    int64\n",
      "accident_reference                              object\n",
      "location_easting_osgr                          float64\n",
      "location_northing_osgr                         float64\n",
      "longitude                                      float64\n",
      "latitude                                       float64\n",
      "police_force                                     int64\n",
      "accident_severity                                int64\n",
      "number_of_vehicles                               int64\n",
      "number_of_casualties                             int64\n",
      "date                                            object\n",
      "day_of_week                                      int64\n",
      "time                                            object\n",
      "local_authority_district                         int64\n",
      "local_authority_ons_district                    object\n",
      "local_authority_highway                         object\n",
      "first_road_class                                 int64\n",
      "first_road_number                                int64\n",
      "road_type                                        int64\n",
      "speed_limit                                      int64\n",
      "junction_detail                                  int64\n",
      "junction_control                                 int64\n",
      "second_road_class                                int64\n",
      "second_road_number                               int64\n",
      "pedestrian_crossing_human_control                int64\n",
      "pedestrian_crossing_physical_facilities          int64\n",
      "light_conditions                                 int64\n",
      "weather_conditions                               int64\n",
      "road_surface_conditions                          int64\n",
      "special_conditions_at_site                       int64\n",
      "carriageway_hazards                              int64\n",
      "urban_or_rural_area                              int64\n",
      "did_police_officer_attend_scene_of_accident      int64\n",
      "trunk_road_flag                                  int64\n",
      "lsoa_of_accident_location                       object\n",
      "dtype: object\n"
     ]
    }
   ],
   "source": [
    "# Identify types of variables (categorical, numerical, etc.)\n",
    "print(dft_road_accident_data.dtypes)\n"
   ]
  },
  {
   "cell_type": "code",
   "execution_count": 7,
   "id": "5ec87155",
   "metadata": {},
   "outputs": [],
   "source": [
    "# Remove rows where 'accident_severity' is -1\n",
    "dft_road_accident_data = dft_road_accident_data[dft_road_accident_data['accident_severity'] != -1]\n"
   ]
  },
  {
   "cell_type": "code",
   "execution_count": 8,
   "id": "6dcf2a53",
   "metadata": {},
   "outputs": [],
   "source": [
    "# Save the modified dataset to a new CSV file\n",
    "dft_road_accident_data.to_csv('modified_dft_road_accident_data.csv', index=False)\n"
   ]
  },
  {
   "cell_type": "code",
   "execution_count": 10,
   "id": "ac39bffc",
   "metadata": {},
   "outputs": [
    {
     "name": "stderr",
     "output_type": "stream",
     "text": [
      "C:\\Users\\anura\\AppData\\Local\\Temp\\ipykernel_16800\\1689909025.py:1: DtypeWarning: Columns (0,2) have mixed types. Specify dtype option on import or set low_memory=False.\n",
      "  modified_dft_road_accident_data = pd.read_csv('modified_dft_road_accident_data.csv')\n"
     ]
    }
   ],
   "source": [
    "modified_dft_road_accident_data = pd.read_csv('modified_dft_road_accident_data.csv')"
   ]
  },
  {
   "cell_type": "code",
   "execution_count": 11,
   "id": "d5c179d5",
   "metadata": {},
   "outputs": [
    {
     "name": "stdout",
     "output_type": "stream",
     "text": [
      "Number of outliers in each column:\n",
      "accident_year                                      0\n",
      "location_easting_osgr                              0\n",
      "location_northing_osgr                             0\n",
      "longitude                                          0\n",
      "latitude                                           0\n",
      "police_force                                       0\n",
      "accident_severity                               7870\n",
      "number_of_vehicles                             12870\n",
      "number_of_casualties                           11917\n",
      "day_of_week                                        0\n",
      "local_authority_district                           0\n",
      "first_road_class                                   0\n",
      "first_road_number                              15864\n",
      "road_type                                          0\n",
      "speed_limit                                        0\n",
      "junction_detail                                 6341\n",
      "junction_control                                   0\n",
      "second_road_class                                  0\n",
      "second_road_number                             20558\n",
      "pedestrian_crossing_human_control              16064\n",
      "pedestrian_crossing_physical_facilities        14594\n",
      "light_conditions                                   0\n",
      "weather_conditions                             31023\n",
      "road_surface_conditions                         6410\n",
      "special_conditions_at_site                     11863\n",
      "carriageway_hazards                            10132\n",
      "urban_or_rural_area                              125\n",
      "did_police_officer_attend_scene_of_accident        3\n",
      "trunk_road_flag                                46233\n",
      "dtype: int64\n"
     ]
    }
   ],
   "source": [
    "from scipy import stats\n",
    "import numpy as np\n",
    "\n",
    "# Calculate Z-scores for all numerical columns\n",
    "z_scores = np.abs(stats.zscore(modified_dft_road_accident_data.select_dtypes(include=[np.number])))\n",
    "\n",
    "# Create a boolean array that identifies outliers (Z-score > 3)\n",
    "outliers = (z_scores > 3)\n",
    "\n",
    "# Count outliers for each column\n",
    "outliers_count = pd.DataFrame(outliers, columns=modified_dft_road_accident_data.select_dtypes(include=[np.number]).columns).sum()\n",
    "\n",
    "# Display the count of outliers for each column\n",
    "print(\"Number of outliers in each column:\")\n",
    "print(outliers_count)\n"
   ]
  },
  {
   "cell_type": "code",
   "execution_count": 12,
   "id": "89ac4403",
   "metadata": {},
   "outputs": [
    {
     "data": {
      "image/png": "[encoded data removed]",
      "text/plain": [
       "<Figure size 1440x1080 with 13 Axes>"
      ]
     },
     "metadata": {
      "needs_background": "light"
     },
     "output_type": "display_data"
    }
   ],
   "source": [
    "import matplotlib.pyplot as plt\n",
    "import seaborn as sns\n",
    "\n",
    "# Columns with suspected outliers based on your Z-score results\n",
    "columns_with_outliers = ['accident_severity', 'number_of_vehicles', 'number_of_casualties', \n",
    "                         'first_road_number', 'junction_detail', 'second_road_number',\n",
    "                         'pedestrian_crossing_human_control', 'pedestrian_crossing_physical_facilities',\n",
    "                         'weather_conditions', 'road_surface_conditions', 'special_conditions_at_site',\n",
    "                         'carriageway_hazards', 'trunk_road_flag']\n",
    "\n",
    "# Plot boxplots\n",
    "plt.figure(figsize=(20, 15))\n",
    "for i, column in enumerate(columns_with_outliers, 1):\n",
    "    plt.subplot(4, 4, i)\n",
    "    sns.boxplot(y=column, data=modified_dft_road_accident_data)\n",
    "    plt.title(f'Boxplot of {column}')\n",
    "    plt.ylabel(column)\n",
    "    plt.xlabel('')\n",
    "\n",
    "plt.tight_layout()\n",
    "plt.show()\n"
   ]
  },
  {
   "cell_type": "code",
   "execution_count": 13,
   "id": "4b09772f",
   "metadata": {},
   "outputs": [
    {
     "name": "stdout",
     "output_type": "stream",
     "text": [
      "        accident_index  accident_year accident_reference  \\\n",
      "count     5.624390e+05  562439.000000             562439   \n",
      "unique    5.624390e+05            NaN             558332   \n",
      "top       2.017010e+12            NaN          950000164   \n",
      "freq      1.000000e+00            NaN                  3   \n",
      "mean               NaN    2018.841359                NaN   \n",
      "std                NaN       1.413635                NaN   \n",
      "min                NaN    2017.000000                NaN   \n",
      "25%                NaN    2018.000000                NaN   \n",
      "50%                NaN    2019.000000                NaN   \n",
      "75%                NaN    2020.000000                NaN   \n",
      "max                NaN    2021.000000                NaN   \n",
      "\n",
      "        location_easting_osgr  location_northing_osgr      longitude  \\\n",
      "count           562306.000000            5.623060e+05  562296.000000   \n",
      "unique                    NaN                     NaN            NaN   \n",
      "top                       NaN                     NaN            NaN   \n",
      "freq                      NaN                     NaN            NaN   \n",
      "mean            453092.344542            2.791175e+05      -1.239441   \n",
      "std              94486.230396            1.504202e+05       1.384135   \n",
      "min              64084.000000            1.023500e+04      -7.525273   \n",
      "25%             389237.000000            1.754600e+05      -2.161819   \n",
      "50%             459554.500000            2.191370e+05      -1.121003   \n",
      "75%             529434.750000            3.860650e+05      -0.134684   \n",
      "max             655391.000000            1.209512e+06       1.759641   \n",
      "\n",
      "             latitude   police_force  accident_severity  number_of_vehicles  \\\n",
      "count   562296.000000  562439.000000      562439.000000       562439.000000   \n",
      "unique            NaN            NaN                NaN                 NaN   \n",
      "top               NaN            NaN                NaN                 NaN   \n",
      "freq              NaN            NaN                NaN                 NaN   \n",
      "mean        52.399317      27.988936           2.780095            1.841149   \n",
      "std          1.355003      24.704728           0.446690            0.704657   \n",
      "min         49.912362       1.000000           1.000000            1.000000   \n",
      "25%         51.464992       4.000000           3.000000            1.000000   \n",
      "50%         51.858047      22.000000           3.000000            2.000000   \n",
      "75%         53.368628      45.000000           3.000000            2.000000   \n",
      "max         60.763722      99.000000           3.000000           24.000000   \n",
      "\n",
      "        ...  pedestrian_crossing_physical_facilities light_conditions  \\\n",
      "count   ...                            562439.000000    562439.000000   \n",
      "unique  ...                                      NaN              NaN   \n",
      "top     ...                                      NaN              NaN   \n",
      "freq    ...                                      NaN              NaN   \n",
      "mean    ...                                 1.111763         2.025557   \n",
      "std     ...                                 2.349190         1.717887   \n",
      "min     ...                                -1.000000        -1.000000   \n",
      "25%     ...                                 0.000000         1.000000   \n",
      "50%     ...                                 0.000000         1.000000   \n",
      "75%     ...                                 0.000000         4.000000   \n",
      "max     ...                                 9.000000         7.000000   \n",
      "\n",
      "        weather_conditions road_surface_conditions  \\\n",
      "count        562439.000000           562439.000000   \n",
      "unique                 NaN                     NaN   \n",
      "top                    NaN                     NaN   \n",
      "freq                   NaN                     NaN   \n",
      "mean              1.650188                1.378297   \n",
      "std               1.824607                0.955681   \n",
      "min              -1.000000               -1.000000   \n",
      "25%               1.000000                1.000000   \n",
      "50%               1.000000                1.000000   \n",
      "75%               1.000000                2.000000   \n",
      "max               9.000000                9.000000   \n",
      "\n",
      "        special_conditions_at_site carriageway_hazards urban_or_rural_area  \\\n",
      "count                562439.000000       562439.000000       562439.000000   \n",
      "unique                         NaN                 NaN                 NaN   \n",
      "top                            NaN                 NaN                 NaN   \n",
      "freq                           NaN                 NaN                 NaN   \n",
      "mean                      0.223919            0.175210            1.324426   \n",
      "std                       1.260399            1.138232            0.468643   \n",
      "min                      -1.000000           -1.000000           -1.000000   \n",
      "25%                       0.000000            0.000000            1.000000   \n",
      "50%                       0.000000            0.000000            1.000000   \n",
      "75%                       0.000000            0.000000            2.000000   \n",
      "max                       9.000000            9.000000            3.000000   \n",
      "\n",
      "        did_police_officer_attend_scene_of_accident  trunk_road_flag  \\\n",
      "count                                 562439.000000    562439.000000   \n",
      "unique                                          NaN              NaN   \n",
      "top                                             NaN              NaN   \n",
      "freq                                            NaN              NaN   \n",
      "mean                                       1.355663         1.687587   \n",
      "std                                        0.592823         0.841438   \n",
      "min                                       -1.000000        -1.000000   \n",
      "25%                                        1.000000         2.000000   \n",
      "50%                                        1.000000         2.000000   \n",
      "75%                                        2.000000         2.000000   \n",
      "max                                        3.000000         2.000000   \n",
      "\n",
      "        lsoa_of_accident_location  \n",
      "count                      562439  \n",
      "unique                      34057  \n",
      "top                            -1  \n",
      "freq                        27060  \n",
      "mean                          NaN  \n",
      "std                           NaN  \n",
      "min                           NaN  \n",
      "25%                           NaN  \n",
      "50%                           NaN  \n",
      "75%                           NaN  \n",
      "max                           NaN  \n",
      "\n",
      "[11 rows x 36 columns]\n"
     ]
    }
   ],
   "source": [
    "# Generate summary statistics for the dataset\n",
    "summary_statistics = modified_dft_road_accident_data.describe(include='all')\n",
    "\n",
    "# Display the summary statistics\n",
    "print(summary_statistics)\n"
   ]
  },
  {
   "cell_type": "code",
   "execution_count": 18,
   "id": "8be0ebcd",
   "metadata": {},
   "outputs": [],
   "source": [
    "\n",
    "# Convert 'date' and 'time' to datetime format if they are not\n",
    "modified_dft_road_accident_data['date'] = pd.to_datetime(modified_dft_road_accident_data['date'], format='%d/%m/%Y')\n",
    "modified_dft_road_accident_data['time'] = pd.to_datetime(modified_dft_road_accident_data['time'], format='%H:%M:%S').dt.time\n",
    "\n",
    "\n",
    "# Time-Based Features\n",
    "modified_dft_road_accident_data['hour_of_day'] = modified_dft_road_accident_data['time'].apply(lambda x: x.hour)\n",
    "modified_dft_road_accident_data['day_of_week'] = modified_dft_road_accident_data['date'].dt.dayofweek\n",
    "modified_dft_road_accident_data['month'] = modified_dft_road_accident_data['date'].dt.month\n",
    "modified_dft_road_accident_data['year'] = modified_dft_road_accident_data['date'].dt.year\n",
    "modified_dft_road_accident_data['is_weekend'] = modified_dft_road_accident_data['day_of_week'].apply(lambda x: 1 if x >= 5 else 0)\n",
    "\n",
    "# Derived Features\n",
    "average_speed_limit = modified_dft_road_accident_data['speed_limit'].mean()\n",
    "modified_dft_road_accident_data['casualties_to_vehicles_ratio'] = modified_dft_road_accident_data['number_of_casualties'] / modified_dft_road_accident_data['number_of_vehicles']\n",
    "modified_dft_road_accident_data['is_speed_limit_above_average'] = modified_dft_road_accident_data['speed_limit'].apply(lambda x: 1 if x > average_speed_limit else 0)\n",
    "\n",
    "# Geographical Features\n",
    "# Here you can add the code to calculate distance from the city center or to flag urban areas.\n",
    "\n",
    "# Vehicle-Related Features\n",
    "modified_dft_road_accident_data['high_capacity_vehicle'] = modified_dft_road_accident_data['number_of_vehicles'].apply(lambda x: 1 if x >= 3 else 0)\n",
    "\n",
    "# Environmental Features\n",
    "modified_dft_road_accident_data['poor_conditions'] = modified_dft_road_accident_data.apply(\n",
    "    lambda row: 1 if row['weather_conditions'] > 1 or row['road_surface_conditions'] > 1 else 0, axis=1)\n",
    "\n",
    "# Season\n",
    "modified_dft_road_accident_data['season'] = modified_dft_road_accident_data['date'].dt.month % 12 // 3 + 1\n",
    "\n",
    "# Save the modified dataset with the new features to a new CSV file\n",
    "modified_dft_road_accident_data.to_csv('path_to_save_your_modified_dft_road_accident_data_with_features.csv', index=False)\n",
    "\n"
   ]
  },
  {
   "cell_type": "code",
   "execution_count": 19,
   "id": "c4e4c202",
   "metadata": {},
   "outputs": [],
   "source": [
    "# Save the modified dataset with the new features to a new CSV file\n",
    "modified_dft_road_accident_data.to_csv('Feature engineered.csv', index=False)"
   ]
  },
  {
   "cell_type": "code",
   "execution_count": 20,
   "id": "f66cac43",
   "metadata": {},
   "outputs": [
    {
     "name": "stdout",
     "output_type": "stream",
     "text": [
      "Defaulting to user installation because normal site-packages is not writeable\n",
      "Requirement already satisfied: matplotlib in c:\\programdata\\anaconda3\\lib\\site-packages (3.5.1)\n",
      "Requirement already satisfied: seaborn in c:\\programdata\\anaconda3\\lib\\site-packages (0.11.2)\n",
      "Requirement already satisfied: kiwisolver>=1.0.1 in c:\\programdata\\anaconda3\\lib\\site-packages (from matplotlib) (1.3.2)\n",
      "Requirement already satisfied: fonttools>=4.22.0 in c:\\programdata\\anaconda3\\lib\\site-packages (from matplotlib) (4.25.0)\n",
      "Requirement already satisfied: pyparsing>=2.2.1 in c:\\programdata\\anaconda3\\lib\\site-packages (from matplotlib) (3.0.4)\n",
      "Requirement already satisfied: numpy>=1.17 in c:\\programdata\\anaconda3\\lib\\site-packages (from matplotlib) (1.21.5)\n",
      "Requirement already satisfied: packaging>=20.0 in c:\\programdata\\anaconda3\\lib\\site-packages (from matplotlib) (21.3)\n",
      "Requirement already satisfied: cycler>=0.10 in c:\\programdata\\anaconda3\\lib\\site-packages (from matplotlib) (0.11.0)\n",
      "Requirement already satisfied: pillow>=6.2.0 in c:\\programdata\\anaconda3\\lib\\site-packages (from matplotlib) (9.0.1)\n",
      "Requirement already satisfied: python-dateutil>=2.7 in c:\\programdata\\anaconda3\\lib\\site-packages (from matplotlib) (2.8.2)\n",
      "Requirement already satisfied: scipy>=1.0 in c:\\programdata\\anaconda3\\lib\\site-packages (from seaborn) (1.7.3)\n",
      "Requirement already satisfied: pandas>=0.23 in c:\\programdata\\anaconda3\\lib\\site-packages (from seaborn) (1.4.2)\n",
      "Requirement already satisfied: pytz>=2020.1 in c:\\programdata\\anaconda3\\lib\\site-packages (from pandas>=0.23->seaborn) (2021.3)\n",
      "Requirement already satisfied: six>=1.5 in c:\\programdata\\anaconda3\\lib\\site-packages (from python-dateutil>=2.7->matplotlib) (1.16.0)\n",
      "Note: you may need to restart the kernel to use updated packages.\n"
     ]
    }
   ],
   "source": [
    "pip install matplotlib seaborn\n"
   ]
  },
  {
   "cell_type": "code",
   "execution_count": 22,
   "id": "5b5d240d",
   "metadata": {},
   "outputs": [
    {
     "name": "stderr",
     "output_type": "stream",
     "text": [
      "C:\\Users\\anura\\AppData\\Local\\Temp\\ipykernel_16800\\1309059438.py:4: DtypeWarning: Columns (0,2) have mixed types. Specify dtype option on import or set low_memory=False.\n",
      "  feature_engineered_data = pd.read_csv('Feature engineered.csv')\n"
     ]
    }
   ],
   "source": [
    "import pandas as pd\n",
    "\n",
    "# Replace the path with your local path to the feature-engineered CSV file\n",
    "feature_engineered_data = pd.read_csv('Feature engineered.csv')\n"
   ]
  },
  {
   "cell_type": "code",
   "execution_count": 28,
   "id": "180316f7",
   "metadata": {},
   "outputs": [
    {
     "data": {
      "image/png": "[encoded data removed]",
      "text/plain": [
       "<Figure size 720x432 with 1 Axes>"
      ]
     },
     "metadata": {
      "needs_background": "light"
     },
     "output_type": "display_data"
    },
    {
     "data": {
      "image/png": "[encoded data removed]",
      "text/plain": [
       "<Figure size 576x432 with 1 Axes>"
      ]
     },
     "metadata": {
      "needs_background": "light"
     },
     "output_type": "display_data"
    }
   ],
   "source": [
    "import matplotlib.pyplot as plt\n",
    "import seaborn as sns\n",
    "\n",
    "# Hour of the day vs Accident Severity\n",
    "plt.figure(figsize=(10, 6))\n",
    "sns.boxplot(x='hour_of_day', y='accident_severity', data=feature_engineered_data)\n",
    "plt.title('Hour of Day vs Accident Severity')\n",
    "plt.show()\n",
    "\n",
    "# Is it a weekend? vs Accident Severity\n",
    "plt.figure(figsize=(8, 6))\n",
    "sns.boxplot(x='is_weekend', y='accident_severity', data=feature_engineered_data)\n",
    "plt.title('Is Weekend vs Accident Severity')\n",
    "plt.show()\n"
   ]
  },
  {
   "cell_type": "code",
   "execution_count": 26,
   "id": "3dd8c576",
   "metadata": {},
   "outputs": [
    {
     "data": {
      "image/png": "[encoded data removed]",
      "text/plain": [
       "<Figure size 720x432 with 1 Axes>"
      ]
     },
     "metadata": {
      "needs_background": "light"
     },
     "output_type": "display_data"
    },
    {
     "data": {
      "image/png": "[encoded data removed]",
      "text/plain": [
       "<Figure size 576x432 with 1 Axes>"
      ]
     },
     "metadata": {
      "needs_background": "light"
     },
     "output_type": "display_data"
    }
   ],
   "source": [
    "# Casualties to Vehicles Ratio vs Accident Severity\n",
    "plt.figure(figsize=(10, 6))\n",
    "sns.boxplot(x='casualties_to_vehicles_ratio', y='accident_severity', data=feature_engineered_data)\n",
    "plt.title('Casualties to Vehicles Ratio vs Accident Severity')\n",
    "plt.xlim(0, 5)  # Adjust as needed\n",
    "plt.show()\n",
    "\n",
    "# Is Speed Limit Above Average vs Accident Severity\n",
    "plt.figure(figsize=(8, 6))\n",
    "sns.boxplot(x='is_speed_limit_above_average', y='accident_severity', data=feature_engineered_data)\n",
    "plt.title('Is Speed Limit Above Average vs Accident Severity')\n",
    "plt.show()\n"
   ]
  },
  {
   "cell_type": "code",
   "execution_count": 27,
   "id": "6265aeb7",
   "metadata": {},
   "outputs": [
    {
     "data": {
      "image/png": "[encoded data removed]",
      "text/plain": [
       "<Figure size 864x432 with 1 Axes>"
      ]
     },
     "metadata": {
      "needs_background": "light"
     },
     "output_type": "display_data"
    }
   ],
   "source": [
    "import matplotlib.pyplot as plt\n",
    "import seaborn as sns\n",
    "\n",
    "# Count of accidents vs Hour of the day\n",
    "plt.figure(figsize=(12, 6))\n",
    "sns.countplot(x='hour_of_day', data=feature_engineered_data, color='skyblue')\n",
    "plt.title('Count of Accidents vs Hour of Day')\n",
    "plt.xlabel('Hour of Day')\n",
    "plt.ylabel('Count of Accidents')\n",
    "plt.show()\n"
   ]
  },
  {
   "cell_type": "code",
   "execution_count": 2,
   "id": "d2100ac5",
   "metadata": {},
   "outputs": [],
   "source": [
    "import pandas as pd\n",
    "# df = pd.read_csv('D:/Dissertation/Dataset/Analysis/feature.csv')\n",
    "data = pd.read_csv('D:/Dissertation/Dataset/Analysis/CleanedData.csv')"
   ]
  },
  {
   "cell_type": "code",
   "execution_count": 3,
   "id": "161e85d7",
   "metadata": {},
   "outputs": [
    {
     "data": {
      "text/plain": [
       "Index(['accident_severity', 'number_of_vehicles', 'number_of_casualties',\n",
       "       'first_road_class', 'road_type', 'speed_limit', 'junction_detail',\n",
       "       'pedestrian_crossing_physical_facilities', 'light_conditions',\n",
       "       'weather_conditions', 'road_surface_conditions',\n",
       "       'special_conditions_at_site', 'carriageway_hazards',\n",
       "       'urban_or_rural_area', 'vehicle_type', 'towing_and_articulation',\n",
       "       'vehicle_manoeuvre', 'vehicle_direction_from', 'vehicle_direction_to',\n",
       "       'vehicle_location_restricted_lane', 'junction_location',\n",
       "       'skidding_and_overturning', 'hit_object_in_carriageway',\n",
       "       'vehicle_leaving_carriageway', 'hit_object_off_carriageway',\n",
       "       'first_point_of_impact', 'journey_purpose_of_driver', 'sex_of_driver',\n",
       "       'propulsion_code', 'Safety Rating', 'engine_capacity_cc',\n",
       "       'age_of_vehicle'],\n",
       "      dtype='object')"
      ]
     },
     "execution_count": 3,
     "metadata": {},
     "output_type": "execute_result"
    }
   ],
   "source": [
    "data.columns"
   ]
  },
  {
   "cell_type": "code",
   "execution_count": 4,
   "id": "226fa728",
   "metadata": {},
   "outputs": [],
   "source": [
    "import pandas as pd\n",
    "\n",
    "# Assuming your data is stored in a DataFrame called 'data_df'\n",
    "columns_to_encode = data.columns.difference(['accident_severity','engine_capacity_cc', 'age_of_vehicle'])\n",
    "encoded_df = pd.get_dummies(data, columns=columns_to_encode)\n"
   ]
  },
  {
   "cell_type": "code",
   "execution_count": 5,
   "id": "f2408c16",
   "metadata": {},
   "outputs": [],
   "source": [
    "df=encoded_df"
   ]
  },
  {
   "cell_type": "code",
   "execution_count": 6,
   "id": "29789155",
   "metadata": {},
   "outputs": [
    {
     "data": {
      "text/plain": [
       "138599"
      ]
     },
     "execution_count": 6,
     "metadata": {},
     "output_type": "execute_result"
    }
   ],
   "source": [
    "len(df)"
   ]
  },
  {
   "cell_type": "code",
   "execution_count": 10,
   "id": "a0ac1fe8",
   "metadata": {},
   "outputs": [
    {
     "name": "stdout",
     "output_type": "stream",
     "text": [
      "Defaulting to user installation because normal site-packages is not writeable\n",
      "Requirement already satisfied: scikit-learn in c:\\users\\anura\\appdata\\roaming\\python\\python39\\site-packages (1.3.0)\n",
      "Requirement already satisfied: threadpoolctl>=2.0.0 in c:\\programdata\\anaconda3\\lib\\site-packages (from scikit-learn) (2.2.0)\n",
      "Requirement already satisfied: joblib>=1.1.1 in c:\\users\\anura\\appdata\\roaming\\python\\python39\\site-packages (from scikit-learn) (1.2.0)\n",
      "Requirement already satisfied: scipy>=1.5.0 in c:\\programdata\\anaconda3\\lib\\site-packages (from scikit-learn) (1.7.3)\n",
      "Requirement already satisfied: numpy>=1.17.3 in c:\\programdata\\anaconda3\\lib\\site-packages (from scikit-learn) (1.21.5)\n",
      "Defaulting to user installation because normal site-packages is not writeable\n",
      "Requirement already satisfied: imbalanced-learn in c:\\users\\anura\\appdata\\roaming\\python\\python39\\site-packages (0.10.1)\n",
      "Collecting imbalanced-learn\n",
      "  Downloading imbalanced_learn-0.11.0-py3-none-any.whl (235 kB)\n",
      "Requirement already satisfied: scipy>=1.5.0 in c:\\programdata\\anaconda3\\lib\\site-packages (from imbalanced-learn) (1.7.3)\n",
      "Requirement already satisfied: numpy>=1.17.3 in c:\\programdata\\anaconda3\\lib\\site-packages (from imbalanced-learn) (1.21.5)\n",
      "Requirement already satisfied: threadpoolctl>=2.0.0 in c:\\programdata\\anaconda3\\lib\\site-packages (from imbalanced-learn) (2.2.0)\n",
      "Requirement already satisfied: scikit-learn>=1.0.2 in c:\\users\\anura\\appdata\\roaming\\python\\python39\\site-packages (from imbalanced-learn) (1.3.0)\n",
      "Requirement already satisfied: joblib>=1.1.1 in c:\\users\\anura\\appdata\\roaming\\python\\python39\\site-packages (from imbalanced-learn) (1.2.0)\n",
      "Installing collected packages: imbalanced-learn\n",
      "  Attempting uninstall: imbalanced-learn\n",
      "    Found existing installation: imbalanced-learn 0.10.1\n",
      "    Uninstalling imbalanced-learn-0.10.1:\n",
      "      Successfully uninstalled imbalanced-learn-0.10.1\n",
      "Successfully installed imbalanced-learn-0.11.0\n"
     ]
    }
   ],
   "source": [
    "!pip install --upgrade scikit-learn\n",
    "!pip install --upgrade imbalanced-learn\n"
   ]
  },
  {
   "cell_type": "code",
   "execution_count": 12,
   "id": "203f8ad9",
   "metadata": {},
   "outputs": [
    {
     "ename": "ValueError",
     "evalue": "could not convert string to float: '1k-2k_cc'",
     "output_type": "error",
     "traceback": [
      "\u001b[1;31m---------------------------------------------------------------------------\u001b[0m",
      "\u001b[1;31mValueError\u001b[0m                                Traceback (most recent call last)",
      "Input \u001b[1;32mIn [12]\u001b[0m, in \u001b[0;36m<cell line: 30>\u001b[1;34m()\u001b[0m\n\u001b[0;32m     28\u001b[0m \u001b[38;5;66;03m# Apply SMOTE to the training data\u001b[39;00m\n\u001b[0;32m     29\u001b[0m smote \u001b[38;5;241m=\u001b[39m SMOTE(sampling_strategy\u001b[38;5;241m=\u001b[39m\u001b[38;5;124m'\u001b[39m\u001b[38;5;124mauto\u001b[39m\u001b[38;5;124m'\u001b[39m)  \u001b[38;5;66;03m# You can specify the `sampling_strategy` here\u001b[39;00m\n\u001b[1;32m---> 30\u001b[0m X_res, y_res \u001b[38;5;241m=\u001b[39m \u001b[43msmote\u001b[49m\u001b[38;5;241;43m.\u001b[39;49m\u001b[43mfit_resample\u001b[49m\u001b[43m(\u001b[49m\u001b[43mX\u001b[49m\u001b[43m,\u001b[49m\u001b[43m \u001b[49m\u001b[43my\u001b[49m\u001b[43m)\u001b[49m\n\u001b[0;32m     32\u001b[0m \u001b[38;5;66;03m# Split the dataset into training and test sets\u001b[39;00m\n\u001b[0;32m     33\u001b[0m X_train, X_test, y_train, y_test \u001b[38;5;241m=\u001b[39m train_test_split(X_res, y_res, test_size\u001b[38;5;241m=\u001b[39m\u001b[38;5;241m0.2\u001b[39m, random_state\u001b[38;5;241m=\u001b[39m\u001b[38;5;241m42\u001b[39m)\n",
      "File \u001b[1;32m~\\AppData\\Roaming\\Python\\Python39\\site-packages\\imblearn\\base.py:208\u001b[0m, in \u001b[0;36mBaseSampler.fit_resample\u001b[1;34m(self, X, y)\u001b[0m\n\u001b[0;32m    187\u001b[0m \u001b[38;5;124;03m\"\"\"Resample the dataset.\u001b[39;00m\n\u001b[0;32m    188\u001b[0m \n\u001b[0;32m    189\u001b[0m \u001b[38;5;124;03mParameters\u001b[39;00m\n\u001b[1;32m   (...)\u001b[0m\n\u001b[0;32m    205\u001b[0m \u001b[38;5;124;03m    The corresponding label of `X_resampled`.\u001b[39;00m\n\u001b[0;32m    206\u001b[0m \u001b[38;5;124;03m\"\"\"\u001b[39;00m\n\u001b[0;32m    207\u001b[0m \u001b[38;5;28mself\u001b[39m\u001b[38;5;241m.\u001b[39m_validate_params()\n\u001b[1;32m--> 208\u001b[0m \u001b[38;5;28;01mreturn\u001b[39;00m \u001b[38;5;28;43msuper\u001b[39;49m\u001b[43m(\u001b[49m\u001b[43m)\u001b[49m\u001b[38;5;241;43m.\u001b[39;49m\u001b[43mfit_resample\u001b[49m\u001b[43m(\u001b[49m\u001b[43mX\u001b[49m\u001b[43m,\u001b[49m\u001b[43m \u001b[49m\u001b[43my\u001b[49m\u001b[43m)\u001b[49m\n",
      "File \u001b[1;32m~\\AppData\\Roaming\\Python\\Python39\\site-packages\\imblearn\\base.py:106\u001b[0m, in \u001b[0;36mSamplerMixin.fit_resample\u001b[1;34m(self, X, y)\u001b[0m\n\u001b[0;32m    104\u001b[0m check_classification_targets(y)\n\u001b[0;32m    105\u001b[0m arrays_transformer \u001b[38;5;241m=\u001b[39m ArraysTransformer(X, y)\n\u001b[1;32m--> 106\u001b[0m X, y, binarize_y \u001b[38;5;241m=\u001b[39m \u001b[38;5;28;43mself\u001b[39;49m\u001b[38;5;241;43m.\u001b[39;49m\u001b[43m_check_X_y\u001b[49m\u001b[43m(\u001b[49m\u001b[43mX\u001b[49m\u001b[43m,\u001b[49m\u001b[43m \u001b[49m\u001b[43my\u001b[49m\u001b[43m)\u001b[49m\n\u001b[0;32m    108\u001b[0m \u001b[38;5;28mself\u001b[39m\u001b[38;5;241m.\u001b[39msampling_strategy_ \u001b[38;5;241m=\u001b[39m check_sampling_strategy(\n\u001b[0;32m    109\u001b[0m     \u001b[38;5;28mself\u001b[39m\u001b[38;5;241m.\u001b[39msampling_strategy, y, \u001b[38;5;28mself\u001b[39m\u001b[38;5;241m.\u001b[39m_sampling_type\n\u001b[0;32m    110\u001b[0m )\n\u001b[0;32m    112\u001b[0m output \u001b[38;5;241m=\u001b[39m \u001b[38;5;28mself\u001b[39m\u001b[38;5;241m.\u001b[39m_fit_resample(X, y)\n",
      "File \u001b[1;32m~\\AppData\\Roaming\\Python\\Python39\\site-packages\\imblearn\\base.py:161\u001b[0m, in \u001b[0;36mBaseSampler._check_X_y\u001b[1;34m(self, X, y, accept_sparse)\u001b[0m\n\u001b[0;32m    159\u001b[0m     accept_sparse \u001b[38;5;241m=\u001b[39m [\u001b[38;5;124m\"\u001b[39m\u001b[38;5;124mcsr\u001b[39m\u001b[38;5;124m\"\u001b[39m, \u001b[38;5;124m\"\u001b[39m\u001b[38;5;124mcsc\u001b[39m\u001b[38;5;124m\"\u001b[39m]\n\u001b[0;32m    160\u001b[0m y, binarize_y \u001b[38;5;241m=\u001b[39m check_target_type(y, indicate_one_vs_all\u001b[38;5;241m=\u001b[39m\u001b[38;5;28;01mTrue\u001b[39;00m)\n\u001b[1;32m--> 161\u001b[0m X, y \u001b[38;5;241m=\u001b[39m \u001b[38;5;28;43mself\u001b[39;49m\u001b[38;5;241;43m.\u001b[39;49m\u001b[43m_validate_data\u001b[49m\u001b[43m(\u001b[49m\u001b[43mX\u001b[49m\u001b[43m,\u001b[49m\u001b[43m \u001b[49m\u001b[43my\u001b[49m\u001b[43m,\u001b[49m\u001b[43m \u001b[49m\u001b[43mreset\u001b[49m\u001b[38;5;241;43m=\u001b[39;49m\u001b[38;5;28;43;01mTrue\u001b[39;49;00m\u001b[43m,\u001b[49m\u001b[43m \u001b[49m\u001b[43maccept_sparse\u001b[49m\u001b[38;5;241;43m=\u001b[39;49m\u001b[43maccept_sparse\u001b[49m\u001b[43m)\u001b[49m\n\u001b[0;32m    162\u001b[0m \u001b[38;5;28;01mreturn\u001b[39;00m X, y, binarize_y\n",
      "File \u001b[1;32m~\\AppData\\Roaming\\Python\\Python39\\site-packages\\sklearn\\base.py:621\u001b[0m, in \u001b[0;36mBaseEstimator._validate_data\u001b[1;34m(self, X, y, reset, validate_separately, cast_to_ndarray, **check_params)\u001b[0m\n\u001b[0;32m    619\u001b[0m         y \u001b[38;5;241m=\u001b[39m check_array(y, input_name\u001b[38;5;241m=\u001b[39m\u001b[38;5;124m\"\u001b[39m\u001b[38;5;124my\u001b[39m\u001b[38;5;124m\"\u001b[39m, \u001b[38;5;241m*\u001b[39m\u001b[38;5;241m*\u001b[39mcheck_y_params)\n\u001b[0;32m    620\u001b[0m     \u001b[38;5;28;01melse\u001b[39;00m:\n\u001b[1;32m--> 621\u001b[0m         X, y \u001b[38;5;241m=\u001b[39m check_X_y(X, y, \u001b[38;5;241m*\u001b[39m\u001b[38;5;241m*\u001b[39mcheck_params)\n\u001b[0;32m    622\u001b[0m     out \u001b[38;5;241m=\u001b[39m X, y\n\u001b[0;32m    624\u001b[0m \u001b[38;5;28;01mif\u001b[39;00m \u001b[38;5;129;01mnot\u001b[39;00m no_val_X \u001b[38;5;129;01mand\u001b[39;00m check_params\u001b[38;5;241m.\u001b[39mget(\u001b[38;5;124m\"\u001b[39m\u001b[38;5;124mensure_2d\u001b[39m\u001b[38;5;124m\"\u001b[39m, \u001b[38;5;28;01mTrue\u001b[39;00m):\n",
      "File \u001b[1;32m~\\AppData\\Roaming\\Python\\Python39\\site-packages\\sklearn\\utils\\validation.py:1147\u001b[0m, in \u001b[0;36mcheck_X_y\u001b[1;34m(X, y, accept_sparse, accept_large_sparse, dtype, order, copy, force_all_finite, ensure_2d, allow_nd, multi_output, ensure_min_samples, ensure_min_features, y_numeric, estimator)\u001b[0m\n\u001b[0;32m   1142\u001b[0m         estimator_name \u001b[38;5;241m=\u001b[39m _check_estimator_name(estimator)\n\u001b[0;32m   1143\u001b[0m     \u001b[38;5;28;01mraise\u001b[39;00m \u001b[38;5;167;01mValueError\u001b[39;00m(\n\u001b[0;32m   1144\u001b[0m         \u001b[38;5;124mf\u001b[39m\u001b[38;5;124m\"\u001b[39m\u001b[38;5;132;01m{\u001b[39;00mestimator_name\u001b[38;5;132;01m}\u001b[39;00m\u001b[38;5;124m requires y to be passed, but the target y is None\u001b[39m\u001b[38;5;124m\"\u001b[39m\n\u001b[0;32m   1145\u001b[0m     )\n\u001b[1;32m-> 1147\u001b[0m X \u001b[38;5;241m=\u001b[39m \u001b[43mcheck_array\u001b[49m\u001b[43m(\u001b[49m\n\u001b[0;32m   1148\u001b[0m \u001b[43m    \u001b[49m\u001b[43mX\u001b[49m\u001b[43m,\u001b[49m\n\u001b[0;32m   1149\u001b[0m \u001b[43m    \u001b[49m\u001b[43maccept_sparse\u001b[49m\u001b[38;5;241;43m=\u001b[39;49m\u001b[43maccept_sparse\u001b[49m\u001b[43m,\u001b[49m\n\u001b[0;32m   1150\u001b[0m \u001b[43m    \u001b[49m\u001b[43maccept_large_sparse\u001b[49m\u001b[38;5;241;43m=\u001b[39;49m\u001b[43maccept_large_sparse\u001b[49m\u001b[43m,\u001b[49m\n\u001b[0;32m   1151\u001b[0m \u001b[43m    \u001b[49m\u001b[43mdtype\u001b[49m\u001b[38;5;241;43m=\u001b[39;49m\u001b[43mdtype\u001b[49m\u001b[43m,\u001b[49m\n\u001b[0;32m   1152\u001b[0m \u001b[43m    \u001b[49m\u001b[43morder\u001b[49m\u001b[38;5;241;43m=\u001b[39;49m\u001b[43morder\u001b[49m\u001b[43m,\u001b[49m\n\u001b[0;32m   1153\u001b[0m \u001b[43m    \u001b[49m\u001b[43mcopy\u001b[49m\u001b[38;5;241;43m=\u001b[39;49m\u001b[43mcopy\u001b[49m\u001b[43m,\u001b[49m\n\u001b[0;32m   1154\u001b[0m \u001b[43m    \u001b[49m\u001b[43mforce_all_finite\u001b[49m\u001b[38;5;241;43m=\u001b[39;49m\u001b[43mforce_all_finite\u001b[49m\u001b[43m,\u001b[49m\n\u001b[0;32m   1155\u001b[0m \u001b[43m    \u001b[49m\u001b[43mensure_2d\u001b[49m\u001b[38;5;241;43m=\u001b[39;49m\u001b[43mensure_2d\u001b[49m\u001b[43m,\u001b[49m\n\u001b[0;32m   1156\u001b[0m \u001b[43m    \u001b[49m\u001b[43mallow_nd\u001b[49m\u001b[38;5;241;43m=\u001b[39;49m\u001b[43mallow_nd\u001b[49m\u001b[43m,\u001b[49m\n\u001b[0;32m   1157\u001b[0m \u001b[43m    \u001b[49m\u001b[43mensure_min_samples\u001b[49m\u001b[38;5;241;43m=\u001b[39;49m\u001b[43mensure_min_samples\u001b[49m\u001b[43m,\u001b[49m\n\u001b[0;32m   1158\u001b[0m \u001b[43m    \u001b[49m\u001b[43mensure_min_features\u001b[49m\u001b[38;5;241;43m=\u001b[39;49m\u001b[43mensure_min_features\u001b[49m\u001b[43m,\u001b[49m\n\u001b[0;32m   1159\u001b[0m \u001b[43m    \u001b[49m\u001b[43mestimator\u001b[49m\u001b[38;5;241;43m=\u001b[39;49m\u001b[43mestimator\u001b[49m\u001b[43m,\u001b[49m\n\u001b[0;32m   1160\u001b[0m \u001b[43m    \u001b[49m\u001b[43minput_name\u001b[49m\u001b[38;5;241;43m=\u001b[39;49m\u001b[38;5;124;43m\"\u001b[39;49m\u001b[38;5;124;43mX\u001b[39;49m\u001b[38;5;124;43m\"\u001b[39;49m\u001b[43m,\u001b[49m\n\u001b[0;32m   1161\u001b[0m \u001b[43m\u001b[49m\u001b[43m)\u001b[49m\n\u001b[0;32m   1163\u001b[0m y \u001b[38;5;241m=\u001b[39m _check_y(y, multi_output\u001b[38;5;241m=\u001b[39mmulti_output, y_numeric\u001b[38;5;241m=\u001b[39my_numeric, estimator\u001b[38;5;241m=\u001b[39mestimator)\n\u001b[0;32m   1165\u001b[0m check_consistent_length(X, y)\n",
      "File \u001b[1;32m~\\AppData\\Roaming\\Python\\Python39\\site-packages\\sklearn\\utils\\validation.py:917\u001b[0m, in \u001b[0;36mcheck_array\u001b[1;34m(array, accept_sparse, accept_large_sparse, dtype, order, copy, force_all_finite, ensure_2d, allow_nd, ensure_min_samples, ensure_min_features, estimator, input_name)\u001b[0m\n\u001b[0;32m    915\u001b[0m         array \u001b[38;5;241m=\u001b[39m xp\u001b[38;5;241m.\u001b[39mastype(array, dtype, copy\u001b[38;5;241m=\u001b[39m\u001b[38;5;28;01mFalse\u001b[39;00m)\n\u001b[0;32m    916\u001b[0m     \u001b[38;5;28;01melse\u001b[39;00m:\n\u001b[1;32m--> 917\u001b[0m         array \u001b[38;5;241m=\u001b[39m \u001b[43m_asarray_with_order\u001b[49m\u001b[43m(\u001b[49m\u001b[43marray\u001b[49m\u001b[43m,\u001b[49m\u001b[43m \u001b[49m\u001b[43morder\u001b[49m\u001b[38;5;241;43m=\u001b[39;49m\u001b[43morder\u001b[49m\u001b[43m,\u001b[49m\u001b[43m \u001b[49m\u001b[43mdtype\u001b[49m\u001b[38;5;241;43m=\u001b[39;49m\u001b[43mdtype\u001b[49m\u001b[43m,\u001b[49m\u001b[43m \u001b[49m\u001b[43mxp\u001b[49m\u001b[38;5;241;43m=\u001b[39;49m\u001b[43mxp\u001b[49m\u001b[43m)\u001b[49m\n\u001b[0;32m    918\u001b[0m \u001b[38;5;28;01mexcept\u001b[39;00m ComplexWarning \u001b[38;5;28;01mas\u001b[39;00m complex_warning:\n\u001b[0;32m    919\u001b[0m     \u001b[38;5;28;01mraise\u001b[39;00m \u001b[38;5;167;01mValueError\u001b[39;00m(\n\u001b[0;32m    920\u001b[0m         \u001b[38;5;124m\"\u001b[39m\u001b[38;5;124mComplex data not supported\u001b[39m\u001b[38;5;130;01m\\n\u001b[39;00m\u001b[38;5;132;01m{}\u001b[39;00m\u001b[38;5;130;01m\\n\u001b[39;00m\u001b[38;5;124m\"\u001b[39m\u001b[38;5;241m.\u001b[39mformat(array)\n\u001b[0;32m    921\u001b[0m     ) \u001b[38;5;28;01mfrom\u001b[39;00m \u001b[38;5;21;01mcomplex_warning\u001b[39;00m\n",
      "File \u001b[1;32m~\\AppData\\Roaming\\Python\\Python39\\site-packages\\sklearn\\utils\\_array_api.py:380\u001b[0m, in \u001b[0;36m_asarray_with_order\u001b[1;34m(array, dtype, order, copy, xp)\u001b[0m\n\u001b[0;32m    378\u001b[0m     array \u001b[38;5;241m=\u001b[39m numpy\u001b[38;5;241m.\u001b[39marray(array, order\u001b[38;5;241m=\u001b[39morder, dtype\u001b[38;5;241m=\u001b[39mdtype)\n\u001b[0;32m    379\u001b[0m \u001b[38;5;28;01melse\u001b[39;00m:\n\u001b[1;32m--> 380\u001b[0m     array \u001b[38;5;241m=\u001b[39m \u001b[43mnumpy\u001b[49m\u001b[38;5;241;43m.\u001b[39;49m\u001b[43masarray\u001b[49m\u001b[43m(\u001b[49m\u001b[43marray\u001b[49m\u001b[43m,\u001b[49m\u001b[43m \u001b[49m\u001b[43morder\u001b[49m\u001b[38;5;241;43m=\u001b[39;49m\u001b[43morder\u001b[49m\u001b[43m,\u001b[49m\u001b[43m \u001b[49m\u001b[43mdtype\u001b[49m\u001b[38;5;241;43m=\u001b[39;49m\u001b[43mdtype\u001b[49m\u001b[43m)\u001b[49m\n\u001b[0;32m    382\u001b[0m \u001b[38;5;66;03m# At this point array is a NumPy ndarray. We convert it to an array\u001b[39;00m\n\u001b[0;32m    383\u001b[0m \u001b[38;5;66;03m# container that is consistent with the input's namespace.\u001b[39;00m\n\u001b[0;32m    384\u001b[0m \u001b[38;5;28;01mreturn\u001b[39;00m xp\u001b[38;5;241m.\u001b[39masarray(array)\n",
      "File \u001b[1;32mC:\\ProgramData\\Anaconda3\\lib\\site-packages\\pandas\\core\\generic.py:2064\u001b[0m, in \u001b[0;36mNDFrame.__array__\u001b[1;34m(self, dtype)\u001b[0m\n\u001b[0;32m   2063\u001b[0m \u001b[38;5;28;01mdef\u001b[39;00m \u001b[38;5;21m__array__\u001b[39m(\u001b[38;5;28mself\u001b[39m, dtype: npt\u001b[38;5;241m.\u001b[39mDTypeLike \u001b[38;5;241m|\u001b[39m \u001b[38;5;28;01mNone\u001b[39;00m \u001b[38;5;241m=\u001b[39m \u001b[38;5;28;01mNone\u001b[39;00m) \u001b[38;5;241m-\u001b[39m\u001b[38;5;241m>\u001b[39m np\u001b[38;5;241m.\u001b[39mndarray:\n\u001b[1;32m-> 2064\u001b[0m     \u001b[38;5;28;01mreturn\u001b[39;00m \u001b[43mnp\u001b[49m\u001b[38;5;241;43m.\u001b[39;49m\u001b[43masarray\u001b[49m\u001b[43m(\u001b[49m\u001b[38;5;28;43mself\u001b[39;49m\u001b[38;5;241;43m.\u001b[39;49m\u001b[43m_values\u001b[49m\u001b[43m,\u001b[49m\u001b[43m \u001b[49m\u001b[43mdtype\u001b[49m\u001b[38;5;241;43m=\u001b[39;49m\u001b[43mdtype\u001b[49m\u001b[43m)\u001b[49m\n",
      "\u001b[1;31mValueError\u001b[0m: could not convert string to float: '1k-2k_cc'"
     ]
    }
   ],
   "source": [
    "from imblearn.over_sampling import SMOTE\n",
    "from sklearn.model_selection import train_test_split\n",
    "from sklearn.preprocessing import StandardScaler\n",
    "from sklearn.linear_model import LogisticRegression\n",
    "from sklearn.ensemble import RandomForestClassifier\n",
    "from sklearn.svm import SVC\n",
    "from sklearn.metrics import accuracy_score, confusion_matrix, classification_report\n",
    "from sklearn.model_selection import cross_val_score\n",
    "from sklearn.preprocessing import OneHotEncoder, LabelEncoder\n",
    "from sklearn.tree import DecisionTreeClassifier, plot_tree\n",
    "\n",
    "for col in df.columns:\n",
    "    df[col] = df[col].astype('category')\n",
    "    df[col] = df[col].astype(str)\n",
    "\n",
    "# Label encoding\n",
    "label_encoders = {}\n",
    "encoded_data = df.copy()\n",
    "for column in df.columns:\n",
    "    le = LabelEncoder()\n",
    "    encoded_data[column] = le.fit_transform(df[column])\n",
    "    label_encoders[column] = le\n",
    "\n",
    "# Split the dataset into features and target variable\n",
    "X = encoded_data.drop(\"accident_severity\", axis=1)  # Replace 'accident_severity' with your target variable\n",
    "y = encoded_data[\"accident_severity\"]  # Replace 'accident_severity' with your target variable\n",
    "\n",
    "# Apply SMOTE to the training data\n",
    "smote = SMOTE(sampling_strategy='auto')  # You can specify the `sampling_strategy` here\n",
    "X_res, y_res = smote.fit_resample(X, y)\n",
    "\n",
    "# Split the dataset into training and test sets\n",
    "X_train, X_test, y_train, y_test = train_test_split(X_res, y_res, test_size=0.2, random_state=42)\n",
    "\n",
    "# Feature scaling\n",
    "scaler = StandardScaler()\n",
    "X_train = scaler.fit_transform(X_train)\n",
    "X_test = scaler.transform(X_test)\n",
    "\n",
    "\n",
    "# Initialize and train models\n",
    "# MNL\n",
    "mnl_model = LogisticRegression(multi_class='multinomial', solver='lbfgs')\n",
    "# mnl_model.fit(X_train, y_train)\n",
    "# mnl_pred = mnl_model.predict(X_test)\n",
    "# mnl_acc = accuracy_score(y_test, mnl_pred)\n",
    "# print(f\"Multinomial Logistic Regression Accuracy: {mnl_acc}\")\n",
    "\n",
    "# # RF\n",
    "rf_model = RandomForestClassifier()\n",
    "# rf_model.fit(X_train, y_train)\n",
    "# rf_pred = rf_model.predict(X_test)\n",
    "# rf_acc = accuracy_score(y_test, rf_pred)\n",
    "# print(f\"Random Forest Accuracy: {rf_acc}\")\n",
    "\n",
    "# DT\n",
    "dt_model = DecisionTreeClassifier()\n",
    "# dt_model.fit(X_train, y_train)\n",
    "# svc\n",
    "models = {'MNL': mnl_model, 'DT': dt_model, 'RF': rf_model}\n",
    "\n",
    "# Loop through each model and evaluate\n",
    "for name, model in models.items():\n",
    "    print(f\"Evaluating {name}...\")\n",
    "    \n",
    "    # Fit the model\n",
    "    model.fit(X_train, y_train)\n",
    "    \n",
    "    # Make predictions\n",
    "    y_pred = model.predict(X_test)\n",
    "    \n",
    "    # Confusion Matrix\n",
    "    conf_matrix = confusion_matrix(y_test, y_pred)\n",
    "    print(\"Confusion Matrix:\")\n",
    "    print(conf_matrix)\n",
    "    \n",
    "    # Classification Report\n",
    "    class_report = classification_report(y_test, y_pred)\n",
    "    print(\"Classification Report:\")\n",
    "    print(class_report)\n",
    "    \n",
    "#     # Cross-Validation\n",
    "#     cross_val_scores = cross_val_score(model, X, y, cv=5)\n",
    "#     print(\"Cross-Validation Scores:\")\n",
    "#     print(cross_val_scores)\n",
    "#     print(\"Mean Cross-Validation Score:\")\n",
    "#     print(cross_val_scores.mean())\n",
    "    \n",
    "#     print(\"------\")\n"
   ]
  },
  {
   "cell_type": "code",
   "execution_count": 6,
   "id": "ccef7995",
   "metadata": {},
   "outputs": [
    {
     "name": "stdout",
     "output_type": "stream",
     "text": [
      "Coefficients:  [[-0.10462304 -0.13315338 -0.40096942 ...  0.01155512 -0.01490786\n",
      "  -0.04215075]\n",
      " [ 0.07253629  0.06571141 -0.16150633 ... -0.03203266 -0.05338171\n",
      "  -0.05224331]\n",
      " [ 0.03208675  0.06744197  0.56247576 ...  0.02047754  0.06828957\n",
      "   0.09439407]]\n",
      "Intercept:  [ 0.30841381  3.93239699 -4.2408108 ]\n"
     ]
    }
   ],
   "source": [
    "# After fitting your model\n",
    "coefficients = mnl_model.coef_\n",
    "intercept = mnl_model.intercept_\n",
    "\n",
    "# Print coefficients and intercepts\n",
    "print(\"Coefficients: \", coefficients)\n",
    "print(\"Intercept: \", intercept)\n"
   ]
  },
  {
   "cell_type": "code",
   "execution_count": 7,
   "id": "422e45b5",
   "metadata": {},
   "outputs": [
    {
     "name": "stdout",
     "output_type": "stream",
     "text": [
      "Evaluating MNL...\n"
     ]
    },
    {
     "name": "stderr",
     "output_type": "stream",
     "text": [
      "C:\\Users\\anura\\AppData\\Roaming\\Python\\Python39\\site-packages\\sklearn\\linear_model\\_logistic.py:460: ConvergenceWarning: lbfgs failed to converge (status=1):\n",
      "STOP: TOTAL NO. of ITERATIONS REACHED LIMIT.\n",
      "\n",
      "Increase the number of iterations (max_iter) or scale the data as shown in:\n",
      "    https://scikit-learn.org/stable/modules/preprocessing.html\n",
      "Please also refer to the documentation for alternative solver options:\n",
      "    https://scikit-learn.org/stable/modules/linear_model.html#logistic-regression\n",
      "  n_iter_i = _check_optimize_result(\n"
     ]
    },
    {
     "name": "stdout",
     "output_type": "stream",
     "text": [
      "Confusion Matrix:\n",
      "[[19043  2825   399]\n",
      " [ 4700 12403  4979]\n",
      " [    7   130 22136]]\n",
      "Classification Report:\n",
      "              precision    recall  f1-score   support\n",
      "\n",
      "           0       0.80      0.86      0.83     22267\n",
      "           1       0.81      0.56      0.66     22082\n",
      "           2       0.80      0.99      0.89     22273\n",
      "\n",
      "    accuracy                           0.80     66622\n",
      "   macro avg       0.80      0.80      0.79     66622\n",
      "weighted avg       0.80      0.80      0.79     66622\n",
      "\n",
      "Evaluating DT...\n",
      "Confusion Matrix:\n",
      "[[21977   109   181]\n",
      " [  703 17800  3579]\n",
      " [  381  4749 17143]]\n",
      "Classification Report:\n",
      "              precision    recall  f1-score   support\n",
      "\n",
      "           0       0.95      0.99      0.97     22267\n",
      "           1       0.79      0.81      0.80     22082\n",
      "           2       0.82      0.77      0.79     22273\n",
      "\n",
      "    accuracy                           0.85     66622\n",
      "   macro avg       0.85      0.85      0.85     66622\n",
      "weighted avg       0.85      0.85      0.85     66622\n",
      "\n",
      "Evaluating RF...\n",
      "Confusion Matrix:\n",
      "[[22018    56   193]\n",
      " [   76 19272  2734]\n",
      " [   23  1602 20648]]\n",
      "Classification Report:\n",
      "              precision    recall  f1-score   support\n",
      "\n",
      "           0       1.00      0.99      0.99     22267\n",
      "           1       0.92      0.87      0.90     22082\n",
      "           2       0.88      0.93      0.90     22273\n",
      "\n",
      "    accuracy                           0.93     66622\n",
      "   macro avg       0.93      0.93      0.93     66622\n",
      "weighted avg       0.93      0.93      0.93     66622\n",
      "\n"
     ]
    }
   ],
   "source": [
    "from imblearn.over_sampling import SMOTE\n",
    "from sklearn.model_selection import train_test_split\n",
    "from sklearn.preprocessing import StandardScaler\n",
    "from sklearn.linear_model import LogisticRegression\n",
    "from sklearn.ensemble import RandomForestClassifier\n",
    "from sklearn.svm import SVC\n",
    "from sklearn.metrics import accuracy_score, confusion_matrix, classification_report\n",
    "from sklearn.model_selection import cross_val_score\n",
    "from sklearn.preprocessing import OneHotEncoder, LabelEncoder\n",
    "from sklearn.tree import DecisionTreeClassifier, plot_tree\n",
    "\n",
    "for col in df.columns:\n",
    "    df[col] = df[col].astype('category')\n",
    "    df[col] = df[col].astype(str)\n",
    "\n",
    "# Label encoding\n",
    "label_encoders = {}\n",
    "encoded_data = df.copy()\n",
    "for column in df.columns:\n",
    "    le = LabelEncoder()\n",
    "    encoded_data[column] = le.fit_transform(df[column])\n",
    "    label_encoders[column] = le\n",
    "\n",
    "# Split the dataset into features and target variable\n",
    "X = encoded_data.drop(\"accident_severity\", axis=1)  # Replace 'accident_severity' with your target variable\n",
    "y = encoded_data[\"accident_severity\"]  # Replace 'accident_severity' with your target variable\n",
    "\n",
    "# Apply SMOTE to the training data\n",
    "smote = SMOTE(sampling_strategy='auto')  # You can specify the `sampling_strategy` here\n",
    "X_res, y_res = smote.fit_resample(X, y)\n",
    "\n",
    "# Split the dataset into training and test sets\n",
    "X_train, X_test, y_train, y_test = train_test_split(X_res, y_res, test_size=0.2, random_state=42)\n",
    "\n",
    "# Feature scaling\n",
    "scaler = StandardScaler()\n",
    "X_train = scaler.fit_transform(X_train)\n",
    "X_test = scaler.transform(X_test)\n",
    "\n",
    "\n",
    "# Initialize and train models\n",
    "# MNL\n",
    "mnl_model = LogisticRegression(multi_class='multinomial', solver='lbfgs')\n",
    "# mnl_model.fit(X_train, y_train)\n",
    "# mnl_pred = mnl_model.predict(X_test)\n",
    "# mnl_acc = accuracy_score(y_test, mnl_pred)\n",
    "# print(f\"Multinomial Logistic Regression Accuracy: {mnl_acc}\")\n",
    "\n",
    "# # RF\n",
    "rf_model = RandomForestClassifier()\n",
    "# rf_model.fit(X_train, y_train)\n",
    "# rf_pred = rf_model.predict(X_test)\n",
    "# rf_acc = accuracy_score(y_test, rf_pred)\n",
    "# print(f\"Random Forest Accuracy: {rf_acc}\")\n",
    "\n",
    "# DT\n",
    "dt_model = DecisionTreeClassifier()\n",
    "# dt_model.fit(X_train, y_train)\n",
    "# svc\n",
    "models = {'MNL': mnl_model, 'DT': dt_model, 'RF': rf_model}\n",
    "\n",
    "# Loop through each model and evaluate\n",
    "for name, model in models.items():\n",
    "    print(f\"Evaluating {name}...\")\n",
    "    \n",
    "    # Fit the model\n",
    "    model.fit(X_train, y_train)\n",
    "    \n",
    "    # Make predictions\n",
    "    y_pred = model.predict(X_test)\n",
    "    \n",
    "    # Confusion Matrix\n",
    "    conf_matrix = confusion_matrix(y_test, y_pred)\n",
    "    print(\"Confusion Matrix:\")\n",
    "    print(conf_matrix)\n",
    "    \n",
    "    # Classification Report\n",
    "    class_report = classification_report(y_test, y_pred)\n",
    "    print(\"Classification Report:\")\n",
    "    print(class_report)\n",
    "    \n",
    "#     # Cross-Validation\n",
    "#     cross_val_scores = cross_val_score(model, X, y, cv=5)\n",
    "#     print(\"Cross-Validation Scores:\")\n",
    "#     print(cross_val_scores)\n",
    "#     print(\"Mean Cross-Validation Score:\")\n",
    "#     print(cross_val_scores.mean())\n",
    "    \n",
    "#     print(\"------\")\n"
   ]
  },
  {
   "cell_type": "code",
   "execution_count": 8,
   "id": "1e4ffe55",
   "metadata": {},
   "outputs": [
    {
     "ename": "ModuleNotFoundError",
     "evalue": "No module named 'scikitplot'",
     "output_type": "error",
     "traceback": [
      "\u001b[1;31m---------------------------------------------------------------------------\u001b[0m",
      "\u001b[1;31mModuleNotFoundError\u001b[0m                       Traceback (most recent call last)",
      "Input \u001b[1;32mIn [8]\u001b[0m, in \u001b[0;36m<cell line: 2>\u001b[1;34m()\u001b[0m\n\u001b[0;32m      1\u001b[0m \u001b[38;5;28;01mimport\u001b[39;00m \u001b[38;5;21;01mmatplotlib\u001b[39;00m\u001b[38;5;21;01m.\u001b[39;00m\u001b[38;5;21;01mpyplot\u001b[39;00m \u001b[38;5;28;01mas\u001b[39;00m \u001b[38;5;21;01mplt\u001b[39;00m\n\u001b[1;32m----> 2\u001b[0m \u001b[38;5;28;01mimport\u001b[39;00m \u001b[38;5;21;01mscikitplot\u001b[39;00m \u001b[38;5;28;01mas\u001b[39;00m \u001b[38;5;21;01mskplt\u001b[39;00m\n\u001b[0;32m      5\u001b[0m models \u001b[38;5;241m=\u001b[39m {\u001b[38;5;124m'\u001b[39m\u001b[38;5;124mMNL\u001b[39m\u001b[38;5;124m'\u001b[39m: mnl_model, \u001b[38;5;124m'\u001b[39m\u001b[38;5;124mDT\u001b[39m\u001b[38;5;124m'\u001b[39m: dt_model, \u001b[38;5;124m'\u001b[39m\u001b[38;5;124mRF\u001b[39m\u001b[38;5;124m'\u001b[39m: rf_model}\n\u001b[0;32m      7\u001b[0m \u001b[38;5;28;01mfor\u001b[39;00m name, model \u001b[38;5;129;01min\u001b[39;00m models\u001b[38;5;241m.\u001b[39mitems():\n",
      "\u001b[1;31mModuleNotFoundError\u001b[0m: No module named 'scikitplot'"
     ]
    }
   ],
   "source": [
    "import matplotlib.pyplot as plt\n",
    "import scikitplot as skplt\n",
    "\n",
    "\n",
    "models = {'MNL': mnl_model, 'DT': dt_model, 'RF': rf_model}\n",
    "\n",
    "for name, model in models.items():\n",
    "    print(f\"Evaluating {name}...\")\n",
    "    \n",
    "    # Fit the model\n",
    "    model.fit(X_train, y_train)\n",
    "    \n",
    "    # Make predictions\n",
    "    y_prob = model.predict_proba(X_test)\n",
    "    \n",
    "    # Create a lift chart\n",
    "    skplt.metrics.plot_lift_curve(y_true=y_test, y_probas=y_prob)\n",
    "    plt.title(f\"{name} Lift Chart\")\n",
    "    plt.show()"
   ]
  },
  {
   "cell_type": "code",
   "execution_count": 8,
   "id": "6bcf502d",
   "metadata": {},
   "outputs": [
    {
     "name": "stdout",
     "output_type": "stream",
     "text": [
      "Defaulting to user installation because normal site-packages is not writeable\n",
      "Collecting scikit-plot\n",
      "  Downloading scikit_plot-0.3.7-py3-none-any.whl (33 kB)\n",
      "Requirement already satisfied: joblib>=0.10 in c:\\users\\anura\\appdata\\roaming\\python\\python39\\site-packages (from scikit-plot) (1.2.0)\n",
      "Requirement already satisfied: scipy>=0.9 in c:\\programdata\\anaconda3\\lib\\site-packages (from scikit-plot) (1.7.3)\n",
      "Requirement already satisfied: matplotlib>=1.4.0 in c:\\programdata\\anaconda3\\lib\\site-packages (from scikit-plot) (3.5.1)\n",
      "Requirement already satisfied: scikit-learn>=0.18 in c:\\users\\anura\\appdata\\roaming\\python\\python39\\site-packages (from scikit-plot) (1.3.0)\n",
      "Requirement already satisfied: fonttools>=4.22.0 in c:\\programdata\\anaconda3\\lib\\site-packages (from matplotlib>=1.4.0->scikit-plot) (4.25.0)\n",
      "Requirement already satisfied: cycler>=0.10 in c:\\programdata\\anaconda3\\lib\\site-packages (from matplotlib>=1.4.0->scikit-plot) (0.11.0)\n",
      "Requirement already satisfied: kiwisolver>=1.0.1 in c:\\programdata\\anaconda3\\lib\\site-packages (from matplotlib>=1.4.0->scikit-plot) (1.3.2)\n",
      "Requirement already satisfied: pillow>=6.2.0 in c:\\programdata\\anaconda3\\lib\\site-packages (from matplotlib>=1.4.0->scikit-plot) (9.0.1)\n",
      "Requirement already satisfied: python-dateutil>=2.7 in c:\\programdata\\anaconda3\\lib\\site-packages (from matplotlib>=1.4.0->scikit-plot) (2.8.2)\n",
      "Requirement already satisfied: packaging>=20.0 in c:\\programdata\\anaconda3\\lib\\site-packages (from matplotlib>=1.4.0->scikit-plot) (21.3)\n",
      "Requirement already satisfied: numpy>=1.17 in c:\\users\\anura\\appdata\\roaming\\python\\python39\\site-packages (from matplotlib>=1.4.0->scikit-plot) (1.24.3)\n",
      "Requirement already satisfied: pyparsing>=2.2.1 in c:\\programdata\\anaconda3\\lib\\site-packages (from matplotlib>=1.4.0->scikit-plot) (3.0.4)\n",
      "Requirement already satisfied: six>=1.5 in c:\\programdata\\anaconda3\\lib\\site-packages (from python-dateutil>=2.7->matplotlib>=1.4.0->scikit-plot) (1.16.0)\n",
      "Requirement already satisfied: threadpoolctl>=2.0.0 in c:\\programdata\\anaconda3\\lib\\site-packages (from scikit-learn>=0.18->scikit-plot) (2.2.0)\n",
      "Collecting numpy>=1.17\n",
      "  Downloading numpy-1.22.4-cp39-cp39-win_amd64.whl (14.7 MB)\n",
      "Installing collected packages: numpy, scikit-plot\n",
      "  Attempting uninstall: numpy\n",
      "    Found existing installation: numpy 1.24.3\n",
      "    Uninstalling numpy-1.24.3:\n",
      "      Successfully uninstalled numpy-1.24.3\n",
      "Note: you may need to restart the kernel to use updated packages.\n"
     ]
    },
    {
     "name": "stderr",
     "output_type": "stream",
     "text": [
      "  WARNING: The script f2py.exe is installed in 'C:\\Users\\anura\\AppData\\Roaming\\Python\\Python39\\Scripts' which is not on PATH.\n",
      "  Consider adding this directory to PATH or, if you prefer to suppress this warning, use --no-warn-script-location.\n",
      "ERROR: Could not install packages due to an OSError: [WinError 5] Access is denied: 'C:\\\\Users\\\\anura\\\\AppData\\\\Roaming\\\\Python\\\\Python39\\\\site-packages\\\\~umpy\\\\.libs\\\\libopenblas64__v0.3.21-gcc_10_3_0.dll'\n",
      "Check the permissions.\n",
      "\n"
     ]
    }
   ],
   "source": [
    "pip install scikit-plot"
   ]
  },
  {
   "cell_type": "code",
   "execution_count": 14,
   "id": "2fc2ca17",
   "metadata": {},
   "outputs": [
    {
     "data": {
      "text/html": [
       "<div>\n",
       "<style scoped>\n",
       "    .dataframe tbody tr th:only-of-type {\n",
       "        vertical-align: middle;\n",
       "    }\n",
       "\n",
       "    .dataframe tbody tr th {\n",
       "        vertical-align: top;\n",
       "    }\n",
       "\n",
       "    .dataframe thead th {\n",
       "        text-align: right;\n",
       "    }\n",
       "</style>\n",
       "<table border=\"1\" class=\"dataframe\">\n",
       "  <thead>\n",
       "    <tr style=\"text-align: right;\">\n",
       "      <th></th>\n",
       "      <th>Variable Name</th>\n",
       "      <th>Coefficient</th>\n",
       "      <th>Intercept</th>\n",
       "      <th>Class</th>\n",
       "    </tr>\n",
       "  </thead>\n",
       "  <tbody>\n",
       "    <tr>\n",
       "      <th>0</th>\n",
       "      <td>engine_capacity_cc</td>\n",
       "      <td>-0.071089</td>\n",
       "      <td>2.949916</td>\n",
       "      <td>Fatal</td>\n",
       "    </tr>\n",
       "    <tr>\n",
       "      <th>1</th>\n",
       "      <td>age_of_vehicle</td>\n",
       "      <td>0.075962</td>\n",
       "      <td>2.949916</td>\n",
       "      <td>Fatal</td>\n",
       "    </tr>\n",
       "    <tr>\n",
       "      <th>2</th>\n",
       "      <td>Safety Rating_0_0</td>\n",
       "      <td>-0.161287</td>\n",
       "      <td>2.949916</td>\n",
       "      <td>Fatal</td>\n",
       "    </tr>\n",
       "    <tr>\n",
       "      <th>3</th>\n",
       "      <td>Safety Rating_1_1</td>\n",
       "      <td>-0.155476</td>\n",
       "      <td>2.949916</td>\n",
       "      <td>Fatal</td>\n",
       "    </tr>\n",
       "    <tr>\n",
       "      <th>4</th>\n",
       "      <td>Safety Rating_2_2</td>\n",
       "      <td>-0.140218</td>\n",
       "      <td>2.949916</td>\n",
       "      <td>Fatal</td>\n",
       "    </tr>\n",
       "    <tr>\n",
       "      <th>...</th>\n",
       "      <td>...</td>\n",
       "      <td>...</td>\n",
       "      <td>...</td>\n",
       "      <td>...</td>\n",
       "    </tr>\n",
       "    <tr>\n",
       "      <th>481</th>\n",
       "      <td>weather_conditions_Other</td>\n",
       "      <td>0.253292</td>\n",
       "      <td>-8.138849</td>\n",
       "      <td>Slight</td>\n",
       "    </tr>\n",
       "    <tr>\n",
       "      <th>482</th>\n",
       "      <td>weather_conditions_Raining</td>\n",
       "      <td>0.781367</td>\n",
       "      <td>-8.138849</td>\n",
       "      <td>Slight</td>\n",
       "    </tr>\n",
       "    <tr>\n",
       "      <th>483</th>\n",
       "      <td>weather_conditions_Raining+high winds</td>\n",
       "      <td>0.238453</td>\n",
       "      <td>-8.138849</td>\n",
       "      <td>Slight</td>\n",
       "    </tr>\n",
       "    <tr>\n",
       "      <th>484</th>\n",
       "      <td>weather_conditions_Snowing</td>\n",
       "      <td>0.109044</td>\n",
       "      <td>-8.138849</td>\n",
       "      <td>Slight</td>\n",
       "    </tr>\n",
       "    <tr>\n",
       "      <th>485</th>\n",
       "      <td>weather_conditions_Snowing+high winds</td>\n",
       "      <td>0.197286</td>\n",
       "      <td>-8.138849</td>\n",
       "      <td>Slight</td>\n",
       "    </tr>\n",
       "  </tbody>\n",
       "</table>\n",
       "<p>486 rows × 4 columns</p>\n",
       "</div>"
      ],
      "text/plain": [
       "                             Variable Name  Coefficient  Intercept   Class\n",
       "0                       engine_capacity_cc    -0.071089   2.949916   Fatal\n",
       "1                           age_of_vehicle     0.075962   2.949916   Fatal\n",
       "2                        Safety Rating_0_0    -0.161287   2.949916   Fatal\n",
       "3                        Safety Rating_1_1    -0.155476   2.949916   Fatal\n",
       "4                        Safety Rating_2_2    -0.140218   2.949916   Fatal\n",
       "..                                     ...          ...        ...     ...\n",
       "481               weather_conditions_Other     0.253292  -8.138849  Slight\n",
       "482             weather_conditions_Raining     0.781367  -8.138849  Slight\n",
       "483  weather_conditions_Raining+high winds     0.238453  -8.138849  Slight\n",
       "484             weather_conditions_Snowing     0.109044  -8.138849  Slight\n",
       "485  weather_conditions_Snowing+high winds     0.197286  -8.138849  Slight\n",
       "\n",
       "[486 rows x 4 columns]"
      ]
     },
     "execution_count": 14,
     "metadata": {},
     "output_type": "execute_result"
    }
   ],
   "source": [
    "# ... [rest of the code remains unchanged]\n",
    "\n",
    "# After fitting your model\n",
    "coefficients = mnl_model.coef_\n",
    "intercept = mnl_model.intercept_\n",
    "\n",
    "def get_original_category(col_name):\n",
    "    for original_col, le in label_encoders.items():\n",
    "        if col_name.startswith(original_col):\n",
    "            split_value = col_name.split(\"_\")[-1]\n",
    "            if split_value.isdigit():\n",
    "                encoded_value = int(split_value)\n",
    "                try:\n",
    "                    return f\"{original_col}_{le.inverse_transform([encoded_value])[0]}\"\n",
    "                except ValueError:  # If the value is not recognized by the encoder, return the original encoded value\n",
    "                    return f\"{original_col}_{encoded_value}\"\n",
    "    return col_name\n",
    "\n",
    "# Try the mapping again using X.columns\n",
    "mapped_features = [get_original_category(feature) for feature in X.columns]\n",
    "\n",
    "# Create a list of dataframes for each class's coefficients\n",
    "dfs = []\n",
    "num_classes = coefficients.shape[0]\n",
    "num_features = len(mapped_features)\n",
    "\n",
    "for i in range(num_classes):\n",
    "    df_class = pd.DataFrame({\n",
    "        'Variable Name': mapped_features,\n",
    "        'Coefficient': coefficients[i],\n",
    "        'Intercept': [intercept[i]] * num_features\n",
    "    })\n",
    "    df_class['Class'] = label_encoders['accident_severity'].inverse_transform([i])[0]  # Assuming 'accident_severity' is the target variable\n",
    "    dfs.append(df_class)\n",
    "\n",
    "# Concatenate the dataframes\n",
    "results_df_all_classes = pd.concat(dfs, axis=0).reset_index(drop=True)\n",
    "results_df_all_classes\n"
   ]
  },
  {
   "cell_type": "code",
   "execution_count": 9,
   "id": "e7801d09",
   "metadata": {},
   "outputs": [
    {
     "data": {
      "image/png": "[encoded data removed]",
      "text/plain": [
       "<Figure size 720x432 with 1 Axes>"
      ]
     },
     "metadata": {
      "needs_background": "light"
     },
     "output_type": "display_data"
    },
    {
     "data": {
      "image/png": "[encoded data removed]",
      "text/plain": [
       "<Figure size 720x432 with 1 Axes>"
      ]
     },
     "metadata": {
      "needs_background": "light"
     },
     "output_type": "display_data"
    },
    {
     "data": {
      "image/png": "[encoded data removed]",
      "text/plain": [
       "<Figure size 720x432 with 1 Axes>"
      ]
     },
     "metadata": {
      "needs_background": "light"
     },
     "output_type": "display_data"
    }
   ],
   "source": [
    "import matplotlib.pyplot as plt\n",
    "# Predict the probabilities\n",
    "probs_mnl = mnl_model.predict_proba(X_test)\n",
    "\n",
    "# For a binary classification, you can use the probabilities of the positive class\n",
    "if probs_mnl.shape[1] == 2:\n",
    "    positive_probs_mnl = probs_mnl[:, 1]\n",
    "    plt.hist(positive_probs_mnl, bins=50, alpha=0.6, label='MNL Predicted Probabilities')\n",
    "    plt.title(\"Histogram of MNL Predicted Probabilities\")\n",
    "    plt.xlabel(\"Predicted Probability\")\n",
    "    plt.ylabel(\"Frequency\")\n",
    "    plt.legend()\n",
    "    plt.show()\n",
    "# For multi-class, you may want to plot a histogram for each class in a subplot or separate figures\n",
    "else:\n",
    "    for i, class_label in enumerate(label_encoders['accident_severity'].classes_):\n",
    "        plt.figure(figsize=(10,6))\n",
    "        plt.hist(probs_mnl[:, i], bins=50, alpha=0.6, label=f'MNL Predicted Probabilities of {class_label}')\n",
    "        plt.title(f\"Histogram of MNL Predicted Probabilities for {class_label}\")\n",
    "        plt.xlabel(\"Predicted Probability\")\n",
    "        plt.ylabel(\"Frequency\")\n",
    "        plt.legend()\n",
    "        plt.show()\n"
   ]
  },
  {
   "cell_type": "code",
   "execution_count": 19,
   "id": "654f398c",
   "metadata": {},
   "outputs": [],
   "source": [
    "# After fitting your model\n",
    "coefficients = mnl_model.coef_\n",
    "intercept = mnl_model.intercept_\n",
    "def get_original_category(col_name):\n",
    "    for original_col, le in label_encoders.items():\n",
    "        if col_name.startswith(original_col):\n",
    "            split_value = col_name.split(\"_\")[-1]\n",
    "            if split_value.isdigit():\n",
    "                encoded_value = int(split_value)\n",
    "                try:\n",
    "                    return f\"{original_col}_{le.inverse_transform([encoded_value])[0]}\"\n",
    "                except ValueError:  # If the value is not recognized by the encoder, return the original encoded value\n",
    "                    return f\"{original_col}_{encoded_value}\"\n",
    "    return col_name\n",
    "\n",
    "# Try the mapping again\n",
    "mapped_features = [get_original_category(feature) for feature in (X.columns)]\n",
    "mapped_features# Create a list of dataframes for each class's coefficients\n",
    "dfs = []\n",
    "for i in range(num_classes):\n",
    "    df_class = pd.DataFrame({\n",
    "        'Variable Name': mapped_features,\n",
    "        'Coefficient': coefficients[i],\n",
    "        'Intercept': [intercept[i]] * num_features\n",
    "    })\n",
    "    df_class['Class'] = label_encoders['accident_severity'].inverse_transform([i])[0] # Assuming 'accident_severity' is the target variable\n",
    "    dfs.append(df_class)\n",
    "\n",
    "# Concatenate the dataframes\n",
    "results_df_all_classes = pd.concat(dfs, axis=0).reset_index(drop=True)\n"
   ]
  },
  {
   "cell_type": "code",
   "execution_count": 15,
   "id": "102e8610",
   "metadata": {},
   "outputs": [],
   "source": [
    "results_df_all_classes.to_csv('D:/Dissertation/Dataset/Analysis/Analy.csv')"
   ]
  },
  {
   "cell_type": "code",
   "execution_count": 27,
   "id": "bae22f19",
   "metadata": {},
   "outputs": [
    {
     "name": "stdout",
     "output_type": "stream",
     "text": [
      "^C\n",
      "Defaulting to user installation because normal site-packages is not writeable\n",
      "Requirement already satisfied: tensorflow in c:\\users\\anura\\appdata\\roaming\\python\\python39\\site-packages (2.13.0)\n",
      "Requirement already satisfied: tensorflow-intel==2.13.0 in c:\\users\\anura\\appdata\\roaming\\python\\python39\\site-packages (from tensorflow) (2.13.0)\n",
      "Requirement already satisfied: flatbuffers>=23.1.21 in c:\\users\\anura\\appdata\\roaming\\python\\python39\\site-packages (from tensorflow-intel==2.13.0->tensorflow) (23.5.26)\n",
      "Requirement already satisfied: google-pasta>=0.1.1 in c:\\users\\anura\\appdata\\roaming\\python\\python39\\site-packages (from tensorflow-intel==2.13.0->tensorflow) (0.2.0)\n",
      "Requirement already satisfied: termcolor>=1.1.0 in c:\\users\\anura\\appdata\\roaming\\python\\python39\\site-packages (from tensorflow-intel==2.13.0->tensorflow) (2.3.0)\n",
      "Requirement already satisfied: grpcio<2.0,>=1.24.3 in c:\\users\\anura\\appdata\\roaming\\python\\python39\\site-packages (from tensorflow-intel==2.13.0->tensorflow) (1.58.0)\n",
      "Requirement already satisfied: astunparse>=1.6.0 in c:\\users\\anura\\appdata\\roaming\\python\\python39\\site-packages (from tensorflow-intel==2.13.0->tensorflow) (1.6.3)\n",
      "Requirement already satisfied: opt-einsum>=2.3.2 in c:\\users\\anura\\appdata\\roaming\\python\\python39\\site-packages (from tensorflow-intel==2.13.0->tensorflow) (3.3.0)\n",
      "Requirement already satisfied: absl-py>=1.0.0 in c:\\users\\anura\\appdata\\roaming\\python\\python39\\site-packages (from tensorflow-intel==2.13.0->tensorflow) (1.4.0)\n",
      "Requirement already satisfied: h5py>=2.9.0 in c:\\programdata\\anaconda3\\lib\\site-packages (from tensorflow-intel==2.13.0->tensorflow) (3.6.0)\n",
      "Requirement already satisfied: numpy<=1.24.3,>=1.22 in c:\\users\\anura\\appdata\\roaming\\python\\python39\\site-packages (from tensorflow-intel==2.13.0->tensorflow) (1.24.3)\n",
      "Requirement already satisfied: typing-extensions<4.6.0,>=3.6.6 in c:\\programdata\\anaconda3\\lib\\site-packages (from tensorflow-intel==2.13.0->tensorflow) (4.1.1)\n",
      "Requirement already satisfied: packaging in c:\\programdata\\anaconda3\\lib\\site-packages (from tensorflow-intel==2.13.0->tensorflow) (21.3)\n",
      "Requirement already satisfied: keras<2.14,>=2.13.1 in c:\\users\\anura\\appdata\\roaming\\python\\python39\\site-packages (from tensorflow-intel==2.13.0->tensorflow) (2.13.1)\n",
      "Requirement already satisfied: tensorflow-estimator<2.14,>=2.13.0 in c:\\users\\anura\\appdata\\roaming\\python\\python39\\site-packages (from tensorflow-intel==2.13.0->tensorflow) (2.13.0)\n",
      "Requirement already satisfied: protobuf!=4.21.0,!=4.21.1,!=4.21.2,!=4.21.3,!=4.21.4,!=4.21.5,<5.0.0dev,>=3.20.3 in c:\\users\\anura\\appdata\\roaming\\python\\python39\\site-packages (from tensorflow-intel==2.13.0->tensorflow) (4.24.3)\n",
      "Requirement already satisfied: six>=1.12.0 in c:\\programdata\\anaconda3\\lib\\site-packages (from tensorflow-intel==2.13.0->tensorflow) (1.16.0)\n",
      "Requirement already satisfied: tensorflow-io-gcs-filesystem>=0.23.1 in c:\\users\\anura\\appdata\\roaming\\python\\python39\\site-packages (from tensorflow-intel==2.13.0->tensorflow) (0.31.0)\n",
      "Requirement already satisfied: gast<=0.4.0,>=0.2.1 in c:\\users\\anura\\appdata\\roaming\\python\\python39\\site-packages (from tensorflow-intel==2.13.0->tensorflow) (0.4.0)\n",
      "Requirement already satisfied: wrapt>=1.11.0 in c:\\programdata\\anaconda3\\lib\\site-packages (from tensorflow-intel==2.13.0->tensorflow) (1.12.1)\n",
      "Requirement already satisfied: libclang>=13.0.0 in c:\\users\\anura\\appdata\\roaming\\python\\python39\\site-packages (from tensorflow-intel==2.13.0->tensorflow) (16.0.6)\n",
      "Requirement already satisfied: setuptools in c:\\programdata\\anaconda3\\lib\\site-packages (from tensorflow-intel==2.13.0->tensorflow) (61.2.0)\n",
      "Requirement already satisfied: tensorboard<2.14,>=2.13 in c:\\users\\anura\\appdata\\roaming\\python\\python39\\site-packages (from tensorflow-intel==2.13.0->tensorflow) (2.13.0)\n",
      "Requirement already satisfied: wheel<1.0,>=0.23.0 in c:\\programdata\\anaconda3\\lib\\site-packages (from astunparse>=1.6.0->tensorflow-intel==2.13.0->tensorflow) (0.37.1)\n",
      "Requirement already satisfied: markdown>=2.6.8 in c:\\programdata\\anaconda3\\lib\\site-packages (from tensorboard<2.14,>=2.13->tensorflow-intel==2.13.0->tensorflow) (3.3.4)\n",
      "Requirement already satisfied: google-auth-oauthlib<1.1,>=0.5 in c:\\users\\anura\\appdata\\roaming\\python\\python39\\site-packages (from tensorboard<2.14,>=2.13->tensorflow-intel==2.13.0->tensorflow) (1.0.0)\n",
      "Requirement already satisfied: requests<3,>=2.21.0 in c:\\programdata\\anaconda3\\lib\\site-packages (from tensorboard<2.14,>=2.13->tensorflow-intel==2.13.0->tensorflow) (2.27.1)\n",
      "Requirement already satisfied: tensorboard-data-server<0.8.0,>=0.7.0 in c:\\users\\anura\\appdata\\roaming\\python\\python39\\site-packages (from tensorboard<2.14,>=2.13->tensorflow-intel==2.13.0->tensorflow) (0.7.1)\n",
      "Requirement already satisfied: werkzeug>=1.0.1 in c:\\programdata\\anaconda3\\lib\\site-packages (from tensorboard<2.14,>=2.13->tensorflow-intel==2.13.0->tensorflow) (2.0.3)\n",
      "Requirement already satisfied: google-auth<3,>=1.6.3 in c:\\users\\anura\\appdata\\roaming\\python\\python39\\site-packages (from tensorboard<2.14,>=2.13->tensorflow-intel==2.13.0->tensorflow) (2.22.0)\n",
      "Requirement already satisfied: pyasn1-modules>=0.2.1 in c:\\programdata\\anaconda3\\lib\\site-packages (from google-auth<3,>=1.6.3->tensorboard<2.14,>=2.13->tensorflow-intel==2.13.0->tensorflow) (0.2.8)\n",
      "Requirement already satisfied: cachetools<6.0,>=2.0.0 in c:\\programdata\\anaconda3\\lib\\site-packages (from google-auth<3,>=1.6.3->tensorboard<2.14,>=2.13->tensorflow-intel==2.13.0->tensorflow) (4.2.2)\n",
      "Requirement already satisfied: rsa<5,>=3.1.4 in c:\\programdata\\anaconda3\\lib\\site-packages (from google-auth<3,>=1.6.3->tensorboard<2.14,>=2.13->tensorflow-intel==2.13.0->tensorflow) (4.7.2)\n",
      "Requirement already satisfied: urllib3<2.0 in c:\\programdata\\anaconda3\\lib\\site-packages (from google-auth<3,>=1.6.3->tensorboard<2.14,>=2.13->tensorflow-intel==2.13.0->tensorflow) (1.26.9)\n",
      "Requirement already satisfied: requests-oauthlib>=0.7.0 in c:\\users\\anura\\appdata\\roaming\\python\\python39\\site-packages (from google-auth-oauthlib<1.1,>=0.5->tensorboard<2.14,>=2.13->tensorflow-intel==2.13.0->tensorflow) (1.3.1)\n",
      "Requirement already satisfied: pyasn1<0.5.0,>=0.4.6 in c:\\programdata\\anaconda3\\lib\\site-packages (from pyasn1-modules>=0.2.1->google-auth<3,>=1.6.3->tensorboard<2.14,>=2.13->tensorflow-intel==2.13.0->tensorflow) (0.4.8)\n",
      "Requirement already satisfied: idna<4,>=2.5 in c:\\programdata\\anaconda3\\lib\\site-packages (from requests<3,>=2.21.0->tensorboard<2.14,>=2.13->tensorflow-intel==2.13.0->tensorflow) (3.3)\n",
      "Requirement already satisfied: charset-normalizer~=2.0.0 in c:\\programdata\\anaconda3\\lib\\site-packages (from requests<3,>=2.21.0->tensorboard<2.14,>=2.13->tensorflow-intel==2.13.0->tensorflow) (2.0.4)\n",
      "Requirement already satisfied: certifi>=2017.4.17 in c:\\programdata\\anaconda3\\lib\\site-packages (from requests<3,>=2.21.0->tensorboard<2.14,>=2.13->tensorflow-intel==2.13.0->tensorflow) (2021.10.8)\n",
      "Requirement already satisfied: oauthlib>=3.0.0 in c:\\users\\anura\\appdata\\roaming\\python\\python39\\site-packages (from requests-oauthlib>=0.7.0->google-auth-oauthlib<1.1,>=0.5->tensorboard<2.14,>=2.13->tensorflow-intel==2.13.0->tensorflow) (3.2.2)\n",
      "Requirement already satisfied: pyparsing!=3.0.5,>=2.0.2 in c:\\programdata\\anaconda3\\lib\\site-packages (from packaging->tensorflow-intel==2.13.0->tensorflow) (3.0.4)\n"
     ]
    }
   ],
   "source": [
    "!pip uninstall tensorflow\n",
    "!pip install tensorflow\n"
   ]
  },
  {
   "cell_type": "code",
   "execution_count": 8,
   "id": "d3ecdf8a",
   "metadata": {},
   "outputs": [
    {
     "name": "stdout",
     "output_type": "stream",
     "text": [
      "Evaluating ANN...\n",
      "Epoch 1/10\n",
      "8328/8328 [==============================] - 16s 2ms/step - loss: 0.3989 - accuracy: 0.8412\n",
      "Epoch 2/10\n",
      "8328/8328 [==============================] - 16s 2ms/step - loss: 0.3036 - accuracy: 0.8848\n",
      "Epoch 3/10\n",
      "8328/8328 [==============================] - 15s 2ms/step - loss: 0.2739 - accuracy: 0.8959\n",
      "Epoch 4/10\n",
      "8328/8328 [==============================] - 14s 2ms/step - loss: 0.2589 - accuracy: 0.9010\n",
      "Epoch 5/10\n",
      "8328/8328 [==============================] - 15s 2ms/step - loss: 0.2486 - accuracy: 0.9042\n",
      "Epoch 6/10\n",
      "8328/8328 [==============================] - 15s 2ms/step - loss: 0.2421 - accuracy: 0.9064\n",
      "Epoch 7/10\n",
      "8328/8328 [==============================] - 11s 1ms/step - loss: 0.2352 - accuracy: 0.9083\n",
      "Epoch 8/10\n",
      "8328/8328 [==============================] - 14s 2ms/step - loss: 0.2307 - accuracy: 0.9098\n",
      "Epoch 9/10\n",
      "8328/8328 [==============================] - 12s 1ms/step - loss: 0.2268 - accuracy: 0.9111\n",
      "Epoch 10/10\n",
      "8328/8328 [==============================] - 12s 1ms/step - loss: 0.2240 - accuracy: 0.9117\n",
      "2082/2082 [==============================] - 2s 713us/step\n",
      "Confusion Matrix:\n",
      "[[21508   409   350]\n",
      " [  398 16759  4925]\n",
      " [   37   300 21936]]\n",
      "Classification Report:\n",
      "              precision    recall  f1-score   support\n",
      "\n",
      "           0       0.98      0.97      0.97     22267\n",
      "           1       0.96      0.76      0.85     22082\n",
      "           2       0.81      0.98      0.89     22273\n",
      "\n",
      "    accuracy                           0.90     66622\n",
      "   macro avg       0.92      0.90      0.90     66622\n",
      "weighted avg       0.92      0.90      0.90     66622\n",
      "\n",
      "------\n"
     ]
    }
   ],
   "source": [
    "from keras.models import Sequential\n",
    "from keras.layers import Dense\n",
    "from imblearn.over_sampling import SMOTE\n",
    "from sklearn.model_selection import train_test_split\n",
    "from sklearn.preprocessing import StandardScaler\n",
    "from sklearn.linear_model import LogisticRegression\n",
    "from sklearn.ensemble import RandomForestClassifier\n",
    "from sklearn.svm import SVC\n",
    "from sklearn.metrics import accuracy_score, confusion_matrix, classification_report\n",
    "from sklearn.model_selection import cross_val_score\n",
    "from sklearn.preprocessing import OneHotEncoder, LabelEncoder\n",
    "from sklearn.tree import DecisionTreeClassifier, plot_tree\n",
    "\n",
    "for col in df.columns:\n",
    "    df[col] = df[col].astype('category')\n",
    "    df[col] = df[col].astype(str)\n",
    "\n",
    "# Label encoding\n",
    "label_encoders = {}\n",
    "encoded_data = df.copy()\n",
    "for column in df.columns:\n",
    "    le = LabelEncoder()\n",
    "    encoded_data[column] = le.fit_transform(df[column])\n",
    "    label_encoders[column] = le\n",
    "\n",
    "# Split the dataset into features and target variable\n",
    "X = encoded_data.drop(\"accident_severity\", axis=1)  #  'accident_severity' is the  target variable\n",
    "y = encoded_data[\"accident_severity\"]  # 'accident_severity' is the  target variable\n",
    "\n",
    "# Apply SMOTE to the training data\n",
    "smote = SMOTE(sampling_strategy='auto')  \n",
    "X_res, y_res = smote.fit_resample(X, y)\n",
    "\n",
    "# Split the dataset into training and test sets\n",
    "X_train, X_test, y_train, y_test = train_test_split(X_res, y_res, test_size=0.3, random_state=42)\n",
    "\n",
    "# Feature scaling\n",
    "scaler = StandardScaler()\n",
    "X_train = scaler.fit_transform(X_train)\n",
    "X_test = scaler.transform(X_test)\n",
    "\n",
    "models = {}\n",
    "\n",
    "# Define the ANN model\n",
    "ann_model = Sequential()\n",
    "ann_model.add(Dense(units=128, activation='relu', input_dim=X_train.shape[1]))\n",
    "ann_model.add(Dense(units=64, activation='relu'))\n",
    "ann_model.add(Dense(units=32, activation='relu'))\n",
    "ann_model.add(Dense(units=3, activation='softmax'))  #  'accident_severity' has 3 classes\n",
    "\n",
    "# Compile the model\n",
    "ann_model.compile(optimizer='adam', loss='sparse_categorical_crossentropy', metrics=['accuracy'])\n",
    "\n",
    "# Add the ANN model to the models dictionary\n",
    "models['ANN'] = ann_model\n",
    "\n",
    "# Modify the evaluation loop to handle the ANN differently\n",
    "for name, model in models.items():\n",
    "    print(f\"Evaluating {name}...\")\n",
    "    \n",
    "    if name == 'ANN':\n",
    "        # Train the ANN\n",
    "        model.fit(X_train, y_train, epochs=10, batch_size=32, verbose=1)\n",
    "        \n",
    "        # Make predictions\n",
    "        y_pred = model.predict(X_test).argmax(axis=1)\n",
    "    else:\n",
    "        # Fit the model\n",
    "        model.fit(X_train, y_train)\n",
    "        \n",
    "        # Make predictions\n",
    "        y_pred = model.predict(X_test)\n",
    "        \n",
    "\n",
    "\n",
    "    # Confusion Matrix\n",
    "    conf_matrix = confusion_matrix(y_test, y_pred)\n",
    "    print(\"Confusion Matrix:\")\n",
    "    print(conf_matrix)\n",
    "    \n",
    "    # Classification Report\n",
    "    class_report = classification_report(y_test, y_pred)\n",
    "    print(\"Classification Report:\")\n",
    "    print(class_report)\n",
    "    \n",
    "    # If you want to include cross-validation for other models, you can do so here.\n",
    "    \n",
    "    print(\"------\")\n"
   ]
  },
  {
   "cell_type": "code",
   "execution_count": 16,
   "id": "44baa7c6",
   "metadata": {},
   "outputs": [
    {
     "data": {
      "image/png": "[encoded data removed]",
      "text/plain": [
       "<Figure size 1080x864 with 4 Axes>"
      ]
     },
     "metadata": {
      "needs_background": "light"
     },
     "output_type": "display_data"
    }
   ],
   "source": [
    "import matplotlib.pyplot as plt\n",
    "\n",
    "# Data\n",
    "models = ['MNL', 'DT', 'ANN']\n",
    "accuracy = [0.81, 0.86, 0.90]\n",
    "f1_avg = [0.80, 0.85, 0.90]\n",
    "recall_avg = [0.81, 0.86, 0.90]\n",
    "precision_avg = [0.81, 0.85, 0.92]\n",
    "\n",
    "# Create the plots\n",
    "fig, axs = plt.subplots(2, 2, figsize=(15, 12))\n",
    "\n",
    "# Accuracy\n",
    "axs[0, 0].bar(models, accuracy, color=['#F08080', '#87CEFA', '#FFB6C1'])\n",
    "axs[0, 0].set_title('Model Accuracy')\n",
    "axs[0, 0].set_ylabel('Accuracy')\n",
    "axs[0, 0].set_ylim(0, 1)\n",
    "\n",
    "# F1-score\n",
    "axs[0, 1].bar(models, f1_avg, color=['#F08080', '#87CEFA', '#FFB6C1'])\n",
    "axs[0, 1].set_title('Average F1-score')\n",
    "axs[0, 1].set_ylabel('F1-score')\n",
    "axs[0, 1].set_ylim(0, 1)\n",
    "\n",
    "# Recall\n",
    "axs[1, 0].bar(models, recall_avg, color=['#F08080', '#87CEFA', '#FFB6C1'])\n",
    "axs[1, 0].set_title('Average Recall')\n",
    "axs[1, 0].set_ylabel('Recall')\n",
    "axs[1, 0].set_ylim(0, 1)\n",
    "\n",
    "# Precision\n",
    "axs[1, 1].bar(models, precision_avg, color=['#F08080', '#87CEFA', '#FFB6C1'])\n",
    "axs[1, 1].set_title('Average Precision')\n",
    "axs[1, 1].set_ylabel('Precision')\n",
    "axs[1, 1].set_ylim(0, 1)\n",
    "\n",
    "plt.tight_layout()\n",
    "plt.show()\n"
   ]
  },
  {
   "cell_type": "code",
   "execution_count": 7,
   "id": "a9c26252",
   "metadata": {},
   "outputs": [
    {
     "ename": "NameError",
     "evalue": "name 'mnl_model' is not defined",
     "output_type": "error",
     "traceback": [
      "\u001b[1;31m---------------------------------------------------------------------------\u001b[0m",
      "\u001b[1;31mNameError\u001b[0m                                 Traceback (most recent call last)",
      "Input \u001b[1;32mIn [7]\u001b[0m, in \u001b[0;36m<cell line: 9>\u001b[1;34m()\u001b[0m\n\u001b[0;32m      5\u001b[0m \u001b[38;5;28;01mfrom\u001b[39;00m \u001b[38;5;21;01msklearn\u001b[39;00m\u001b[38;5;21;01m.\u001b[39;00m\u001b[38;5;21;01mmodel_selection\u001b[39;00m \u001b[38;5;28;01mimport\u001b[39;00m cross_val_score\n\u001b[0;32m      8\u001b[0m \u001b[38;5;66;03m# List of models\u001b[39;00m\n\u001b[1;32m----> 9\u001b[0m models \u001b[38;5;241m=\u001b[39m {\u001b[38;5;124m'\u001b[39m\u001b[38;5;124mMNL\u001b[39m\u001b[38;5;124m'\u001b[39m: \u001b[43mmnl_model\u001b[49m, \u001b[38;5;124m'\u001b[39m\u001b[38;5;124mRF\u001b[39m\u001b[38;5;124m'\u001b[39m: rf_model, \u001b[38;5;124m'\u001b[39m\u001b[38;5;124mSVM\u001b[39m\u001b[38;5;124m'\u001b[39m: svm_model}\n\u001b[0;32m     11\u001b[0m \u001b[38;5;66;03m# Loop through each model and evaluate\u001b[39;00m\n\u001b[0;32m     12\u001b[0m \u001b[38;5;28;01mfor\u001b[39;00m name, model \u001b[38;5;129;01min\u001b[39;00m models\u001b[38;5;241m.\u001b[39mitems():\n",
      "\u001b[1;31mNameError\u001b[0m: name 'mnl_model' is not defined"
     ]
    }
   ],
   "source": [
    "from sklearn.linear_model import LogisticRegression\n",
    "from sklearn.ensemble import RandomForestClassifier\n",
    "from sklearn.svm import SVC\n",
    "from sklearn.metrics import confusion_matrix, classification_report\n",
    "from sklearn.model_selection import cross_val_score\n",
    "\n",
    "\n",
    "# List of models\n",
    "models = {'MNL': mnl_model, 'RF': rf_model, 'SVM': svm_model}\n",
    "\n",
    "# Loop through each model and evaluate\n",
    "for name, model in models.items():\n",
    "    print(f\"Evaluating {name}...\")\n",
    "    \n",
    "    # Fit the model\n",
    "    model.fit(X_train, y_train)\n",
    "    \n",
    "    # Make predictions\n",
    "    y_pred = model.predict(X_test)\n",
    "    \n",
    "    # Confusion Matrix\n",
    "    conf_matrix = confusion_matrix(y_test, y_pred)\n",
    "    print(\"Confusion Matrix:\")\n",
    "    print(conf_matrix)\n",
    "    \n",
    "   # Classification Report\n",
    "    class_report = classification_report(y_test, y_pred)\n",
    "    print(\"Classification Report:\")\n",
    "    print(class_report)\n",
    "    \n",
    "    # Cross-Validation\n",
    "    cross_val_scores = cross_val_score(model, X, y, cv=5)\n",
    "    print(\"Cross-Validation Scores:\")\n",
    "    print(cross_val_scores)\n",
    "    print(\"Mean Cross-Validation Score:\")\n",
    "    print(cross_val_scores.mean())\n",
    "    \n",
    "    print(\"------\")\n",
    "\n",
    "from imblearn.over_sampling import SMOTE\n",
    "from sklearn.model_selection import train_test_split\n",
    "\n",
    "# Split the dataset into features and target variable\n",
    "X = df.drop(\"accident_severity\", axis=1)\n",
    "y = df[\"accident_severity\"]\n",
    "\n",
    "# Split the dataset into training and test sets\n",
    "X_train, X_test, y_train, y_test = train_test_split(X, y, test_size=0.2, random_state=42)\n",
    "\n",
    "# Apply SMOTE to the training data\n",
    "smote = SMOTE(random_state=42)\n",
    "X_res, y_res = smote.fit_resample(X_train, y_train)\n",
    "\n",
    "# Now, X_res and y_res are the resampled features and labels, respectively\n"
   ]
  },
  {
   "cell_type": "code",
   "execution_count": null,
   "id": "61a1a158",
   "metadata": {},
   "outputs": [],
   "source": []
  },
  {
   "cell_type": "code",
   "execution_count": 12,
   "id": "43f5b301",
   "metadata": {},
   "outputs": [
    {
     "ename": "ImportError",
     "evalue": "cannot import name '_check_X' from 'imblearn.utils._validation' (C:\\Users\\anura\\AppData\\Roaming\\Python\\Python39\\site-packages\\imblearn\\utils\\_validation.py)",
     "output_type": "error",
     "traceback": [
      "\u001b[1;31m---------------------------------------------------------------------------\u001b[0m",
      "\u001b[1;31mImportError\u001b[0m                               Traceback (most recent call last)",
      "Input \u001b[1;32mIn [12]\u001b[0m, in \u001b[0;36m<cell line: 2>\u001b[1;34m()\u001b[0m\n\u001b[0;32m      1\u001b[0m \u001b[38;5;28;01mimport\u001b[39;00m \u001b[38;5;21;01msklearn\u001b[39;00m\n\u001b[1;32m----> 2\u001b[0m \u001b[38;5;28;01mimport\u001b[39;00m \u001b[38;5;21;01mimblearn\u001b[39;00m\n\u001b[0;32m      3\u001b[0m \u001b[38;5;28mprint\u001b[39m(\u001b[38;5;124m\"\u001b[39m\u001b[38;5;124mScikit-learn version:\u001b[39m\u001b[38;5;124m\"\u001b[39m, sklearn\u001b[38;5;241m.\u001b[39m__version__)\n\u001b[0;32m      4\u001b[0m \u001b[38;5;28mprint\u001b[39m(\u001b[38;5;124m\"\u001b[39m\u001b[38;5;124mImbalanced-learn version:\u001b[39m\u001b[38;5;124m\"\u001b[39m, imblearn\u001b[38;5;241m.\u001b[39m__version__)\n",
      "File \u001b[1;32m~\\AppData\\Roaming\\Python\\Python39\\site-packages\\imblearn\\__init__.py:52\u001b[0m, in \u001b[0;36m<module>\u001b[1;34m\u001b[0m\n\u001b[0;32m     48\u001b[0m     sys\u001b[38;5;241m.\u001b[39mstderr\u001b[38;5;241m.\u001b[39mwrite(\u001b[38;5;124m\"\u001b[39m\u001b[38;5;124mPartial import of imblearn during the build process.\u001b[39m\u001b[38;5;130;01m\\n\u001b[39;00m\u001b[38;5;124m\"\u001b[39m)\n\u001b[0;32m     49\u001b[0m     \u001b[38;5;66;03m# We are not importing the rest of scikit-learn during the build\u001b[39;00m\n\u001b[0;32m     50\u001b[0m     \u001b[38;5;66;03m# process, as it may not be compiled yet\u001b[39;00m\n\u001b[0;32m     51\u001b[0m \u001b[38;5;28;01melse\u001b[39;00m:\n\u001b[1;32m---> 52\u001b[0m     \u001b[38;5;28;01mfrom\u001b[39;00m \u001b[38;5;21;01m.\u001b[39;00m \u001b[38;5;28;01mimport\u001b[39;00m (\n\u001b[0;32m     53\u001b[0m         combine,\n\u001b[0;32m     54\u001b[0m         ensemble,\n\u001b[0;32m     55\u001b[0m         exceptions,\n\u001b[0;32m     56\u001b[0m         metrics,\n\u001b[0;32m     57\u001b[0m         over_sampling,\n\u001b[0;32m     58\u001b[0m         pipeline,\n\u001b[0;32m     59\u001b[0m         tensorflow,\n\u001b[0;32m     60\u001b[0m         under_sampling,\n\u001b[0;32m     61\u001b[0m         utils,\n\u001b[0;32m     62\u001b[0m     )\n\u001b[0;32m     63\u001b[0m     \u001b[38;5;28;01mfrom\u001b[39;00m \u001b[38;5;21;01m.\u001b[39;00m\u001b[38;5;21;01m_version\u001b[39;00m \u001b[38;5;28;01mimport\u001b[39;00m __version__\n\u001b[0;32m     64\u001b[0m     \u001b[38;5;28;01mfrom\u001b[39;00m \u001b[38;5;21;01m.\u001b[39;00m\u001b[38;5;21;01mbase\u001b[39;00m \u001b[38;5;28;01mimport\u001b[39;00m FunctionSampler\n",
      "File \u001b[1;32m~\\AppData\\Roaming\\Python\\Python39\\site-packages\\imblearn\\combine\\__init__.py:5\u001b[0m, in \u001b[0;36m<module>\u001b[1;34m\u001b[0m\n\u001b[0;32m      1\u001b[0m \u001b[38;5;124;03m\"\"\"The :mod:`imblearn.combine` provides methods which combine\u001b[39;00m\n\u001b[0;32m      2\u001b[0m \u001b[38;5;124;03mover-sampling and under-sampling.\u001b[39;00m\n\u001b[0;32m      3\u001b[0m \u001b[38;5;124;03m\"\"\"\u001b[39;00m\n\u001b[1;32m----> 5\u001b[0m \u001b[38;5;28;01mfrom\u001b[39;00m \u001b[38;5;21;01m.\u001b[39;00m\u001b[38;5;21;01m_smote_enn\u001b[39;00m \u001b[38;5;28;01mimport\u001b[39;00m SMOTEENN\n\u001b[0;32m      6\u001b[0m \u001b[38;5;28;01mfrom\u001b[39;00m \u001b[38;5;21;01m.\u001b[39;00m\u001b[38;5;21;01m_smote_tomek\u001b[39;00m \u001b[38;5;28;01mimport\u001b[39;00m SMOTETomek\n\u001b[0;32m      8\u001b[0m __all__ \u001b[38;5;241m=\u001b[39m [\u001b[38;5;124m\"\u001b[39m\u001b[38;5;124mSMOTEENN\u001b[39m\u001b[38;5;124m\"\u001b[39m, \u001b[38;5;124m\"\u001b[39m\u001b[38;5;124mSMOTETomek\u001b[39m\u001b[38;5;124m\"\u001b[39m]\n",
      "File \u001b[1;32m~\\AppData\\Roaming\\Python\\Python39\\site-packages\\imblearn\\combine\\_smote_enn.py:13\u001b[0m, in \u001b[0;36m<module>\u001b[1;34m\u001b[0m\n\u001b[0;32m     10\u001b[0m \u001b[38;5;28;01mfrom\u001b[39;00m \u001b[38;5;21;01msklearn\u001b[39;00m\u001b[38;5;21;01m.\u001b[39;00m\u001b[38;5;21;01mutils\u001b[39;00m \u001b[38;5;28;01mimport\u001b[39;00m check_X_y\n\u001b[0;32m     12\u001b[0m \u001b[38;5;28;01mfrom\u001b[39;00m \u001b[38;5;21;01m.\u001b[39;00m\u001b[38;5;21;01m.\u001b[39;00m\u001b[38;5;21;01mbase\u001b[39;00m \u001b[38;5;28;01mimport\u001b[39;00m BaseSampler\n\u001b[1;32m---> 13\u001b[0m \u001b[38;5;28;01mfrom\u001b[39;00m \u001b[38;5;21;01m.\u001b[39;00m\u001b[38;5;21;01m.\u001b[39;00m\u001b[38;5;21;01mover_sampling\u001b[39;00m \u001b[38;5;28;01mimport\u001b[39;00m SMOTE\n\u001b[0;32m     14\u001b[0m \u001b[38;5;28;01mfrom\u001b[39;00m \u001b[38;5;21;01m.\u001b[39;00m\u001b[38;5;21;01m.\u001b[39;00m\u001b[38;5;21;01mover_sampling\u001b[39;00m\u001b[38;5;21;01m.\u001b[39;00m\u001b[38;5;21;01mbase\u001b[39;00m \u001b[38;5;28;01mimport\u001b[39;00m BaseOverSampler\n\u001b[0;32m     15\u001b[0m \u001b[38;5;28;01mfrom\u001b[39;00m \u001b[38;5;21;01m.\u001b[39;00m\u001b[38;5;21;01m.\u001b[39;00m\u001b[38;5;21;01munder_sampling\u001b[39;00m \u001b[38;5;28;01mimport\u001b[39;00m EditedNearestNeighbours\n",
      "File \u001b[1;32m~\\AppData\\Roaming\\Python\\Python39\\site-packages\\imblearn\\over_sampling\\__init__.py:7\u001b[0m, in \u001b[0;36m<module>\u001b[1;34m\u001b[0m\n\u001b[0;32m      1\u001b[0m \u001b[38;5;124;03m\"\"\"\u001b[39;00m\n\u001b[0;32m      2\u001b[0m \u001b[38;5;124;03mThe :mod:`imblearn.over_sampling` provides a set of method to\u001b[39;00m\n\u001b[0;32m      3\u001b[0m \u001b[38;5;124;03mperform over-sampling.\u001b[39;00m\n\u001b[0;32m      4\u001b[0m \u001b[38;5;124;03m\"\"\"\u001b[39;00m\n\u001b[0;32m      6\u001b[0m \u001b[38;5;28;01mfrom\u001b[39;00m \u001b[38;5;21;01m.\u001b[39;00m\u001b[38;5;21;01m_adasyn\u001b[39;00m \u001b[38;5;28;01mimport\u001b[39;00m ADASYN\n\u001b[1;32m----> 7\u001b[0m \u001b[38;5;28;01mfrom\u001b[39;00m \u001b[38;5;21;01m.\u001b[39;00m\u001b[38;5;21;01m_random_over_sampler\u001b[39;00m \u001b[38;5;28;01mimport\u001b[39;00m RandomOverSampler\n\u001b[0;32m      8\u001b[0m \u001b[38;5;28;01mfrom\u001b[39;00m \u001b[38;5;21;01m.\u001b[39;00m\u001b[38;5;21;01m_smote\u001b[39;00m \u001b[38;5;28;01mimport\u001b[39;00m SMOTE, SMOTEN, SMOTENC, SVMSMOTE, BorderlineSMOTE, KMeansSMOTE\n\u001b[0;32m     10\u001b[0m __all__ \u001b[38;5;241m=\u001b[39m [\n\u001b[0;32m     11\u001b[0m     \u001b[38;5;124m\"\u001b[39m\u001b[38;5;124mADASYN\u001b[39m\u001b[38;5;124m\"\u001b[39m,\n\u001b[0;32m     12\u001b[0m     \u001b[38;5;124m\"\u001b[39m\u001b[38;5;124mRandomOverSampler\u001b[39m\u001b[38;5;124m\"\u001b[39m,\n\u001b[1;32m   (...)\u001b[0m\n\u001b[0;32m     18\u001b[0m     \u001b[38;5;124m\"\u001b[39m\u001b[38;5;124mSMOTEN\u001b[39m\u001b[38;5;124m\"\u001b[39m,\n\u001b[0;32m     19\u001b[0m ]\n",
      "File \u001b[1;32m~\\AppData\\Roaming\\Python\\Python39\\site-packages\\imblearn\\over_sampling\\_random_over_sampler.py:18\u001b[0m, in \u001b[0;36m<module>\u001b[1;34m\u001b[0m\n\u001b[0;32m     16\u001b[0m \u001b[38;5;28;01mfrom\u001b[39;00m \u001b[38;5;21;01m.\u001b[39;00m\u001b[38;5;21;01m.\u001b[39;00m\u001b[38;5;21;01mutils\u001b[39;00m\u001b[38;5;21;01m.\u001b[39;00m\u001b[38;5;21;01m_docstring\u001b[39;00m \u001b[38;5;28;01mimport\u001b[39;00m _random_state_docstring\n\u001b[0;32m     17\u001b[0m \u001b[38;5;28;01mfrom\u001b[39;00m \u001b[38;5;21;01m.\u001b[39;00m\u001b[38;5;21;01m.\u001b[39;00m\u001b[38;5;21;01mutils\u001b[39;00m\u001b[38;5;21;01m.\u001b[39;00m\u001b[38;5;21;01m_param_validation\u001b[39;00m \u001b[38;5;28;01mimport\u001b[39;00m Interval\n\u001b[1;32m---> 18\u001b[0m \u001b[38;5;28;01mfrom\u001b[39;00m \u001b[38;5;21;01m.\u001b[39;00m\u001b[38;5;21;01m.\u001b[39;00m\u001b[38;5;21;01mutils\u001b[39;00m\u001b[38;5;21;01m.\u001b[39;00m\u001b[38;5;21;01m_validation\u001b[39;00m \u001b[38;5;28;01mimport\u001b[39;00m _check_X\n\u001b[0;32m     19\u001b[0m \u001b[38;5;28;01mfrom\u001b[39;00m \u001b[38;5;21;01m.\u001b[39;00m\u001b[38;5;21;01mbase\u001b[39;00m \u001b[38;5;28;01mimport\u001b[39;00m BaseOverSampler\n\u001b[0;32m     22\u001b[0m \u001b[38;5;129m@Substitution\u001b[39m(\n\u001b[0;32m     23\u001b[0m     sampling_strategy\u001b[38;5;241m=\u001b[39mBaseOverSampler\u001b[38;5;241m.\u001b[39m_sampling_strategy_docstring,\n\u001b[0;32m     24\u001b[0m     random_state\u001b[38;5;241m=\u001b[39m_random_state_docstring,\n\u001b[0;32m     25\u001b[0m )\n\u001b[0;32m     26\u001b[0m \u001b[38;5;28;01mclass\u001b[39;00m \u001b[38;5;21;01mRandomOverSampler\u001b[39;00m(BaseOverSampler):\n",
      "\u001b[1;31mImportError\u001b[0m: cannot import name '_check_X' from 'imblearn.utils._validation' (C:\\Users\\anura\\AppData\\Roaming\\Python\\Python39\\site-packages\\imblearn\\utils\\_validation.py)"
     ]
    }
   ],
   "source": [
    "import sklearn\n",
    "import imblearn\n",
    "print(\"Scikit-learn version:\", sklearn.__version__)\n",
    "print(\"Imbalanced-learn version:\", imblearn.__version__)\n"
   ]
  },
  {
   "cell_type": "code",
   "execution_count": 7,
   "id": "2fc17b99",
   "metadata": {},
   "outputs": [
    {
     "name": "stdout",
     "output_type": "stream",
     "text": [
      "Feature Importances:  [4.09060516e-02 3.51261086e-02 1.16731075e-02 1.20724786e-02\n",
      " 5.16897727e-03 7.18230326e-07 8.91125024e-06 2.91802529e-03\n",
      " 4.88356873e-03 8.75819381e-03 7.12440386e-03 6.30280971e-03\n",
      " 3.81066568e-03 2.17439885e-03 1.71931799e-03 4.13829784e-05\n",
      " 2.55819405e-03 6.68603261e-05 3.22325497e-04 8.86210827e-05\n",
      " 3.98694623e-05 9.04420839e-05 6.98300390e-05 6.41706976e-03\n",
      " 6.88263490e-03 7.03800977e-03 6.92105316e-03 8.15474261e-03\n",
      " 6.05161209e-03 5.18006341e-03 4.61688271e-03 1.23801552e-02\n",
      " 3.86327256e-03 4.39474647e-03 3.88838896e-03 3.77247632e-03\n",
      " 4.09166775e-03 3.58505696e-03 3.94878348e-03 3.98242781e-03\n",
      " 3.34618287e-03 3.17523907e-03 2.79908968e-03 2.78981576e-03\n",
      " 2.46246286e-03 1.53708525e-04 1.85177214e-03 1.12828052e-02\n",
      " 1.72293568e-02 6.17351959e-03 6.78921676e-03 2.65584302e-04\n",
      " 2.04403264e-03 1.08981069e-04 1.13714703e-02 5.79807874e-03\n",
      " 2.24203721e-03 1.73535975e-02 1.16571849e-04 4.60192308e-03\n",
      " 2.02422783e-05 2.20176153e-05 7.90687640e-04 2.17987023e-06\n",
      " 3.48936321e-05 2.22574455e-04 2.24926821e-05 3.46761951e-05\n",
      " 7.00519018e-04 1.64291373e-04 3.21205686e-05 2.13281650e-03\n",
      " 1.92399815e-05 6.63898894e-03 3.06891948e-04 2.45341188e-04\n",
      " 1.02797486e-04 7.38847767e-04 2.66284486e-05 1.67349963e-04\n",
      " 1.74513124e-04 5.70295457e-06 3.55062997e-04 7.04460066e-04\n",
      " 6.90203253e-04 2.11156166e-03 2.94837340e-06 4.71180753e-03\n",
      " 5.82263937e-03 5.76233841e-04 3.93154580e-05 8.09012301e-03\n",
      " 1.24488285e-02 4.23046824e-03 1.28403404e-04 6.24320971e-03\n",
      " 2.41319458e-04 1.43504367e-02 1.18025782e-04 1.78378716e-07\n",
      " 3.88373482e-03 3.77134941e-03 3.53821940e-04 6.43155727e-03\n",
      " 3.57209021e-04 3.48291628e-03 3.45453204e-04 7.80132740e-04\n",
      " 1.60621990e-03 1.33755514e-04 3.74168427e-05 4.07564698e-03\n",
      " 8.02350951e-03 2.02674768e-03 3.65363367e-04 7.63334484e-04\n",
      " 9.70169563e-04 1.80587116e-03 8.24470901e-05 5.13240737e-03\n",
      " 1.20116516e-03 1.76253348e-02 8.25659336e-03 3.20852962e-04\n",
      " 2.66259064e-03 6.69094823e-04 1.96311326e-02 1.10461879e-02\n",
      " 3.11006845e-03 1.20701882e-03 3.97958489e-04 1.15362440e-04\n",
      " 5.37117945e-05 1.88624083e-05 4.06989532e-06 2.06028037e-06\n",
      " 1.18816398e-05 0.00000000e+00 6.78800811e-03 2.74519821e-02\n",
      " 7.33305864e-03 2.26918095e-03 6.49011589e-04 2.39362648e-04\n",
      " 1.09335245e-04 5.84523192e-05 9.34989767e-06 1.04995075e-05\n",
      " 8.32460475e-06 6.17259754e-06 2.90009756e-05 1.41668979e-03\n",
      " 9.70803655e-05 2.29706148e-04 3.33560379e-04 2.38320077e-05\n",
      " 6.79374068e-03 9.73415694e-04 1.51535735e-03 2.09355045e-03\n",
      " 5.96536518e-05 7.36668948e-04 2.12499359e-04 5.28756534e-04\n",
      " 8.74168929e-03 8.54746751e-03 3.27813330e-04 1.45378298e-06\n",
      " 1.42110360e-06 2.30519103e-05 1.59713257e-03 2.77475766e-08\n",
      " 1.93793451e-07 1.76175874e-09 4.93323099e-05 6.06865563e-05\n",
      " 9.55420084e-03 8.05092326e-03 1.18608168e-04 3.91286733e-04\n",
      " 4.69284228e-05 5.58004366e-05 1.80464619e-03 4.28579604e-04\n",
      " 6.88960220e-03 7.44366373e-03 4.67015837e-04 2.35086616e-04\n",
      " 3.74730468e-04 6.60570001e-05 4.42091640e-04 3.38700935e-03\n",
      " 8.26880637e-03 9.67126975e-03 2.82655060e-05 3.97944769e-03\n",
      " 8.83406127e-05 9.84133910e-06 6.13742812e-03 1.52096119e-03\n",
      " 1.06920957e-03 1.11886357e-02 6.30010246e-07 1.07708292e-02\n",
      " 1.19672177e-02 2.27044779e-03 1.07242368e-04 7.12445356e-03\n",
      " 3.45476790e-03 7.59291053e-04 3.11417492e-06 2.13683432e-06\n",
      " 1.04608210e-03 2.43987288e-03 4.35987408e-05 2.68543869e-03\n",
      " 6.99345326e-05 1.07579499e-05 4.99983654e-05 3.98154045e-04\n",
      " 5.76761542e-05 3.33143759e-05 6.37853302e-05 1.45305879e-04\n",
      " 9.11197279e-07 5.78777901e-03 2.24328575e-02 5.56359080e-03\n",
      " 2.57949010e-03 4.99695371e-03 2.77812959e-03 6.34388730e-05\n",
      " 9.34913757e-04 3.60988836e-06 5.21796538e-06 1.81883061e-05\n",
      " 7.21598017e-05 2.75437129e-05 6.74991733e-05 3.07414222e-03\n",
      " 4.66369369e-03 9.06773349e-03 3.67428668e-02 1.04110482e-02\n",
      " 6.16902494e-06 2.49018305e-04 1.60798554e-03 5.61851854e-03\n",
      " 3.52694723e-03 4.65983222e-03 3.21334452e-03 5.70397202e-03\n",
      " 3.27870280e-03 4.99370114e-03 3.15487973e-03 2.02195540e-03\n",
      " 2.64300848e-04 1.52611676e-03 5.04467830e-03 3.53003341e-03\n",
      " 4.61452643e-03 3.27794994e-03 5.13461700e-03 3.42776650e-03\n",
      " 4.60961081e-03 3.30080477e-03 1.50697076e-03 1.12755255e-04\n",
      " 1.16060335e-02 3.01520478e-03 3.70768564e-04 2.23445864e-04\n",
      " 1.16004124e-04 9.13476588e-05 4.06551601e-05 1.87682912e-03\n",
      " 1.78044385e-04 1.46541356e-03 1.24003289e-07 1.60604118e-03\n",
      " 2.17612000e-04 2.12446574e-03 9.54263458e-05 2.74685226e-03\n",
      " 2.61109700e-05 5.21911423e-05 1.71087568e-06 4.66543877e-05\n",
      " 2.27183278e-05 1.34212773e-04 1.91133398e-05 4.22700986e-05\n",
      " 4.39704096e-04 1.27844608e-03 9.28426616e-05 3.99224313e-04\n",
      " 1.68810037e-03 2.96832819e-03 3.94088457e-03 1.65170843e-03\n",
      " 3.10203061e-04 1.16946128e-03 1.18376250e-04 3.25111221e-03\n",
      " 4.53541146e-04 1.68666907e-04 2.09546992e-04 6.15820733e-04\n",
      " 2.33606985e-04 1.41467218e-04 1.40877954e-03 1.85469414e-03\n",
      " 1.08351772e-02 1.44327002e-03 4.54144553e-04 4.75111853e-04\n",
      " 5.30539211e-03 2.44478891e-05 2.22700974e-06 2.81445104e-03\n",
      " 9.73292646e-05 2.31948023e-05 3.61674403e-05 4.64494020e-05\n",
      " 0.00000000e+00 7.64717142e-03 4.30117846e-03 1.35277439e-04\n",
      " 4.22972693e-04 4.84258745e-04 2.96643639e-05 1.56835171e-04\n",
      " 7.35269333e-04 5.06509031e-04]\n"
     ]
    }
   ],
   "source": [
    "# Feature importances\n",
    "importances = rf_model.feature_importances_\n",
    "print(\"Feature Importances: \", importances)\n"
   ]
  },
  {
   "cell_type": "code",
   "execution_count": null,
   "id": "3673a09c",
   "metadata": {},
   "outputs": [],
   "source": []
  }
 ],
 "metadata": {
  "kernelspec": {
   "display_name": "Python 3 (ipykernel)",
   "language": "python",
   "name": "python3"
  },
  "language_info": {
   "codemirror_mode": {
    "name": "ipython",
    "version": 3
   },
   "file_extension": ".py",
   "mimetype": "text/x-python",
   "name": "python",
   "nbconvert_exporter": "python",
   "pygments_lexer": "ipython3",
   "version": "3.9.12"
  }
 },
 "nbformat": 4,
 "nbformat_minor": 5
}
