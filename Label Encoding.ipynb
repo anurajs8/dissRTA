{
 "cells": [
  {
   "cell_type": "code",
   "execution_count": 818,
   "id": "6740a39b",
   "metadata": {},
   "outputs": [],
   "source": [
    "import pandas as pd\n",
    "import numpy as np"
   ]
  },
  {
   "cell_type": "code",
   "execution_count": 819,
   "id": "36c306b1",
   "metadata": {},
   "outputs": [],
   "source": [
    "df=pd.read_csv('D:/Dissertation/Dataset/Analysis/EDAwo_featurename.csv')"
   ]
  },
  {
   "cell_type": "code",
   "execution_count": 820,
   "id": "a8a31417",
   "metadata": {},
   "outputs": [
    {
     "data": {
      "text/plain": [
       "Index(['accident_severity', 'number_of_vehicles', 'number_of_casualties',\n",
       "       'first_road_class', 'road_type', 'speed_limit', 'junction_detail',\n",
       "       'pedestrian_crossing_physical_facilities', 'light_conditions',\n",
       "       'weather_conditions', 'road_surface_conditions',\n",
       "       'special_conditions_at_site', 'carriageway_hazards',\n",
       "       'urban_or_rural_area', 'vehicle_type', 'towing_and_articulation',\n",
       "       'vehicle_manoeuvre', 'vehicle_direction_from', 'vehicle_direction_to',\n",
       "       'vehicle_location_restricted_lane', 'junction_location',\n",
       "       'skidding_and_overturning', 'hit_object_in_carriageway',\n",
       "       'vehicle_leaving_carriageway', 'hit_object_off_carriageway',\n",
       "       'first_point_of_impact', 'journey_purpose_of_driver', 'sex_of_driver',\n",
       "       'propulsion_code', 'Safety Rating', 'engine_capacity_cc',\n",
       "       'age_of_vehicle'],\n",
       "      dtype='object')"
      ]
     },
     "execution_count": 820,
     "metadata": {},
     "output_type": "execute_result"
    }
   ],
   "source": [
    "df.columns"
   ]
  },
  {
   "cell_type": "code",
   "execution_count": 821,
   "id": "12dba2a5",
   "metadata": {},
   "outputs": [],
   "source": [
    "# Defining the mapping for the column\n",
    "label_mapping = {\n",
    "    1: \"Fatal\",\n",
    "    2: \"Serious\",\n",
    "    3: \"Slight\",\n",
    "    \n",
    "}\n",
    "\n",
    "# Apply the mapping to the column\n",
    "df['accident_severity'] = df['accident_severity'].replace(label_mapping)\n"
   ]
  },
  {
   "cell_type": "code",
   "execution_count": 822,
   "id": "2871990f",
   "metadata": {},
   "outputs": [
    {
     "name": "stdout",
     "output_type": "stream",
     "text": [
      "Slight     111036\n",
      "Serious     25525\n",
      "Fatal        2038\n",
      "Name: accident_severity, dtype: int64\n"
     ]
    }
   ],
   "source": [
    "print(df['accident_severity'].value_counts())\n"
   ]
  },
  {
   "cell_type": "code",
   "execution_count": 823,
   "id": "a2bd5985",
   "metadata": {},
   "outputs": [
    {
     "name": "stdout",
     "output_type": "stream",
     "text": [
      "2    90283\n",
      "1    21717\n",
      "3    18698\n",
      "4     5302\n",
      "5     2599\n",
      "Name: number_of_vehicles, dtype: int64\n"
     ]
    }
   ],
   "source": [
    "print(df['number_of_vehicles'].value_counts())\n"
   ]
  },
  {
   "cell_type": "code",
   "execution_count": 824,
   "id": "753806de",
   "metadata": {},
   "outputs": [],
   "source": [
    "# Defining the mapping for the column\n",
    "label_mapping = {\n",
    "    1: \"1\",\n",
    "    2: \"2\",\n",
    "    3: \"3\",\n",
    "    4:\"4\",\n",
    "    5:\">4\"\n",
    "    \n",
    "}\n",
    "\n",
    "# Apply the mapping to the column\n",
    "df['number_of_vehicles'] = df['number_of_vehicles'].replace(label_mapping)\n"
   ]
  },
  {
   "cell_type": "code",
   "execution_count": 825,
   "id": "13800a85",
   "metadata": {},
   "outputs": [
    {
     "name": "stdout",
     "output_type": "stream",
     "text": [
      "1    99099\n",
      "2    26352\n",
      "3     8505\n",
      "4     2913\n",
      "5     1730\n",
      "Name: number_of_casualties, dtype: int64\n"
     ]
    }
   ],
   "source": [
    " print(df['number_of_casualties'].value_counts())"
   ]
  },
  {
   "cell_type": "code",
   "execution_count": 826,
   "id": "8f35f133",
   "metadata": {},
   "outputs": [],
   "source": [
    "# Defining the mapping for the column\n",
    "label_mapping = {\n",
    "    1: \"1\",\n",
    "    2: \"2\",\n",
    "    3: \"3\",\n",
    "    4:\"4\",\n",
    "    5:\">4\"\n",
    "    \n",
    "}\n",
    "\n",
    "# Apply the mapping to the column\n",
    "df['number_of_casualties'] = df['number_of_casualties'].replace(label_mapping)\n"
   ]
  },
  {
   "cell_type": "code",
   "execution_count": 827,
   "id": "6fa81816",
   "metadata": {},
   "outputs": [
    {
     "name": "stdout",
     "output_type": "stream",
     "text": [
      "3    64173\n",
      "6    44547\n",
      "4    17865\n",
      "5     6027\n",
      "1     5443\n",
      "2      544\n",
      "Name: first_road_class, dtype: int64\n"
     ]
    }
   ],
   "source": [
    " print(df['first_road_class'].value_counts())"
   ]
  },
  {
   "cell_type": "code",
   "execution_count": 828,
   "id": "12344fa7",
   "metadata": {},
   "outputs": [],
   "source": [
    "# Defining the mapping for the column\n",
    "label_mapping = {\n",
    "    1: \"Motorway\",\n",
    "    2: \"A(M)\",\n",
    "    3: \"A\",\n",
    "    4:\"B\",\n",
    "    5:\"C\",\n",
    "    6:\"Unclassified\"\n",
    "    \n",
    "}\n",
    "\n",
    "# Apply the mapping to the column\n",
    "df['first_road_class'] = df['first_road_class'].replace(label_mapping)\n"
   ]
  },
  {
   "cell_type": "code",
   "execution_count": 829,
   "id": "2898bd3e",
   "metadata": {},
   "outputs": [
    {
     "name": "stdout",
     "output_type": "stream",
     "text": [
      "0    57097\n",
      "3    39107\n",
      "6    14755\n",
      "1    11401\n",
      "9     7197\n",
      "8     3163\n",
      "7     1988\n",
      "5     1969\n",
      "2     1922\n",
      "Name: junction_detail, dtype: int64\n"
     ]
    }
   ],
   "source": [
    " print(df['junction_detail'].value_counts())"
   ]
  },
  {
   "cell_type": "code",
   "execution_count": 830,
   "id": "bb3f1b00",
   "metadata": {},
   "outputs": [],
   "source": [
    "# Defining the mapping for the column\n",
    "label_mapping = {\n",
    "    0:\"Not_at_junction\",\n",
    "    1:\"Roundabout\" ,\n",
    "    2:\"Mini-roundabout\",\n",
    "    3:\"T or staggered junction\",\n",
    "    5:\"Slip road\",\n",
    "    6:\"Crossroads\",\n",
    "    7:\">4_arms(not_roundabout)\",\n",
    "    8:\"Private_drive_or_entrance\",\n",
    "    9:\"Other_junction\"\n",
    "}\n",
    "\n",
    "# Apply the mapping to the column\n",
    "df['junction_detail'] = df['junction_detail'].replace(label_mapping)\n"
   ]
  },
  {
   "cell_type": "code",
   "execution_count": 831,
   "id": "0d421478",
   "metadata": {},
   "outputs": [
    {
     "name": "stdout",
     "output_type": "stream",
     "text": [
      "0    112707\n",
      "1     25892\n",
      "Name: pedestrian_crossing_physical_facilities, dtype: int64\n"
     ]
    }
   ],
   "source": [
    " print(df['pedestrian_crossing_physical_facilities'].value_counts())"
   ]
  },
  {
   "cell_type": "code",
   "execution_count": 832,
   "id": "df72fe62",
   "metadata": {},
   "outputs": [],
   "source": [
    "# Defining the mapping for the column\n",
    "label_mapping = {\n",
    "    0:\"absent\",\n",
    "    1:\"present\" ,\n",
    "    \n",
    "}\n",
    "\n",
    "# Apply the mapping to the column\n",
    "df['pedestrian_crossing_physical_facilities'] = df['pedestrian_crossing_physical_facilities'].replace(label_mapping)\n"
   ]
  },
  {
   "cell_type": "code",
   "execution_count": 833,
   "id": "2288b44e",
   "metadata": {},
   "outputs": [
    {
     "name": "stdout",
     "output_type": "stream",
     "text": [
      "1    99789\n",
      "4    28692\n",
      "6     7784\n",
      "7     1343\n",
      "5      991\n",
      "Name: light_conditions, dtype: int64\n"
     ]
    }
   ],
   "source": [
    "  print(df['light_conditions'].value_counts())"
   ]
  },
  {
   "cell_type": "code",
   "execution_count": 834,
   "id": "e4cfd688",
   "metadata": {},
   "outputs": [],
   "source": [
    "# Defining the mapping for the column\n",
    "label_mapping = {\n",
    "    \n",
    "    1:\"Daylight\" ,\n",
    "    4:\"Darkness-lights_lit\",\n",
    "    5:\"Darkness-lights_unlit\",\n",
    "    6:\"Darkness-no lighting\",\n",
    "    7:\"Darkness-lighting unknown\"\n",
    "}\n",
    "\n",
    "# Apply the mapping to the column\n",
    "df['light_conditions'] = df['light_conditions'].replace(label_mapping)\n"
   ]
  },
  {
   "cell_type": "code",
   "execution_count": 835,
   "id": "5e571c5f",
   "metadata": {},
   "outputs": [
    {
     "name": "stdout",
     "output_type": "stream",
     "text": [
      "1    112676\n",
      "2     16942\n",
      "8      3287\n",
      "5      2254\n",
      "4      1887\n",
      "7       719\n",
      "3       675\n",
      "6       159\n",
      "Name: weather_conditions, dtype: int64\n"
     ]
    }
   ],
   "source": [
    "  print(df['weather_conditions'].value_counts()) "
   ]
  },
  {
   "cell_type": "code",
   "execution_count": 836,
   "id": "0d20dde0",
   "metadata": {},
   "outputs": [],
   "source": [
    "# Defining the mapping for the column\n",
    "label_mapping = {\n",
    "    \n",
    "    1:\"Fine\" ,\n",
    "    2:\"Raining\",\n",
    "    3:\"Snowing\",\n",
    "    4:\"Fine+high winds\",\n",
    "    5:\"Raining+high winds\",\n",
    "    6:\"Snowing+high winds\",\n",
    "    7:\"Fog_or_mist\",\n",
    "    8:\"Other\"\n",
    "    \n",
    "}\n",
    "\n",
    "# Apply the mapping to the column\n",
    "df['weather_conditions'] = df['weather_conditions'].replace(label_mapping)\n"
   ]
  },
  {
   "cell_type": "code",
   "execution_count": 837,
   "id": "071c83e5",
   "metadata": {},
   "outputs": [
    {
     "name": "stdout",
     "output_type": "stream",
     "text": [
      "1    97459\n",
      "2    38888\n",
      "4     1430\n",
      "3      586\n",
      "5      236\n",
      "Name: road_surface_conditions, dtype: int64\n"
     ]
    }
   ],
   "source": [
    "  print(df['road_surface_conditions'].value_counts())  "
   ]
  },
  {
   "cell_type": "code",
   "execution_count": 838,
   "id": "5b61c433",
   "metadata": {},
   "outputs": [],
   "source": [
    "# Defining the mapping for the column\n",
    "label_mapping = {\n",
    "    \n",
    "    1:\"Dry\" ,\n",
    "    2:\"Wet/damp\",\n",
    "    3:\"Snow\",\n",
    "    4:\"Frost_or_ice\",\n",
    "    5:\"Flood>3cm\"\n",
    "    \n",
    "    \n",
    "}\n",
    "\n",
    "# Apply the mapping to the column\n",
    "df['road_surface_conditions'] = df['road_surface_conditions'].replace(label_mapping)\n"
   ]
  },
  {
   "cell_type": "code",
   "execution_count": 839,
   "id": "3c41c95b",
   "metadata": {},
   "outputs": [
    {
     "name": "stdout",
     "output_type": "stream",
     "text": [
      "0    135005\n",
      "1      2151\n",
      "2      1443\n",
      "Name: special_conditions_at_site, dtype: int64\n"
     ]
    }
   ],
   "source": [
    "print(df['special_conditions_at_site'].value_counts())  "
   ]
  },
  {
   "cell_type": "code",
   "execution_count": 840,
   "id": "8c92d613",
   "metadata": {},
   "outputs": [],
   "source": [
    "# Defining the mapping for the column\n",
    "label_mapping = {\n",
    "    0:\"None\",\n",
    "    1:\"Roadworks\" ,\n",
    "    2:\"Other\"\n",
    "    \n",
    "    \n",
    "}\n",
    "\n",
    "# Apply the mapping to the column\n",
    "df['special_conditions_at_site'] = df['special_conditions_at_site'].replace(label_mapping)\n"
   ]
  },
  {
   "cell_type": "code",
   "execution_count": 841,
   "id": "b3f8f8d2",
   "metadata": {},
   "outputs": [
    {
     "name": "stdout",
     "output_type": "stream",
     "text": [
      "0    135759\n",
      "1      2840\n",
      "Name: carriageway_hazards, dtype: int64\n"
     ]
    }
   ],
   "source": [
    "print(df['carriageway_hazards'].value_counts())  "
   ]
  },
  {
   "cell_type": "code",
   "execution_count": 842,
   "id": "24a79eca",
   "metadata": {},
   "outputs": [],
   "source": [
    "# Defining the mapping for the column\n",
    "label_mapping = {\n",
    "    0:\"absent\",\n",
    "    1:\"present\" \n",
    "    \n",
    "    \n",
    "}\n",
    "\n",
    "# Apply the mapping to the column\n",
    "df['carriageway_hazards'] = df['carriageway_hazards'].replace(label_mapping)\n"
   ]
  },
  {
   "cell_type": "code",
   "execution_count": 843,
   "id": "a826b313",
   "metadata": {},
   "outputs": [
    {
     "name": "stdout",
     "output_type": "stream",
     "text": [
      "1    87761\n",
      "2    50838\n",
      "Name: urban_or_rural_area, dtype: int64\n"
     ]
    }
   ],
   "source": [
    "print(df['urban_or_rural_area'].value_counts())   "
   ]
  },
  {
   "cell_type": "code",
   "execution_count": 844,
   "id": "e8e1a107",
   "metadata": {},
   "outputs": [],
   "source": [
    "# Defining the mapping for the column\n",
    "label_mapping = {\n",
    "    1:\"Urban\",\n",
    "    2:\"Rural\" \n",
    "    \n",
    "    \n",
    "}\n",
    "\n",
    "# Apply the mapping to the column\n",
    "df['urban_or_rural_area'] = df['urban_or_rural_area'].replace(label_mapping)\n"
   ]
  },
  {
   "cell_type": "code",
   "execution_count": 845,
   "id": "4cc6f077",
   "metadata": {},
   "outputs": [
    {
     "name": "stdout",
     "output_type": "stream",
     "text": [
      "9     125794\n",
      "19     10100\n",
      "8       1957\n",
      "5        301\n",
      "98       161\n",
      "20       106\n",
      "90        75\n",
      "10        62\n",
      "21        29\n",
      "11        14\n",
      "Name: vehicle_type, dtype: int64\n"
     ]
    }
   ],
   "source": [
    "print(df['vehicle_type'].value_counts())    "
   ]
  },
  {
   "cell_type": "code",
   "execution_count": 846,
   "id": "7b5b9ee8",
   "metadata": {},
   "outputs": [],
   "source": [
    "# Defining the mapping for the column\n",
    "label_mapping = {\n",
    "    5:\"Motorcycle>500cc\",\n",
    "    8:\"Taxi/Cab\",\n",
    "    9:\"Car\",\n",
    "    10:\"Minibus\",\n",
    "    11:\"Bus/Coach\",\n",
    "    19:\"Van\",\n",
    "    20:\"Goods>3.5tonne\",\n",
    "    21:\"Goods>7.5tonne\",\n",
    "    90:\"Other\",\n",
    "    98:\"Goods_unknown_weight\"\n",
    "    \n",
    "    \n",
    "}\n",
    "\n",
    "# Apply the mapping to the column\n",
    "df['vehicle_type'] = df['vehicle_type'].replace(label_mapping)\n"
   ]
  },
  {
   "cell_type": "code",
   "execution_count": 847,
   "id": "065b2fab",
   "metadata": {},
   "outputs": [
    {
     "name": "stdout",
     "output_type": "stream",
     "text": [
      "0    138106\n",
      "1       493\n",
      "Name: towing_and_articulation, dtype: int64\n"
     ]
    }
   ],
   "source": [
    "print(df['towing_and_articulation'].value_counts())    "
   ]
  },
  {
   "cell_type": "code",
   "execution_count": 848,
   "id": "457956dd",
   "metadata": {},
   "outputs": [],
   "source": [
    "# Defining the mapping for the column\n",
    "label_mapping = {\n",
    "    0:\"absent\",\n",
    "    1:\"present\" \n",
    "    \n",
    "    \n",
    "}\n",
    "\n",
    "# Apply the mapping to the column\n",
    "df['towing_and_articulation'] = df['towing_and_articulation'].replace(label_mapping)\n"
   ]
  },
  {
   "cell_type": "code",
   "execution_count": 849,
   "id": "2f6a69aa",
   "metadata": {},
   "outputs": [
    {
     "name": "stdout",
     "output_type": "stream",
     "text": [
      "18    65882\n",
      "9     18750\n",
      "4      9817\n",
      "3      7781\n",
      "5      7340\n",
      "7      5472\n",
      "17     5185\n",
      "16     4394\n",
      "2      3773\n",
      "10     3726\n",
      "8      3349\n",
      "1      1787\n",
      "6      1343\n",
      "Name: vehicle_manoeuvre, dtype: int64\n"
     ]
    }
   ],
   "source": [
    " print(df['vehicle_manoeuvre'].value_counts())    "
   ]
  },
  {
   "cell_type": "code",
   "execution_count": 850,
   "id": "130e295c",
   "metadata": {},
   "outputs": [],
   "source": [
    "\n",
    "# Defining the mapping for the column\n",
    "label_mapping = {\n",
    "    1: \"Reversing\",\n",
    "    2: \"Parked\",\n",
    "    3: \"Waiting_to_go-held up\",\n",
    "    4: \"Slowing_or_stopping\",\n",
    "    5: \"Moving_off\",\n",
    "    6: \"U-turn\",\n",
    "    7: \"Turning_left\",\n",
    "    8: \"Waiting_to_turn\",\n",
    "    9: \"Changing_lane\",\n",
    "    10: \"Overtaking\",\n",
    "    16: \"Going_ahead_left-hand bend\",\n",
    "    17: \"Going_ahead_right-hand bend\",\n",
    "    18: \"Going_ahead_other\"\n",
    "    \n",
    "    \n",
    "}\n",
    "\n",
    "# Apply the mapping to the column\n",
    "df['vehicle_manoeuvre'] = df['vehicle_manoeuvre'].replace(label_mapping)\n",
    "\n"
   ]
  },
  {
   "cell_type": "code",
   "execution_count": 851,
   "id": "e14f5838",
   "metadata": {},
   "outputs": [
    {
     "name": "stdout",
     "output_type": "stream",
     "text": [
      "1    23076\n",
      "5    21675\n",
      "3    19903\n",
      "7    19107\n",
      "2    13277\n",
      "6    13008\n",
      "8    12434\n",
      "4    12410\n",
      "0     3709\n",
      "Name: vehicle_direction_from, dtype: int64\n"
     ]
    }
   ],
   "source": [
    "print(df['vehicle_direction_from'].value_counts())    "
   ]
  },
  {
   "cell_type": "code",
   "execution_count": 852,
   "id": "d9352c22",
   "metadata": {},
   "outputs": [],
   "source": [
    "# Defining the mapping for the column\n",
    "label_mapping = {\n",
    "    0: \"Parked\",\n",
    "    1: \"North\",\n",
    "    2: \"North_East\",\n",
    "    3: \"East\",\n",
    "    4: \"South_East\",\n",
    "    5: \"South\",  \n",
    "    6: \"South_West\",\n",
    "    7: \"West\",\n",
    "    8: \"North_West\"\n",
    "    \n",
    "    \n",
    "}\n",
    "\n",
    "# Apply the mapping to the column\n",
    "df['vehicle_direction_from'] = df['vehicle_direction_from'].replace(label_mapping)\n",
    "\n"
   ]
  },
  {
   "cell_type": "code",
   "execution_count": 853,
   "id": "39b77756",
   "metadata": {},
   "outputs": [
    {
     "name": "stdout",
     "output_type": "stream",
     "text": [
      "5    21474\n",
      "1    21464\n",
      "7    19678\n",
      "3    19641\n",
      "2    13974\n",
      "6    13358\n",
      "4    12870\n",
      "8    12658\n",
      "0     3482\n",
      "Name: vehicle_direction_to, dtype: int64\n"
     ]
    }
   ],
   "source": [
    "print(df['vehicle_direction_to'].value_counts())    "
   ]
  },
  {
   "cell_type": "code",
   "execution_count": 854,
   "id": "fc791b91",
   "metadata": {},
   "outputs": [],
   "source": [
    "# Defining the mapping for the column\n",
    "label_mapping = {\n",
    "    0: \"Parked\",\n",
    "    1: \"North\",\n",
    "    2: \"North_East\",\n",
    "    3: \"East\",\n",
    "    4: \"South_East\",\n",
    "    5: \"South\",  \n",
    "    6: \"South_West\",\n",
    "    7: \"West\",\n",
    "    8: \"North_West\"\n",
    "    \n",
    "    \n",
    "}\n",
    "\n",
    "# Apply the mapping to the column\n",
    "df['vehicle_direction_to'] = df['vehicle_direction_to'].replace(label_mapping)\n",
    "\n"
   ]
  },
  {
   "cell_type": "code",
   "execution_count": 855,
   "id": "76f417a4",
   "metadata": {},
   "outputs": [
    {
     "name": "stdout",
     "output_type": "stream",
     "text": [
      "0    137258\n",
      "1      1341\n",
      "Name: vehicle_location_restricted_lane, dtype: int64\n"
     ]
    }
   ],
   "source": [
    "print(df['vehicle_location_restricted_lane'].value_counts())     "
   ]
  },
  {
   "cell_type": "code",
   "execution_count": 856,
   "id": "3fdd111b",
   "metadata": {},
   "outputs": [],
   "source": [
    "# Defining the mapping for the column\n",
    "label_mapping = {\n",
    "    0: \"No\",\n",
    "    1: \"Yes\"  \n",
    "    \n",
    "}\n",
    "\n",
    "# Apply the mapping to the column\n",
    "df['vehicle_location_restricted_lane'] = df['vehicle_location_restricted_lane'].replace(label_mapping)\n",
    "\n"
   ]
  },
  {
   "cell_type": "code",
   "execution_count": 857,
   "id": "c715a85c",
   "metadata": {},
   "outputs": [
    {
     "name": "stdout",
     "output_type": "stream",
     "text": [
      "0    57097\n",
      "1    31523\n",
      "8    22470\n",
      "2     7816\n",
      "6     7403\n",
      "4     5055\n",
      "5     4374\n",
      "3     2342\n",
      "7      519\n",
      "Name: junction_location, dtype: int64\n"
     ]
    }
   ],
   "source": [
    "print(df['junction_location'].value_counts())     "
   ]
  },
  {
   "cell_type": "code",
   "execution_count": 858,
   "id": "73124ccd",
   "metadata": {},
   "outputs": [],
   "source": [
    "# Defining the mapping for the column\n",
    "label_mapping = {\n",
    "    0:\"Not_a_junction\",\n",
    "    1: \"Approaching_junction_or_waiting\",\n",
    "    2: \"Cleared_junction_or_waiting\",\n",
    "    3: \"Leaving_roundabout\",\n",
    "    4: \"Entering_roundabout\",\n",
    "    5: \"Leaving_main_road\",\n",
    "    6: \"Entering_main_road\",\n",
    "    7: \"Entering_from_slip_road\",\n",
    "    8: \"Mid_junction/On_main_road\"  \n",
    "    \n",
    "}\n",
    "\n",
    "# Apply the mapping to the column\n",
    "df['junction_location'] = df['junction_location'].replace(label_mapping)\n",
    "\n"
   ]
  },
  {
   "cell_type": "code",
   "execution_count": 859,
   "id": "fa2cd8ba",
   "metadata": {},
   "outputs": [
    {
     "name": "stdout",
     "output_type": "stream",
     "text": [
      "0    123992\n",
      "1      9204\n",
      "5      3145\n",
      "2      2231\n",
      "3        14\n",
      "4        13\n",
      "Name: skidding_and_overturning, dtype: int64\n"
     ]
    }
   ],
   "source": [
    " print(df['skidding_and_overturning'].value_counts())     "
   ]
  },
  {
   "cell_type": "code",
   "execution_count": 860,
   "id": "2d7a286d",
   "metadata": {},
   "outputs": [],
   "source": [
    "skidding_overturning_mapping = {\n",
    "    0: \"None\",\n",
    "    1: \"Skidded\",\n",
    "    2: \"Skidded and overturned\",\n",
    "    3: \"Jackknifed\",\n",
    "    4: \"Jackknifed and overturned\",\n",
    "    5: \"Overturned\"\n",
    "}\n",
    "df['skidding_and_overturning'] = df['skidding_and_overturning'].replace(skidding_overturning_mapping)\n"
   ]
  },
  {
   "cell_type": "code",
   "execution_count": 861,
   "id": "3cc9273f",
   "metadata": {},
   "outputs": [
    {
     "name": "stdout",
     "output_type": "stream",
     "text": [
      "21    130128\n",
      "22      4079\n",
      "23      3274\n",
      "25       893\n",
      "24       225\n",
      "Name: hit_object_in_carriageway, dtype: int64\n"
     ]
    }
   ],
   "source": [
    "  print(df['hit_object_in_carriageway'].value_counts())     "
   ]
  },
  {
   "cell_type": "code",
   "execution_count": 862,
   "id": "120275af",
   "metadata": {},
   "outputs": [],
   "source": [
    "# Defining the mapping for the column\n",
    "label_mapping = {\n",
    "    21: \"None\",\n",
    "    22: \"Infrastructure\",\n",
    "    23: \"ParkedVehicle/Door\",\n",
    "    24: \"Accident/Work_site\",\n",
    "    25: \"Other\" \n",
    "    \n",
    "    \n",
    "    \n",
    "}\n",
    "\n",
    "# Apply the mapping to the column\n",
    "df['hit_object_in_carriageway'] = df['hit_object_in_carriageway'].replace(label_mapping)\n",
    "\n"
   ]
  },
  {
   "cell_type": "code",
   "execution_count": 863,
   "id": "d3004fd3",
   "metadata": {},
   "outputs": [
    {
     "name": "stdout",
     "output_type": "stream",
     "text": [
      "21    119998\n",
      "22     10737\n",
      "23      6925\n",
      "24       939\n",
      "Name: vehicle_leaving_carriageway, dtype: int64\n"
     ]
    }
   ],
   "source": [
    "\n",
    "  print(df['vehicle_leaving_carriageway'].value_counts())     "
   ]
  },
  {
   "cell_type": "code",
   "execution_count": 864,
   "id": "0d16e876",
   "metadata": {},
   "outputs": [],
   "source": [
    "# Defining the mapping for the column\n",
    "label_mapping = {\n",
    "    21: \"Did_not_leave\",\n",
    "    22: \"Nearside\",\n",
    "    23: \"Offside\",\n",
    "    24: \"At_junction\",\n",
    "}\n",
    "\n",
    "# Apply the mapping to the column\n",
    "df['vehicle_leaving_carriageway'] = df['vehicle_leaving_carriageway'].replace(label_mapping)\n",
    "\n"
   ]
  },
  {
   "cell_type": "code",
   "execution_count": 865,
   "id": "73713a48",
   "metadata": {},
   "outputs": [
    {
     "name": "stdout",
     "output_type": "stream",
     "text": [
      "21    126457\n",
      "25      5613\n",
      "22      2744\n",
      "23      2283\n",
      "24      1502\n",
      "Name: hit_object_off_carriageway, dtype: int64\n"
     ]
    }
   ],
   "source": [
    "\n",
    "\n",
    "  print(df['hit_object_off_carriageway'].value_counts())     \n"
   ]
  },
  {
   "cell_type": "code",
   "execution_count": 866,
   "id": "6073808d",
   "metadata": {},
   "outputs": [],
   "source": [
    "# Defining the mapping for the column\n",
    "label_mapping = {\n",
    "    21: \"None\",\n",
    "    22: \"Infrastructure/signage\",\n",
    "    23: \"Tree\",\n",
    "    24: \"Barriers\",\n",
    "    25: \"BuildStructure/Other\" \n",
    "    \n",
    "    \n",
    "    \n",
    "}\n",
    "\n",
    "# Apply the mapping to the column\n",
    "df['hit_object_off_carriageway'] = df['hit_object_off_carriageway'].replace(label_mapping)\n",
    "\n"
   ]
  },
  {
   "cell_type": "code",
   "execution_count": 867,
   "id": "8fef7194",
   "metadata": {},
   "outputs": [
    {
     "name": "stdout",
     "output_type": "stream",
     "text": [
      "1    71982\n",
      "2    24059\n",
      "3    20069\n",
      "4    17567\n",
      "0     4922\n",
      "Name: first_point_of_impact, dtype: int64\n"
     ]
    }
   ],
   "source": [
    "print(df['first_point_of_impact'].value_counts())     \n"
   ]
  },
  {
   "cell_type": "code",
   "execution_count": 868,
   "id": "01d8257a",
   "metadata": {},
   "outputs": [],
   "source": [
    "# Defining the mapping for the column\n",
    "label_mapping = {\n",
    "    0: \"Did_not_impact\",\n",
    "    1: \"Front\",\n",
    "    2: \"Back\",\n",
    "    3: \"Offside\",\n",
    "    4: \"Nearside\"\n",
    "    \n",
    "}\n",
    "\n",
    "# Apply the mapping to the column\n",
    "df['first_point_of_impact'] = df['first_point_of_impact'].replace(label_mapping)\n",
    "\n"
   ]
  },
  {
   "cell_type": "code",
   "execution_count": 869,
   "id": "93ae395e",
   "metadata": {},
   "outputs": [
    {
     "name": "stdout",
     "output_type": "stream",
     "text": [
      "6    75500\n",
      "5    26798\n",
      "1    17606\n",
      "2    16288\n",
      "3     2407\n",
      "Name: journey_purpose_of_driver, dtype: int64\n"
     ]
    }
   ],
   "source": [
    " print(df['journey_purpose_of_driver'].value_counts())     \n"
   ]
  },
  {
   "cell_type": "code",
   "execution_count": 870,
   "id": "30d15540",
   "metadata": {},
   "outputs": [],
   "source": [
    "# Defining the mapping for the column\n",
    "label_mapping = {\n",
    "    1: \"Journey_as_part_of_work\",\n",
    "    2: \"Commuting_to/from_work\",\n",
    "    3: \"Taking/Riding_pupil_to/from_school\",\n",
    "    5: \"Other\",\n",
    "    6: \"Not_known\"\n",
    "    \n",
    "}\n",
    "\n",
    "# Apply the mapping to the column\n",
    "df['journey_purpose_of_driver'] = df['journey_purpose_of_driver'].replace(label_mapping)\n",
    "\n"
   ]
  },
  {
   "cell_type": "code",
   "execution_count": 871,
   "id": "2515ab6e",
   "metadata": {},
   "outputs": [
    {
     "name": "stdout",
     "output_type": "stream",
     "text": [
      "1    89747\n",
      "2    48852\n",
      "Name: sex_of_driver, dtype: int64\n"
     ]
    }
   ],
   "source": [
    "  print(df['sex_of_driver'].value_counts())     \n"
   ]
  },
  {
   "cell_type": "code",
   "execution_count": 872,
   "id": "5169d3d3",
   "metadata": {},
   "outputs": [],
   "source": [
    "# Defining the mapping for the column\n",
    "label_mapping = {\n",
    "    1: \"Male\",\n",
    "    2: \"Female\"\n",
    "}\n",
    "\n",
    "# Apply the mapping to the column\n",
    "df['sex_of_driver'] = df['sex_of_driver'].replace(label_mapping)\n",
    "\n"
   ]
  },
  {
   "cell_type": "code",
   "execution_count": 873,
   "id": "fab007e0",
   "metadata": {},
   "outputs": [
    {
     "name": "stdout",
     "output_type": "stream",
     "text": [
      "1    70821\n",
      "2    61852\n",
      "8     4984\n",
      "3      710\n",
      "4      232\n",
      "Name: propulsion_code, dtype: int64\n"
     ]
    }
   ],
   "source": [
    "print(df['propulsion_code'].value_counts())     "
   ]
  },
  {
   "cell_type": "code",
   "execution_count": 874,
   "id": "4d64c9da",
   "metadata": {},
   "outputs": [],
   "source": [
    "# Defining the mapping for the column\n",
    "label_mapping = {\n",
    "    1: \"Petrol\",\n",
    "    2: \"Heavy_oil\",\n",
    "    3: \"Electric\",\n",
    "    4: \"Others\",\n",
    "    8: \"Hybrid\"    \n",
    "}\n",
    "\n",
    "# Apply the mapping to the column\n",
    "df['propulsion_code'] = df['propulsion_code'].replace(label_mapping)\n",
    "\n"
   ]
  },
  {
   "cell_type": "code",
   "execution_count": 875,
   "id": "9fe3d865",
   "metadata": {},
   "outputs": [
    {
     "name": "stdout",
     "output_type": "stream",
     "text": [
      "2    108134\n",
      "3     16785\n",
      "1     11873\n",
      "4      1807\n",
      "Name: engine_capacity_cc, dtype: int64\n"
     ]
    }
   ],
   "source": [
    " print(df['engine_capacity_cc'].value_counts())     "
   ]
  },
  {
   "cell_type": "code",
   "execution_count": 876,
   "id": "9834030d",
   "metadata": {},
   "outputs": [],
   "source": [
    "# Defining the mapping for the column\n",
    "label_mapping = {\n",
    "    1: \"0-1k_cc\",\n",
    "    2: \"1k-2k_cc\",\n",
    "    3: \"2k_3k_cc\",\n",
    "    4:\">3kcc\"  \n",
    "}\n",
    "\n",
    "# Apply the mapping to the column\n",
    "df['engine_capacity_cc'] = df['engine_capacity_cc'].replace(label_mapping)\n",
    "\n"
   ]
  },
  {
   "cell_type": "code",
   "execution_count": 877,
   "id": "0fcc8b6b",
   "metadata": {},
   "outputs": [
    {
     "name": "stdout",
     "output_type": "stream",
     "text": [
      "1    49560\n",
      "6    40546\n",
      "2    34929\n",
      "3    12333\n",
      "4     1042\n",
      "5      182\n",
      "7        7\n",
      "Name: age_of_vehicle, dtype: int64\n"
     ]
    }
   ],
   "source": [
    " print(df['age_of_vehicle'].value_counts())     "
   ]
  },
  {
   "cell_type": "code",
   "execution_count": 878,
   "id": "5f21b142",
   "metadata": {},
   "outputs": [],
   "source": [
    "# Defining the mapping for the column\n",
    "label_mapping = {\n",
    "    1: \"0-5yrs\",\n",
    "    2: \"5-10yrs\",\n",
    "    3: \"10-15yrs\",\n",
    "    4: \"15-20yrs\",\n",
    "    5: \"20-25yrs\",\n",
    "    6:\"25-30yrs\" ,\n",
    "    7:\">30\"\n",
    "}\n",
    "\n",
    "# Apply the mapping to the column\n",
    "df['age_of_vehicle'] = df['age_of_vehicle'].replace(label_mapping)\n",
    "\n"
   ]
  },
  {
   "cell_type": "code",
   "execution_count": 879,
   "id": "e26d225f",
   "metadata": {},
   "outputs": [
    {
     "name": "stdout",
     "output_type": "stream",
     "text": [
      "6    101207\n",
      "3     24968\n",
      "1      8248\n",
      "7      2331\n",
      "2      1845\n",
      "Name: road_type, dtype: int64\n"
     ]
    }
   ],
   "source": [
    " print(df['road_type'].value_counts()) "
   ]
  },
  {
   "cell_type": "code",
   "execution_count": 880,
   "id": "4518253d",
   "metadata": {},
   "outputs": [],
   "source": [
    "# Defining the mapping for the column\n",
    "label_mapping = {\n",
    "    1: \"Roundabout\",\n",
    "    2: \"One_way_street\",\n",
    "    3: \"Dual_carriageway\",\n",
    "    6: \"Single_carriageway\",\n",
    "    7: \"Slip_road\"\n",
    "}\n",
    "\n",
    "# Apply the mapping to the column\n",
    "df['road_type'] = df['road_type'].replace(label_mapping)\n"
   ]
  },
  {
   "cell_type": "code",
   "execution_count": 881,
   "id": "7aff578f",
   "metadata": {},
   "outputs": [
    {
     "name": "stdout",
     "output_type": "stream",
     "text": [
      "30    76252\n",
      "60    19552\n",
      "40    14452\n",
      "20    11046\n",
      "70     9744\n",
      "50     7553\n",
      "Name: speed_limit, dtype: int64\n"
     ]
    }
   ],
   "source": [
    " print(df['speed_limit'].value_counts()) "
   ]
  },
  {
   "cell_type": "code",
   "execution_count": 882,
   "id": "cad4f7b3",
   "metadata": {},
   "outputs": [],
   "source": [
    "# Defining the mapping for the column\n",
    "label_mapping = {\n",
    "    20:\"20\",\n",
    "    30:\"30\",\n",
    "    40:\"40\",\n",
    "    50:\"50\",\n",
    "    60:\"60\",\n",
    "    70:\"70\"\n",
    "}\n",
    "\n",
    "# Apply the mapping to the column\n",
    "df['speed_limit'] = df['speed_limit'].replace(label_mapping)\n"
   ]
  },
  {
   "cell_type": "code",
   "execution_count": 883,
   "id": "ec2e1357",
   "metadata": {},
   "outputs": [
    {
     "name": "stdout",
     "output_type": "stream",
     "text": [
      "5    86848\n",
      "4    39118\n",
      "3    10587\n",
      "2     1048\n",
      "0      932\n",
      "1       66\n",
      "Name: Safety Rating, dtype: int64\n"
     ]
    }
   ],
   "source": [
    " print(df['Safety Rating'].value_counts()) "
   ]
  },
  {
   "cell_type": "code",
   "execution_count": 884,
   "id": "599cc511",
   "metadata": {},
   "outputs": [],
   "source": [
    "# Defining the mapping for the column\n",
    "label_mapping = {\n",
    "    0:\"0\",\n",
    "    1:\"1\",\n",
    "    2:\"2\",\n",
    "    3:\"3\",\n",
    "    4:\"4\",\n",
    "    5:\"5\"\n",
    "}\n",
    "\n",
    "# Apply the mapping to the column\n",
    "df['Safety Rating'] = df['Safety Rating'].replace(label_mapping)\n"
   ]
  },
  {
   "cell_type": "code",
   "execution_count": 885,
   "id": "de236549",
   "metadata": {},
   "outputs": [],
   "source": [
    " df.to_csv('D:/Dissertation/Dataset/Analysis/CleanedData.csv', index=False)"
   ]
  },
  {
   "cell_type": "code",
   "execution_count": 889,
   "id": "927371d6",
   "metadata": {},
   "outputs": [],
   "source": [
    "df=pd.read_csv('D:/Dissertation/Dataset/Analysis/CleanedData.csv')"
   ]
  },
  {
   "cell_type": "code",
   "execution_count": 890,
   "id": "8090efff",
   "metadata": {},
   "outputs": [
    {
     "name": "stdout",
     "output_type": "stream",
     "text": [
      "                                  Predictor  Chi-Square Value   p-value\n",
      "0                         accident_severity          1.309344  0.519612\n",
      "1                        number_of_vehicles          0.534074  0.970100\n",
      "2                      number_of_casualties          0.931827  0.919951\n",
      "3                          first_road_class          3.923602  0.560467\n",
      "4                                 road_type          0.807554  0.937433\n",
      "5                           junction_detail          1.482704  0.992991\n",
      "6   pedestrian_crossing_physical_facilities          0.279451  0.597062\n",
      "7                          light_conditions          1.764803  0.778915\n",
      "8                        weather_conditions          8.367812  0.301280\n",
      "9                   road_surface_conditions          4.169589  0.383541\n",
      "10               special_conditions_at_site          1.831881  0.400140\n",
      "11                      carriageway_hazards          1.578049  0.209042\n",
      "12                      urban_or_rural_area          0.096121  0.756535\n",
      "13                             vehicle_type          3.047711  0.962373\n",
      "14                  towing_and_articulation          0.000000  1.000000\n",
      "15                        vehicle_manoeuvre          3.661273  0.988803\n",
      "16                   vehicle_direction_from          3.831919  0.871961\n",
      "17                     vehicle_direction_to          9.417590  0.308302\n",
      "18         vehicle_location_restricted_lane          1.234949  0.266447\n",
      "19                        junction_location          4.613496  0.797974\n",
      "20                 skidding_and_overturning          1.537945  0.908650\n",
      "21                hit_object_in_carriageway          1.398724  0.844417\n",
      "22              vehicle_leaving_carriageway          1.082328  0.781342\n",
      "23               hit_object_off_carriageway          2.795802  0.592558\n",
      "24                    first_point_of_impact          8.076652  0.088810\n",
      "25                journey_purpose_of_driver          3.451831  0.485240\n",
      "26                            sex_of_driver          0.782371  0.376417\n",
      "27                          propulsion_code          2.069502  0.722977\n",
      "28                       engine_capacity_cc          1.850269  0.604057\n",
      "29                           age_of_vehicle          3.734137  0.712602\n"
     ]
    }
   ],
   "source": [
    "import pandas as pd\n",
    "from scipy.stats import chi2_contingency\n",
    "\n",
    "# Assuming df is your dataframe\n",
    "\n",
    "# 1. Sample the dataset\n",
    "sampled_df = df.sample(n=10000, random_state=42)\n",
    "\n",
    "# 2. Perform the chi-square test\n",
    "categorical_columns = df.select_dtypes(include=['object', 'category']).columns.tolist()\n",
    "\n",
    "results = []\n",
    "\n",
    "for col in categorical_columns:\n",
    "    contingency_table = pd.crosstab(index=df[col], columns=\"original_count\")\n",
    "    contingency_table_sample = pd.crosstab(index=sampled_df[col], columns=\"sample_count\")\n",
    "    combined_table = contingency_table.join(contingency_table_sample).fillna(0)\n",
    "    chi2, p_value, _, _ = chi2_contingency(combined_table)\n",
    "    \n",
    "    results.append({\n",
    "        'Predictor': col,\n",
    "        'Chi-Square Value': chi2,\n",
    "        'p-value': p_value\n",
    "    })\n",
    "\n",
    "# 3. Convert results to a DataFrame for better display\n",
    "results_df = pd.DataFrame(results)\n",
    "\n",
    "print(results_df)\n"
   ]
  },
  {
   "cell_type": "code",
   "execution_count": 891,
   "id": "fcf28c75",
   "metadata": {},
   "outputs": [
    {
     "name": "stdout",
     "output_type": "stream",
     "text": [
      "Chi-square Value: 1.3093442642533253\n",
      "p-value: 0.5196123988738026\n",
      "The distributions are not statistically different.\n"
     ]
    }
   ],
   "source": [
    "import pandas as pd\n",
    "from scipy.stats import chi2_contingency\n",
    "\n",
    "# Assuming df is the original dataset and df_sample is the sampled dataset\n",
    "original_dist = df['accident_severity'].value_counts()\n",
    "sample_dist = sampled_df['accident_severity'].value_counts()\n",
    "\n",
    "# Create a contingency table\n",
    "contingency = pd.DataFrame({\n",
    "    'Original': original_dist,\n",
    "    'Sample': sample_dist\n",
    "}).fillna(0)\n",
    "\n",
    "# Chi-square test of independence\n",
    "chi2, p, _, _ = chi2_contingency(contingency)\n",
    "\n",
    "print(\"Chi-square Value:\", chi2)\n",
    "print(\"p-value:\", p)\n",
    "\n",
    "if p < 0.05:\n",
    "    print(\"The distributions are statistically different.\")\n",
    "else:\n",
    "    print(\"The distributions are not statistically different.\")\n"
   ]
  },
  {
   "cell_type": "code",
   "execution_count": 892,
   "id": "2aa1ea55",
   "metadata": {},
   "outputs": [],
   "source": [
    " sampled_df.to_csv('D:/Dissertation/Dataset/Analysis/SampleData.csv', index=False)"
   ]
  },
  {
   "cell_type": "code",
   "execution_count": null,
   "id": "78078af7",
   "metadata": {},
   "outputs": [],
   "source": []
  }
 ],
 "metadata": {
  "kernelspec": {
   "display_name": "Python 3 (ipykernel)",
   "language": "python",
   "name": "python3"
  },
  "language_info": {
   "codemirror_mode": {
    "name": "ipython",
    "version": 3
   },
   "file_extension": ".py",
   "mimetype": "text/x-python",
   "name": "python",
   "nbconvert_exporter": "python",
   "pygments_lexer": "ipython3",
   "version": "3.9.12"
  }
 },
 "nbformat": 4,
 "nbformat_minor": 5
}
